{
 "metadata": {
  "language_info": {
   "codemirror_mode": {
    "name": "ipython",
    "version": 3
   },
   "file_extension": ".py",
   "mimetype": "text/x-python",
   "name": "python",
   "nbconvert_exporter": "python",
   "pygments_lexer": "ipython3",
   "version": "3.7.10"
  },
  "orig_nbformat": 4,
  "kernelspec": {
   "name": "python3",
   "display_name": "Python 3.7.10 64-bit ('conproject1': conda)"
  },
  "interpreter": {
   "hash": "6ccd7b78eb6a6c3a52a79276d9fb6d37b3cabd2c506329237398ffb109c648b1"
  }
 },
 "nbformat": 4,
 "nbformat_minor": 2,
 "cells": [
  {
   "cell_type": "code",
   "execution_count": 1,
   "metadata": {},
   "outputs": [],
   "source": [
    "### If at any point you're receiving the following TypeError message:\n",
    "#### TypeError: Cannot interpret '<attribute 'dtype' of 'numpy.generic' objects>' as a data type\n",
    "\n",
    "### Check the compatibility of your versions of numpy and pandas:\n",
    "#print(np.__version__)\n",
    "#print(pd.__version__)\n",
    "\n",
    "### Run installers if necessary\n",
    "##!pip install numpy==1.16.5 --user\n",
    "##!pip install pandas==0.25.3 --user\n",
    "\n"
   ]
  },
  {
   "cell_type": "code",
   "execution_count": 18,
   "metadata": {},
   "outputs": [],
   "source": [
    "### Import libraries and dependencies\n",
    "### Since the environments created in class have specific libraries attached, some of the libraries have been disabled.\n",
    "### Will have to look into how to accommodate everything.\n",
    "\n",
    "#import panel as pn\n",
    "#pn.extension('plotly')\n",
    "#import plotly.express as px\n",
    "import pandas as pd\n",
    "#import hvplot.pandas\n",
    "import matplotlib.pyplot as plt\n",
    "import numpy as np\n",
    "import os\n",
    "from pathlib import Path\n",
    "from dotenv import load_dotenv\n",
    "#import alpaca_trade_api as tradeapi\n",
    "#from MCForecastTools import MCSimulation\n",
    "import json, requests\n",
    "from pandas.io.json import json_normalize"
   ]
  },
  {
   "source": [
    "# Project Proposal and Outline\n",
    "Our project demonstrates different ways in which Python can take in large sets of historical data, how it can sort through the unwanted data, and how it can then display the cleaned up data into more visually-appealing mediums. Data will be collected and worked from various sources, including APIs, CSVs, and JSONs.\n",
    "\n",
    "However, the core intent of our project is to serve as a learning aid, or at least to lay the foundation to create one. By weaving the functions of Python into a larger narrative, we hope to make learning some of its complexities a little less complex and a little more memorable, especially for those of us who tend to think so far out of the box, we're not even aware there is one."
   ],
   "cell_type": "markdown",
   "metadata": {}
  },
  {
   "source": [
    "# Intro Sequence"
   ],
   "cell_type": "markdown",
   "metadata": {}
  },
  {
   "source": [
    "```\n",
    "for badges_earned in badge_case:\n",
    "    if badges_earned == 'intro':\n",
    "        chatter('The_Good_Knight: \"Looks like you\\'ve already completed the intro. Nice going!')\n",
    "    else:\n",
    "        chatter('The_Good_Knight: \"Hey, {user_name}! Looks like we\\'ve still got work to do. Let\\'s mosey!\"')"
   ],
   "cell_type": "markdown",
   "metadata": {}
  },
  {
   "cell_type": "code",
   "execution_count": 4,
   "metadata": {},
   "outputs": [
    {
     "output_type": "stream",
     "name": "stdout",
     "text": [
      "Scarlet: \"Hey there! You must be my help for the day. I'm Scarlet. What's your name?\"\n",
      "\n",
      "Hello!\n",
      "\n",
      "['Scarlet: \"Hey there! You must be my help for the day. I\\'m Scarlet. What\\'s your name?\"\\n', 'Hello!\\n'] \n",
      "\n",
      "Scarlet: \"Hey there! You must be my help for the day. I'm Scarlet. What's your name?\"\n",
      "\n",
      "Hello!\n"
     ]
    }
   ],
   "source": [
    "### Function that prints text one character at a time\n",
    "### https://stackoverflow.com/questions/4627033/printing-a-string-with-a-little-delay-between-the-chars\n",
    "\n",
    "import time\n",
    "import sys\n",
    "# blah = \"This is written slowly\\n\"\n",
    "# for l in blah:\n",
    "#     sys.stdout.write(l)\n",
    "#     sys.stdout.flush()\n",
    "#     time.sleep(0.2)\n",
    "\n",
    "# text = \"Hello, this is a test text to see if all works fine.\"\n",
    "# for char in text:\n",
    "#     sys.stdout.write(char)\n",
    "#     time.sleep(0.2)\n",
    "\n",
    "from random import randrange\n",
    "\n",
    "npc_chatter = []\n",
    "scarlet_chatter = 'Scarlet: \"Hey there! You must be my help for the day. I\\'m Scarlet. What\\'s your name?\"\\n'\n",
    "def chatter(npc_chatter):\n",
    "    for c in npc_chatter:\n",
    "        sys.stdout.write(c)     # output {scarlet_text} to the console\n",
    "        sys.stdout.flush()      # flush the internal buffer; causes text to appear at set intervals\n",
    "        secs = '0.0' + str(randrange(5,20,1))     # set a range to randomize the interval at which the text is \"typed\"\n",
    "        secs = float(secs)      # set {secs} as a float\n",
    "        time.sleep(secs)        # outpout text at randomized intervals\n",
    "npc_chatter.append(scarlet_chatter)\n",
    "chatter(scarlet_chatter)\n",
    "print()\n",
    "\n",
    "other_chatter = 'Hello!\\n'\n",
    "npc_chatter.append(other_chatter)\n",
    "chatter(other_chatter)\n",
    "print()\n",
    "\n",
    "print(npc_chatter, '\\n')\n",
    "\n",
    "chatter(scarlet_chatter)\n",
    "print()\n",
    "chatter(other_chatter)"
   ]
  },
  {
   "cell_type": "code",
   "execution_count": 5,
   "metadata": {},
   "outputs": [
    {
     "output_type": "stream",
     "name": "stdout",
     "text": [
      "BEEP.BOOP..\n",
      "..BOOT.STATE.INITIALIZED..\n",
      "........LOADING.DRIVERS..\n",
      "......INITIALIZING.CASE.STUDIES..\n",
      "..ERROR...ERR.R...REIN.TI.L.ZIN..\n",
      "..BOOT.S..................\n",
      "..........A..N..D........\n",
      "...................CA....T....S.."
     ]
    }
   ],
   "source": [
    "### Just for fun\n",
    "chatter('BEEP.BOOP..')\n",
    "print()\n",
    "chatter('..BOOT.STATE.INITIALIZED..')\n",
    "print()\n",
    "chatter('........LOADING.DRIVERS..')\n",
    "print()\n",
    "chatter('......INITIALIZING.CASE.STUDIES..')\n",
    "print()\n",
    "chatter('..ERROR...ERR.R...REIN.TI.L.ZIN..')\n",
    "print()\n",
    "chatter('..BOOT.S..................')\n",
    "print()\n",
    "chatter('..........A..N..D........')\n",
    "print()\n",
    "chatter('...................CA....T....S..')"
   ]
  },
  {
   "source": [
    "# Pokemon TCG API\n",
    "##"
   ],
   "cell_type": "markdown",
   "metadata": {}
  },
  {
   "cell_type": "code",
   "execution_count": 6,
   "metadata": {
    "tags": []
   },
   "outputs": [
    {
     "output_type": "stream",
     "name": "stdout",
     "text": [
      "https://api.pokemontcg.io/v2/cards\n"
     ]
    }
   ],
   "source": [
    "### Created var to hold url to Pokemon TCG API\n",
    "url_pkmn_io = 'https://api.pokemontcg.io/v2/cards'\n",
    "print(url_pkmn_io)"
   ]
  },
  {
   "cell_type": "code",
   "execution_count": 7,
   "metadata": {},
   "outputs": [
    {
     "output_type": "stream",
     "name": "stdout",
     "text": [
      "https://api.pokemontcg.io/v2/cards?format=json\n"
     ]
    }
   ],
   "source": [
    "### Added format specifier to request url\n",
    "\n",
    "json_pkmn_io = url_pkmn_io + '?format=json'\n",
    "print(json_pkmn_io)"
   ]
  },
  {
   "cell_type": "code",
   "execution_count": 8,
   "metadata": {},
   "outputs": [
    {
     "output_type": "stream",
     "name": "stdout",
     "text": [
      "<Response [200]>\n\n <class 'requests.models.Response'>\n"
     ]
    }
   ],
   "source": [
    "### Executed GET request and store response\n",
    "requests_pkmn_io = requests.get(json_pkmn_io)\n",
    "print(requests_pkmn_io)\n",
    "print('\\n', type(requests_pkmn_io))"
   ]
  },
  {
   "cell_type": "code",
   "execution_count": 9,
   "metadata": {
    "tags": [
     "outputPrepend"
    ]
   },
   "outputs": [
    {
     "output_type": "stream",
     "name": "stdout",
     "text": [
      "emontcg.io/tcgplayer/sm3-3\",\"updatedAt\":\"2021/07/16\",\"prices\":{\"normal\":{\"low\":0.15,\"mid\":0.29,\"high\":1.13,\"market\":0.24,\"directLow\":0.23},\"reverseHolofoil\":{\"low\":0.18,\"mid\":0.4,\"high\":2.0,\"market\":0.27,\"directLow\":0.27}}}},{\"id\":\"xy2-5\",\"name\":\"Seedot\",\"supertype\":\"Pok\\xc3\\xa9mon\",\"subtypes\":[\"Basic\"],\"hp\":\"50\",\"types\":[\"Grass\"],\"evolvesTo\":[\"Nuzleaf\"],\"attacks\":[{\"name\":\"Call for Family\",\"cost\":[\"Colorless\"],\"convertedEnergyCost\":1,\"damage\":\"\",\"text\":\"Search your deck for a Basic Pok\\xc3\\xa9mon and put it onto your Bench. Shuffle your deck afterward.\"}],\"weaknesses\":[{\"type\":\"Fire\",\"value\":\"\\xc3\\x972\"}],\"retreatCost\":[\"Colorless\"],\"convertedRetreatCost\":1,\"set\":{\"id\":\"xy2\",\"name\":\"Flashfire\",\"series\":\"XY\",\"printedTotal\":106,\"total\":109,\"legalities\":{\"unlimited\":\"Legal\",\"expanded\":\"Legal\"},\"ptcgoCode\":\"FLF\",\"releaseDate\":\"2014/05/07\",\"updatedAt\":\"2018/03/04 10:35:00\",\"images\":{\"symbol\":\"https://images.pokemontcg.io/xy2/symbol.png\",\"logo\":\"https://images.pokemontcg.io/xy2/logo.png\"}},\"number\":\"5\",\"artist\":\"Naoyo Kimura\",\"rarity\":\"Common\",\"flavorText\":\"It attaches itself to a tree branch using the top of its head. Strong winds can sometimes make it fall.\",\"nationalPokedexNumbers\":[273],\"legalities\":{\"unlimited\":\"Legal\",\"expanded\":\"Legal\"},\"images\":{\"small\":\"https://images.pokemontcg.io/xy2/5.png\",\"large\":\"https://images.pokemontcg.io/xy2/5_hires.png\"},\"tcgplayer\":{\"url\":\"https://prices.pokemontcg.io/tcgplayer/xy2-5\",\"updatedAt\":\"2021/07/16\",\"prices\":{\"normal\":{\"low\":0.06,\"mid\":0.23,\"high\":1.0,\"market\":0.13,\"directLow\":null},\"reverseHolofoil\":{\"low\":0.24,\"mid\":0.32,\"high\":1.95,\"market\":0.25,\"directLow\":0.24}}}},{\"id\":\"det1-5\",\"name\":\"Charizard\",\"supertype\":\"Pok\\xc3\\xa9mon\",\"subtypes\":[\"Stage 2\"],\"hp\":\"180\",\"types\":[\"Fire\"],\"evolvesFrom\":\"Charmeleon\",\"attacks\":[{\"name\":\"Slash\",\"cost\":[\"Fire\",\"Colorless\",\"Colorless\"],\"convertedEnergyCost\":3,\"damage\":\"70\",\"text\":\"\"},{\"name\":\"Wild Tackle\",\"cost\":[\"Fire\",\"Colorless\",\"Colorless\",\"Colorless\"],\"convertedEnergyCost\":4,\"damage\":\"180\",\"text\":\"This Pok\\xc3\\xa9mon does 50 damage to itself.\"}],\"weaknesses\":[{\"type\":\"Water\",\"value\":\"\\xc3\\x972\"}],\"retreatCost\":[\"Colorless\",\"Colorless\",\"Colorless\"],\"convertedRetreatCost\":3,\"set\":{\"id\":\"det1\",\"name\":\"Detective Pikachu\",\"series\":\"Sun \\\\u0026 Moon\",\"printedTotal\":18,\"total\":18,\"legalities\":{\"unlimited\":\"Legal\",\"standard\":\"Legal\",\"expanded\":\"Legal\"},\"ptcgoCode\":\"DET\",\"releaseDate\":\"2019/04/05\",\"updatedAt\":\"2019/04/25 22:26:00\",\"images\":{\"symbol\":\"https://images.pokemontcg.io/det1/symbol.png\",\"logo\":\"https://images.pokemontcg.io/det1/logo.png\"}},\"number\":\"5\",\"artist\":\"Framestore\",\"rarity\":\"Rare Ultra\",\"flavorText\":\"When expelling a blast of superhot fire, the red flame at the tip of its tail burns more intensely.\",\"nationalPokedexNumbers\":[6],\"legalities\":{\"unlimited\":\"Legal\",\"standard\":\"Legal\",\"expanded\":\"Legal\"},\"images\":{\"small\":\"https://images.pokemontcg.io/det1/5.png\",\"large\":\"https://images.pokemontcg.io/det1/5_hires.png\"},\"tcgplayer\":{\"url\":\"https://prices.pokemontcg.io/tcgplayer/det1-5\",\"updatedAt\":\"2021/07/16\",\"prices\":{\"holofoil\":{\"low\":6.96,\"mid\":12.09,\"high\":29.95,\"market\":9.87,\"directLow\":9.9}}}},{\"id\":\"ex14-2\",\"name\":\"Blastoise \\xce\\xb4\",\"supertype\":\"Pok\\xc3\\xa9mon\",\"subtypes\":[\"Stage 2\"],\"hp\":\"110\",\"types\":[\"Fighting\",\"Metal\"],\"evolvesFrom\":\"Wartortle\",\"rules\":[\"This Pok\\xc3\\xa9mon is both Fighting Metal type.\"],\"abilities\":[{\"name\":\"Shield Veil\",\"text\":\"Each of your Active Pok\\xc3\\xa9mon has no Weakness.\",\"type\":\"Pok\\xc3\\xa9-Body\"}],\"attacks\":[{\"name\":\"Enraged Linear Attack\",\"cost\":[\"Fighting\",\"Colorless\"],\"convertedEnergyCost\":2,\"damage\":\"\",\"text\":\"Choose 1 of your opponent\\'s Pok\\xc3\\xa9mon. This attack does 10 damage for each damage counter on Blastoise to that Pok\\xc3\\xa9mon. (Don\\'t apply Weakness and Resistance for Benched Pok\\xc3\\xa9mon.)\"},{\"name\":\"Skull Bash\",\"cost\":[\"Metal\",\"Colorless\",\"Colorless\"],\"convertedEnergyCost\":3,\"damage\":\"60\",\"text\":\"\"}],\"weaknesses\":[{\"type\":\"Lightning\",\"value\":\"\\xc3\\x972\"}],\"retreatCost\":[\"Colorless\",\"Colorless\",\"Colorless\"],\"convertedRetreatCost\":3,\"set\":{\"id\":\"ex14\",\"name\":\"Crystal Guardians\",\"series\":\"EX\",\"printedTotal\":100,\"total\":100,\"legalities\":{\"unlimited\":\"Legal\"},\"ptcgoCode\":\"CG\",\"releaseDate\":\"2006/08/01\",\"updatedAt\":\"2018/03/04 10:35:00\",\"images\":{\"symbol\":\"https://images.pokemontcg.io/ex14/symbol.png\",\"logo\":\"https://images.pokemontcg.io/ex14/logo.png\"}},\"number\":\"2\",\"artist\":\"Masakazu Fukuda\",\"rarity\":\"Rare Holo\",\"nationalPokedexNumbers\":[9],\"legalities\":{\"unlimited\":\"Legal\"},\"images\":{\"small\":\"https://images.pokemontcg.io/ex14/2.png\",\"large\":\"https://images.pokemontcg.io/ex14/2_hires.png\"},\"tcgplayer\":{\"url\":\"https://prices.pokemontcg.io/tcgplayer/ex14-2\",\"updatedAt\":\"2021/07/16\",\"prices\":{\"holofoil\":{\"low\":29.99,\"mid\":62.45,\"high\":74.95,\"market\":53.06,\"directLow\":null},\"reverseHolofoil\":{\"low\":39.99,\"mid\":67.5,\"high\":90.0,\"market\":106.27,\"directLow\":null}}}},{\"id\":\"xy1-3\",\"name\":\"Weedle\",\"supertype\":\"Pok\\xc3\\xa9mon\",\"subtypes\":[\"Basic\"],\"hp\":\"50\",\"types\":[\"Grass\"],\"evolvesTo\":[\"Kakuna\"],\"attacks\":[{\"name\":\"Leaf Munch\",\"cost\":[\"Grass\"],\"convertedEnergyCost\":1,\"damage\":\"10+\",\"text\":\"If your opponent\\'s Active Pok\\xc3\\xa9mon is a Grass Pok\\xc3\\xa9mon, this attack does 20 more damage.\"}],\"weaknesses\":[{\"type\":\"Fire\",\"value\":\"\\xc3\\x972\"}],\"retreatCost\":[\"Colorless\"],\"convertedRetreatCost\":1,\"set\":{\"id\":\"xy1\",\"name\":\"XY\",\"series\":\"XY\",\"printedTotal\":146,\"total\":146,\"legalities\":{\"unlimited\":\"Legal\",\"expanded\":\"Legal\"},\"ptcgoCode\":\"XY\",\"releaseDate\":\"2014/02/05\",\"updatedAt\":\"2018/03/04 10:35:00\",\"images\":{\"symbol\":\"https://images.pokemontcg.io/xy1/symbol.png\",\"logo\":\"https://images.pokemontcg.io/xy1/logo.png\"}},\"number\":\"3\",\"artist\":\"Suwama Chiaki\",\"rarity\":\"Common\",\"flavorText\":\"Often found in forests and grasslands. It has a sharp, toxic barb of around two inches on top of its head.\",\"nationalPokedexNumbers\":[13],\"legalities\":{\"unlimited\":\"Legal\",\"expanded\":\"Legal\"},\"images\":{\"small\":\"https://images.pokemontcg.io/xy1/3.png\",\"large\":\"https://images.pokemontcg.io/xy1/3_hires.png\"},\"tcgplayer\":{\"url\":\"https://prices.pokemontcg.io/tcgplayer/xy1-3\",\"updatedAt\":\"2021/07/16\",\"prices\":{\"normal\":{\"low\":0.06,\"mid\":0.25,\"high\":1.0,\"market\":0.2,\"directLow\":null},\"reverseHolofoil\":{\"low\":0.25,\"mid\":0.5,\"high\":1.95,\"market\":0.41,\"directLow\":null}}}},{\"id\":\"ex9-5\",\"name\":\"Groudon\",\"supertype\":\"Pok\\xc3\\xa9mon\",\"subtypes\":[\"Basic\"],\"hp\":\"80\",\"types\":[\"Fighting\"],\"attacks\":[{\"name\":\"Slash\",\"cost\":[\"Fighting\"],\"convertedEnergyCost\":1,\"damage\":\"10\",\"text\":\"\"},{\"name\":\"Rock Tumble\",\"cost\":[\"Fighting\",\"Colorless\",\"Colorless\"],\"convertedEnergyCost\":3,\"damage\":\"40\",\"text\":\"This attack\\'s damage isn\\'t affected by Resistance.\"}],\"weaknesses\":[{\"type\":\"Water\",\"value\":\"\\xc3\\x972\"}],\"retreatCost\":[\"Colorless\"],\"convertedRetreatCost\":1,\"set\":{\"id\":\"ex9\",\"name\":\"Emerald\",\"series\":\"EX\",\"printedTotal\":106,\"total\":106,\"legalities\":{\"unlimited\":\"Legal\"},\"ptcgoCode\":\"EM\",\"releaseDate\":\"2005/05/01\",\"updatedAt\":\"2020/02/08 09:00:00\",\"images\":{\"symbol\":\"https://images.pokemontcg.io/ex9/symbol.png\",\"logo\":\"https://images.pokemontcg.io/ex9/logo.png\"}},\"number\":\"5\",\"artist\":\"Kouki Saitou\",\"rarity\":\"Rare Holo\",\"nationalPokedexNumbers\":[383],\"legalities\":{\"unlimited\":\"Legal\"},\"images\":{\"small\":\"https://images.pokemontcg.io/ex9/5.png\",\"large\":\"https://images.pokemontcg.io/ex9/5_hires.png\"},\"tcgplayer\":{\"url\":\"https://prices.pokemontcg.io/tcgplayer/ex9-5\",\"updatedAt\":\"2021/07/16\",\"prices\":{\"holofoil\":{\"low\":9.0,\"mid\":14.63,\"high\":25.0,\"market\":14.67,\"directLow\":null},\"reverseHolofoil\":{\"low\":19.99,\"mid\":20.0,\"high\":29.99,\"market\":17.49,\"directLow\":null}}}},{\"id\":\"sm5-4\",\"name\":\"Roselia\",\"supertype\":\"Pok\\xc3\\xa9mon\",\"subtypes\":[\"Basic\"],\"hp\":\"70\",\"types\":[\"Grass\"],\"evolvesTo\":[\"Roserade\"],\"attacks\":[{\"name\":\"Petal Dance\",\"cost\":[\"Grass\",\"Colorless\"],\"convertedEnergyCost\":2,\"damage\":\"30\\xc3\\x97\",\"text\":\"Flip 3 coins. This attack does 30 damage for each heads. This Pok\\xc3\\xa9mon is now Confused.\"}],\"weaknesses\":[{\"type\":\"Fire\",\"value\":\"\\xc3\\x972\"}],\"retreatCost\":[\"Colorless\"],\"convertedRetreatCost\":1,\"set\":{\"id\":\"sm5\",\"name\":\"Ultra Prism\",\"series\":\"Sun \\\\u0026 Moon\",\"printedTotal\":156,\"total\":156,\"legalities\":{\"unlimited\":\"Legal\",\"expanded\":\"Legal\"},\"ptcgoCode\":\"UPR\",\"releaseDate\":\"2018/02/02\",\"updatedAt\":\"2019/02/19 23:25:00\",\"images\":{\"symbol\":\"https://images.pokemontcg.io/sm5/symbol.png\",\"logo\":\"https://images.pokemontcg.io/sm5/logo.png\"}},\"number\":\"4\",\"artist\":\"Kyoko Umemoto\",\"rarity\":\"Common\",\"flavorText\":\"Roselia that drink nutritionally rich springwater are said to reveal rare coloration when they bloom.\",\"nationalPokedexNumbers\":[315],\"legalities\":{\"unlimited\":\"Legal\",\"expanded\":\"Legal\"},\"images\":{\"small\":\"https://images.pokemontcg.io/sm5/4.png\",\"large\":\"https://images.pokemontcg.io/sm5/4_hires.png\"},\"tcgplayer\":{\"url\":\"https://prices.pokemontcg.io/tcgplayer/sm5-4\",\"updatedAt\":\"2021/07/16\",\"prices\":{\"normal\":{\"low\":0.05,\"mid\":0.2,\"high\":1.97,\"market\":0.1,\"directLow\":0.1},\"reverseHolofoil\":{\"low\":0.09,\"mid\":0.3,\"high\":1.95,\"market\":0.21,\"directLow\":0.16}}}},{\"id\":\"base5-3\",\"name\":\"Dark Blastoise\",\"supertype\":\"Pok\\xc3\\xa9mon\",\"subtypes\":[\"Stage 2\"],\"level\":\"28\",\"hp\":\"70\",\"types\":[\"Water\"],\"evolvesFrom\":\"Dark Wartortle\",\"attacks\":[{\"name\":\"Hydrocannon\",\"cost\":[\"Water\",\"Water\"],\"convertedEnergyCost\":2,\"damage\":\"30+\",\"text\":\"Does 30 damage plus 20 more damage for each Water Energy attached to Dark Blastoise but not used to pay for this attack. You can\\'t add more than 40 damage in this way.\"},{\"name\":\"Rocket Tackle\",\"cost\":[\"Water\",\"Colorless\",\"Colorless\"],\"convertedEnergyCost\":3,\"damage\":\"40\",\"text\":\"Dark Blastoise does 10 damage to itself. Flip a coin. If heads, prevent all damage done to Dark Blastoise during your opponent\\'s next turn. (Any other effects of attacks still happen.)\"}],\"weaknesses\":[{\"type\":\"Lightning\",\"value\":\"\\xc3\\x972\"}],\"retreatCost\":[\"Colorless\",\"Colorless\"],\"convertedRetreatCost\":2,\"set\":{\"id\":\"base5\",\"name\":\"Team Rocket\",\"series\":\"Base\",\"printedTotal\":83,\"total\":83,\"legalities\":{\"unlimited\":\"Legal\"},\"ptcgoCode\":\"TR\",\"releaseDate\":\"2000/04/24\",\"updatedAt\":\"2020/08/14 09:35:00\",\"images\":{\"symbol\":\"https://images.pokemontcg.io/base5/symbol.png\",\"logo\":\"https://images.pokemontcg.io/base5/logo.png\"}},\"number\":\"3\",\"artist\":\"Mitsuhiro Arita\",\"rarity\":\"Rare Holo\",\"flavorText\":\"An aggressive Pok\\xc3\\xa9mon that tackles anything it sees.\",\"nationalPokedexNumbers\":[9],\"legalities\":{\"unlimited\":\"Legal\"},\"images\":{\"small\":\"https://images.pokemontcg.io/base5/3.png\",\"large\":\"https://images.pokemontcg.io/base5/3_hires.png\"},\"tcgplayer\":{\"url\":\"https://prices.pokemontcg.io/tcgplayer/base5-3\",\"updatedAt\":\"2021/07/16\",\"prices\":{\"holofoil\":{\"low\":50.99,\"mid\":99.0,\"high\":151.19,\"market\":99.79,\"directLow\":null},\"1stEditionHolofoil\":{\"low\":181.99,\"mid\":215.65,\"high\":499.99,\"market\":272.34,\"directLow\":null}}}},{\"id\":\"dp4-4\",\"name\":\"Darkrai\",\"supertype\":\"Pok\\xc3\\xa9mon\",\"subtypes\":[\"Basic\"],\"level\":\"40\",\"hp\":\"80\",\"types\":[\"Darkness\"],\"attacks\":[{\"name\":\"Darkness Roar\",\"cost\":[\"Colorless\"],\"convertedEnergyCost\":1,\"damage\":\"10\",\"text\":\"You may have your opponent switch the Defending Pok\\xc3\\xa9mon with 1 or his or her Benched Pok\\xc3\\xa9mon.\"},{\"name\":\"Sleep Hole\",\"cost\":[\"Darkness\",\"Darkness\",\"Colorless\"],\"convertedEnergyCost\":3,\"damage\":\"40+\",\"text\":\"If the Defending Pok\\xc3\\xa9mon is Asleep, this attack does 40 damage plus 40 more damage. If the Defending Pok\\xc3\\xa9mon is not Asleep, that Pok\\xc3\\xa9mon is now Asleep.\"}],\"weaknesses\":[{\"type\":\"Fighting\",\"value\":\"+20\"}],\"resistances\":[{\"type\":\"Psychic\",\"value\":\"-20\"}],\"retreatCost\":[\"Colorless\"],\"convertedRetreatCost\":1,\"set\":{\"id\":\"dp4\",\"name\":\"Great Encounters\",\"series\":\"Diamond \\\\u0026 Pearl\",\"printedTotal\":106,\"total\":106,\"legalities\":{\"unlimited\":\"Legal\"},\"ptcgoCode\":\"GE\",\"releaseDate\":\"2008/02/01\",\"updatedAt\":\"2018/03/04 10:35:00\",\"images\":{\"symbol\":\"https://images.pokemontcg.io/dp4/symbol.png\",\"logo\":\"https://images.pokemontcg.io/dp4/logo.png\"}},\"number\":\"4\",\"artist\":\"Ryo Ueda\",\"rarity\":\"Rare Holo\",\"flavorText\":\"It can lull people to sleep and make them dream. It is active during nights of the new moon.\",\"nationalPokedexNumbers\":[491],\"legalities\":{\"unlimited\":\"Legal\"},\"images\":{\"small\":\"https://images.pokemontcg.io/dp4/4.png\",\"large\":\"https://images.pokemontcg.io/dp4/4_hires.png\"},\"tcgplayer\":{\"url\":\"https://prices.pokemontcg.io/tcgplayer/dp4-4\",\"updatedAt\":\"2021/07/16\",\"prices\":{\"holofoil\":{\"low\":4.5,\"mid\":5.75,\"high\":8.0,\"market\":4.43,\"directLow\":null},\"reverseHolofoil\":{\"low\":2.62,\"mid\":3.5,\"high\":4.5,\"market\":3.25,\"directLow\":null}}}},{\"id\":\"dpp-DP04\",\"name\":\"Pachirisu\",\"supertype\":\"Pok\\xc3\\xa9mon\",\"subtypes\":[\"Basic\"],\"hp\":\"70\",\"types\":[\"Lightning\"],\"attacks\":[{\"name\":\"Minor Errand-Running\",\"cost\":[\"Colorless\"],\"convertedEnergyCost\":1,\"damage\":\"\",\"text\":\"Search your deck for a basic Energy card, show it to your opponent, and put it into your hand. Shuffle your deck afterward.\"},{\"name\":\"Thunder Jolt\",\"cost\":[\"Lightning\"],\"convertedEnergyCost\":1,\"damage\":\"20\",\"text\":\"Flip a coin. If tails, Pachirisu does 10 damage to itself.\"}],\"weaknesses\":[{\"type\":\"Fighting\",\"value\":\"+20\"}],\"resistances\":[{\"type\":\"Metal\",\"value\":\"-20\"}],\"retreatCost\":[\"Colorless\"],\"convertedRetreatCost\":1,\"set\":{\"id\":\"dpp\",\"name\":\"DP Black Star Promos\",\"series\":\"Diamond \\\\u0026 Pearl\",\"printedTotal\":56,\"total\":56,\"legalities\":{\"unlimited\":\"Legal\"},\"ptcgoCode\":\"PR-DPP\",\"releaseDate\":\"2007/05/01\",\"updatedAt\":\"2020/08/14 09:35:00\",\"images\":{\"symbol\":\"https://images.pokemontcg.io/dpp/symbol.png\",\"logo\":\"https://images.pokemontcg.io/dpp/logo.png\"}},\"number\":\"DP04\",\"artist\":\"Atsuko Nishida\",\"rarity\":\"Promo\",\"flavorText\":\"It makes fur balls that crackle with static electricity. It stores them with berries in tree holes.\",\"nationalPokedexNumbers\":[417],\"legalities\":{\"unlimited\":\"Legal\"},\"images\":{\"small\":\"https://images.pokemontcg.io/dpp/DP04.png\",\"large\":\"https://images.pokemontcg.io/dpp/DP04_hires.png\"},\"tcgplayer\":{\"url\":\"https://prices.pokemontcg.io/tcgplayer/dpp-DP04\",\"updatedAt\":\"2021/07/16\",\"prices\":{\"holofoil\":{\"low\":1.29,\"mid\":4.44,\"high\":8.99,\"market\":2.31,\"directLow\":null}}}},{\"id\":\"bw11-4\",\"name\":\"Cherubi\",\"supertype\":\"Pok\\xc3\\xa9mon\",\"subtypes\":[\"Basic\"],\"hp\":\"40\",\"types\":[\"Grass\"],\"evolvesTo\":[\"Cherrim\"],\"attacks\":[{\"name\":\"Double Spin\",\"cost\":[\"Colorless\"],\"convertedEnergyCost\":1,\"damage\":\"10\\xc3\\x97\",\"text\":\"Flip 2 coins. This attack does 10 damage times the number of heads.\"}],\"weaknesses\":[{\"type\":\"Fire\",\"value\":\"\\xc3\\x972\"}],\"resistances\":[{\"type\":\"Water\",\"value\":\"-20\"}],\"retreatCost\":[\"Colorless\"],\"convertedRetreatCost\":1,\"set\":{\"id\":\"bw11\",\"name\":\"Legendary Treasures\",\"series\":\"Black \\\\u0026 White\",\"printedTotal\":113,\"total\":115,\"legalities\":{\"unlimited\":\"Legal\",\"expanded\":\"Legal\"},\"ptcgoCode\":\"LTR\",\"releaseDate\":\"2013/11/06\",\"updatedAt\":\"2018/03/04 10:35:00\",\"images\":{\"symbol\":\"https://images.pokemontcg.io/bw11/symbol.png\",\"logo\":\"https://images.pokemontcg.io/bw11/logo.png\"}},\"number\":\"4\",\"artist\":\"Atsuko Nishida\",\"rarity\":\"Uncommon\",\"flavorText\":\"The small ball is not only filled with nutrients, it is also tasty. Starly try to peck it off.\",\"nationalPokedexNumbers\":[420],\"legalities\":{\"unlimited\":\"Legal\",\"expanded\":\"Legal\"},\"images\":{\"small\":\"https://images.pokemontcg.io/bw11/4.png\",\"large\":\"https://images.pokemontcg.io/bw11/4_hires.png\"},\"tcgplayer\":{\"url\":\"https://prices.pokemontcg.io/tcgplayer/bw11-4\",\"updatedAt\":\"2021/07/16\",\"prices\":{\"normal\":{\"low\":0.14,\"mid\":0.35,\"high\":0.75,\"market\":0.37,\"directLow\":null},\"reverseHolofoil\":{\"low\":0.25,\"mid\":0.69,\"high\":6.24,\"market\":0.93,\"directLow\":null}}}},{\"id\":\"pop7-5\",\"name\":\"Mothim\",\"supertype\":\"Pok\\xc3\\xa9mon\",\"subtypes\":[\"Stage 1\"],\"level\":\"39\",\"hp\":\"80\",\"types\":[\"Grass\"],\"evolvesFrom\":\"Burmy\",\"attacks\":[{\"name\":\"Silver Wind\",\"cost\":[],\"convertedEnergyCost\":0,\"damage\":\"\",\"text\":\"During your next turn, if an attack does damage to the Defending Pok\\xc3\\xa9mon (after applying Weakness and Resistance), that attack does 40 more damage.\"},{\"name\":\"Raging Scales\",\"cost\":[\"Grass\",\"Colorless\"],\"convertedEnergyCost\":2,\"damage\":\"30+\",\"text\":\"If Mothim has any damage counters on it, this attack does 30 damage plus 40 more damage.\"}],\"weaknesses\":[{\"type\":\"Fire\",\"value\":\"+20\"}],\"resistances\":[{\"type\":\"Fighting\",\"value\":\"-20\"}],\"set\":{\"id\":\"pop7\",\"name\":\"POP Series 7\",\"series\":\"POP\",\"printedTotal\":17,\"total\":17,\"legalities\":{\"unlimited\":\"Legal\"},\"releaseDate\":\"2008/03/01\",\"updatedAt\":\"2018/03/04 10:35:00\",\"images\":{\"symbol\":\"https://images.pokemontcg.io/pop7/symbol.png\",\"logo\":\"https://images.pokemontcg.io/pop7/logo.png\"}},\"number\":\"5\",\"artist\":\"Kazuyuki Kano\",\"rarity\":\"Rare\",\"flavorText\":\"It loves the honey of flowers and steals honey collected by COMBEE.\",\"nationalPokedexNumbers\":[414],\"legalities\":{\"unlimited\":\"Legal\"},\"images\":{\"small\":\"https://images.pokemontcg.io/pop7/5.png\",\"large\":\"https://images.pokemontcg.io/pop7/5_hires.png\"},\"tcgplayer\":{\"url\":\"https://prices.pokemontcg.io/tcgplayer/pop7-5\",\"updatedAt\":\"2021/07/16\",\"prices\":{\"normal\":{\"low\":0.54,\"mid\":3.59,\"high\":10.0,\"market\":0.54,\"directLow\":null},\"holofoil\":{\"low\":0.43,\"mid\":1.08,\"high\":15.0,\"market\":1.64,\"directLow\":null}}}},{\"id\":\"hgss2-3\",\"name\":\"Manaphy\",\"supertype\":\"Pok\\xc3\\xa9mon\",\"subtypes\":[\"Basic\"],\"hp\":\"60\",\"types\":[\"Water\"],\"attacks\":[{\"name\":\"Deep Sea Swirl\",\"cost\":[\"Colorless\"],\"convertedEnergyCost\":1,\"damage\":\"\",\"text\":\"Shuffle your hand into your deck. Then, draw 5 cards.\"},{\"name\":\"Wave Splash\",\"cost\":[\"Water\"],\"convertedEnergyCost\":1,\"damage\":\"20\",\"text\":\"\"}],\"weaknesses\":[{\"type\":\"Lightning\",\"value\":\"\\xc3\\x972\"}],\"set\":{\"id\":\"hgss2\",\"name\":\"HS\\xe2\\x80\\x94Unleashed\",\"series\":\"HeartGold \\\\u0026 SoulSilver\",\"printedTotal\":95,\"total\":95,\"legalities\":{\"unlimited\":\"Legal\"},\"ptcgoCode\":\"UL\",\"releaseDate\":\"2010/05/12\",\"updatedAt\":\"2018/03/04 10:35:00\",\"images\":{\"symbol\":\"https://images.pokemontcg.io/hgss2/symbol.png\",\"logo\":\"https://images.pokemontcg.io/hgss2/logo.png\"}},\"number\":\"3\",\"artist\":\"Masakazu Fukuda\",\"rarity\":\"Rare Holo\",\"flavorText\":\"It starts its life with a wondrous power that permits it to bond with any kind of Pok\\xc3\\xa9mon.\",\"nationalPokedexNumbers\":[490],\"legalities\":{\"unlimited\":\"Legal\"},\"images\":{\"small\":\"https://images.pokemontcg.io/hgss2/3.png\",\"large\":\"https://images.pokemontcg.io/hgss2/3_hires.png\"},\"tcgplayer\":{\"url\":\"https://prices.pokemontcg.io/tcgplayer/hgss2-3\",\"updatedAt\":\"2021/07/16\",\"prices\":{\"holofoil\":{\"low\":0.99,\"mid\":4.35,\"high\":6.27,\"market\":3.45,\"directLow\":null},\"reverseHolofoil\":{\"low\":3.15,\"mid\":3.5,\"high\":5.0,\"market\":1.68,\"directLow\":null}}}},{\"id\":\"pop4-4\",\"name\":\"Mew\",\"supertype\":\"Pok\\xc3\\xa9mon\",\"subtypes\":[\"Basic\"],\"hp\":\"70\",\"types\":[\"Psychic\"],\"abilities\":[{\"name\":\"Reactive Barrier\",\"text\":\"As long as Mew has any React Energy cards attached to it, prevent all effects, excluding damage, done to Mew by attacks from your opponent\\'s Pok\\xc3\\xa9mon.\",\"type\":\"Pok\\xc3\\xa9-Body\"}],\"attacks\":[{\"name\":\"Psyshock\",\"cost\":[\"Psychic\",\"Colorless\"],\"convertedEnergyCost\":2,\"damage\":\"20\",\"text\":\"Flip a coin. If heads, the Defending Pok\\xc3\\xa9mon is now Paralyzed.\"}],\"weaknesses\":[{\"type\":\"Psychic\",\"value\":\"\\xc3\\x972\"}],\"retreatCost\":[\"Colorless\"],\"convertedRetreatCost\":1,\"set\":{\"id\":\"pop4\",\"name\":\"POP Series 4\",\"series\":\"POP\",\"printedTotal\":17,\"total\":17,\"legalities\":{\"unlimited\":\"Legal\"},\"releaseDate\":\"2006/08/01\",\"updatedAt\":\"2020/08/14 09:35:00\",\"images\":{\"symbol\":\"https://images.pokemontcg.io/pop4/symbol.png\",\"logo\":\"https://images.pokemontcg.io/pop4/logo.png\"}},\"number\":\"4\",\"artist\":\"Nakaoka\",\"rarity\":\"Rare\",\"nationalPokedexNumbers\":[151],\"legalities\":{\"unlimited\":\"Legal\"},\"images\":{\"small\":\"https://images.pokemontcg.io/pop4/4.png\",\"large\":\"https://images.pokemontcg.io/pop4/4_hires.png\"},\"tcgplayer\":{\"url\":\"https://prices.pokemontcg.io/tcgplayer/pop4-4\",\"updatedAt\":\"2021/07/16\",\"prices\":{\"normal\":{\"low\":17.28,\"mid\":31.14,\"high\":45.0,\"market\":49.99,\"directLow\":null},\"holofoil\":{\"low\":18.0,\"mid\":50.0,\"high\":62.68,\"market\":56.17,\"directLow\":null}}}}],\"page\":1,\"pageSize\":250,\"count\":250,\"totalCount\":13685}'\n\n <class 'bytes'>\n"
     ]
    }
   ],
   "source": [
    "### Got content and stored\n",
    "content_pkmn_io = requests_pkmn_io.content\n",
    "print(content_pkmn_io)\n",
    "print('\\n', type(content_pkmn_io))"
   ]
  },
  {
   "cell_type": "code",
   "execution_count": 10,
   "metadata": {
    "tags": [
     "outputPrepend"
    ]
   },
   "outputs": [
    {
     "output_type": "stream",
     "name": "stdout",
     "text": [
      "              \"url\": \"https://prices.pokemontcg.io/tcgplayer/base5-3\",\n                \"updatedAt\": \"2021/07/16\",\n                \"prices\": {\n                    \"holofoil\": {\n                        \"low\": 50.99,\n                        \"mid\": 99.0,\n                        \"high\": 151.19,\n                        \"market\": 99.79,\n                        \"directLow\": null\n                    },\n                    \"1stEditionHolofoil\": {\n                        \"low\": 181.99,\n                        \"mid\": 215.65,\n                        \"high\": 499.99,\n                        \"market\": 272.34,\n                        \"directLow\": null\n                    }\n                }\n            }\n        },\n        {\n            \"id\": \"dp4-4\",\n            \"name\": \"Darkrai\",\n            \"supertype\": \"Pok\\u00e9mon\",\n            \"subtypes\": [\n                \"Basic\"\n            ],\n            \"level\": \"40\",\n            \"hp\": \"80\",\n            \"types\": [\n                \"Darkness\"\n            ],\n            \"attacks\": [\n                {\n                    \"name\": \"Darkness Roar\",\n                    \"cost\": [\n                        \"Colorless\"\n                    ],\n                    \"convertedEnergyCost\": 1,\n                    \"damage\": \"10\",\n                    \"text\": \"You may have your opponent switch the Defending Pok\\u00e9mon with 1 or his or her Benched Pok\\u00e9mon.\"\n                },\n                {\n                    \"name\": \"Sleep Hole\",\n                    \"cost\": [\n                        \"Darkness\",\n                        \"Darkness\",\n                        \"Colorless\"\n                    ],\n                    \"convertedEnergyCost\": 3,\n                    \"damage\": \"40+\",\n                    \"text\": \"If the Defending Pok\\u00e9mon is Asleep, this attack does 40 damage plus 40 more damage. If the Defending Pok\\u00e9mon is not Asleep, that Pok\\u00e9mon is now Asleep.\"\n                }\n            ],\n            \"weaknesses\": [\n                {\n                    \"type\": \"Fighting\",\n                    \"value\": \"+20\"\n                }\n            ],\n            \"resistances\": [\n                {\n                    \"type\": \"Psychic\",\n                    \"value\": \"-20\"\n                }\n            ],\n            \"retreatCost\": [\n                \"Colorless\"\n            ],\n            \"convertedRetreatCost\": 1,\n            \"set\": {\n                \"id\": \"dp4\",\n                \"name\": \"Great Encounters\",\n                \"series\": \"Diamond & Pearl\",\n                \"printedTotal\": 106,\n                \"total\": 106,\n                \"legalities\": {\n                    \"unlimited\": \"Legal\"\n                },\n                \"ptcgoCode\": \"GE\",\n                \"releaseDate\": \"2008/02/01\",\n                \"updatedAt\": \"2018/03/04 10:35:00\",\n                \"images\": {\n                    \"symbol\": \"https://images.pokemontcg.io/dp4/symbol.png\",\n                    \"logo\": \"https://images.pokemontcg.io/dp4/logo.png\"\n                }\n            },\n            \"number\": \"4\",\n            \"artist\": \"Ryo Ueda\",\n            \"rarity\": \"Rare Holo\",\n            \"flavorText\": \"It can lull people to sleep and make them dream. It is active during nights of the new moon.\",\n            \"nationalPokedexNumbers\": [\n                491\n            ],\n            \"legalities\": {\n                \"unlimited\": \"Legal\"\n            },\n            \"images\": {\n                \"small\": \"https://images.pokemontcg.io/dp4/4.png\",\n                \"large\": \"https://images.pokemontcg.io/dp4/4_hires.png\"\n            },\n            \"tcgplayer\": {\n                \"url\": \"https://prices.pokemontcg.io/tcgplayer/dp4-4\",\n                \"updatedAt\": \"2021/07/16\",\n                \"prices\": {\n                    \"holofoil\": {\n                        \"low\": 4.5,\n                        \"mid\": 5.75,\n                        \"high\": 8.0,\n                        \"market\": 4.43,\n                        \"directLow\": null\n                    },\n                    \"reverseHolofoil\": {\n                        \"low\": 2.62,\n                        \"mid\": 3.5,\n                        \"high\": 4.5,\n                        \"market\": 3.25,\n                        \"directLow\": null\n                    }\n                }\n            }\n        },\n        {\n            \"id\": \"dpp-DP04\",\n            \"name\": \"Pachirisu\",\n            \"supertype\": \"Pok\\u00e9mon\",\n            \"subtypes\": [\n                \"Basic\"\n            ],\n            \"hp\": \"70\",\n            \"types\": [\n                \"Lightning\"\n            ],\n            \"attacks\": [\n                {\n                    \"name\": \"Minor Errand-Running\",\n                    \"cost\": [\n                        \"Colorless\"\n                    ],\n                    \"convertedEnergyCost\": 1,\n                    \"damage\": \"\",\n                    \"text\": \"Search your deck for a basic Energy card, show it to your opponent, and put it into your hand. Shuffle your deck afterward.\"\n                },\n                {\n                    \"name\": \"Thunder Jolt\",\n                    \"cost\": [\n                        \"Lightning\"\n                    ],\n                    \"convertedEnergyCost\": 1,\n                    \"damage\": \"20\",\n                    \"text\": \"Flip a coin. If tails, Pachirisu does 10 damage to itself.\"\n                }\n            ],\n            \"weaknesses\": [\n                {\n                    \"type\": \"Fighting\",\n                    \"value\": \"+20\"\n                }\n            ],\n            \"resistances\": [\n                {\n                    \"type\": \"Metal\",\n                    \"value\": \"-20\"\n                }\n            ],\n            \"retreatCost\": [\n                \"Colorless\"\n            ],\n            \"convertedRetreatCost\": 1,\n            \"set\": {\n                \"id\": \"dpp\",\n                \"name\": \"DP Black Star Promos\",\n                \"series\": \"Diamond & Pearl\",\n                \"printedTotal\": 56,\n                \"total\": 56,\n                \"legalities\": {\n                    \"unlimited\": \"Legal\"\n                },\n                \"ptcgoCode\": \"PR-DPP\",\n                \"releaseDate\": \"2007/05/01\",\n                \"updatedAt\": \"2020/08/14 09:35:00\",\n                \"images\": {\n                    \"symbol\": \"https://images.pokemontcg.io/dpp/symbol.png\",\n                    \"logo\": \"https://images.pokemontcg.io/dpp/logo.png\"\n                }\n            },\n            \"number\": \"DP04\",\n            \"artist\": \"Atsuko Nishida\",\n            \"rarity\": \"Promo\",\n            \"flavorText\": \"It makes fur balls that crackle with static electricity. It stores them with berries in tree holes.\",\n            \"nationalPokedexNumbers\": [\n                417\n            ],\n            \"legalities\": {\n                \"unlimited\": \"Legal\"\n            },\n            \"images\": {\n                \"small\": \"https://images.pokemontcg.io/dpp/DP04.png\",\n                \"large\": \"https://images.pokemontcg.io/dpp/DP04_hires.png\"\n            },\n            \"tcgplayer\": {\n                \"url\": \"https://prices.pokemontcg.io/tcgplayer/dpp-DP04\",\n                \"updatedAt\": \"2021/07/16\",\n                \"prices\": {\n                    \"holofoil\": {\n                        \"low\": 1.29,\n                        \"mid\": 4.44,\n                        \"high\": 8.99,\n                        \"market\": 2.31,\n                        \"directLow\": null\n                    }\n                }\n            }\n        },\n        {\n            \"id\": \"bw11-4\",\n            \"name\": \"Cherubi\",\n            \"supertype\": \"Pok\\u00e9mon\",\n            \"subtypes\": [\n                \"Basic\"\n            ],\n            \"hp\": \"40\",\n            \"types\": [\n                \"Grass\"\n            ],\n            \"evolvesTo\": [\n                \"Cherrim\"\n            ],\n            \"attacks\": [\n                {\n                    \"name\": \"Double Spin\",\n                    \"cost\": [\n                        \"Colorless\"\n                    ],\n                    \"convertedEnergyCost\": 1,\n                    \"damage\": \"10\\u00d7\",\n                    \"text\": \"Flip 2 coins. This attack does 10 damage times the number of heads.\"\n                }\n            ],\n            \"weaknesses\": [\n                {\n                    \"type\": \"Fire\",\n                    \"value\": \"\\u00d72\"\n                }\n            ],\n            \"resistances\": [\n                {\n                    \"type\": \"Water\",\n                    \"value\": \"-20\"\n                }\n            ],\n            \"retreatCost\": [\n                \"Colorless\"\n            ],\n            \"convertedRetreatCost\": 1,\n            \"set\": {\n                \"id\": \"bw11\",\n                \"name\": \"Legendary Treasures\",\n                \"series\": \"Black & White\",\n                \"printedTotal\": 113,\n                \"total\": 115,\n                \"legalities\": {\n                    \"unlimited\": \"Legal\",\n                    \"expanded\": \"Legal\"\n                },\n                \"ptcgoCode\": \"LTR\",\n                \"releaseDate\": \"2013/11/06\",\n                \"updatedAt\": \"2018/03/04 10:35:00\",\n                \"images\": {\n                    \"symbol\": \"https://images.pokemontcg.io/bw11/symbol.png\",\n                    \"logo\": \"https://images.pokemontcg.io/bw11/logo.png\"\n                }\n            },\n            \"number\": \"4\",\n            \"artist\": \"Atsuko Nishida\",\n            \"rarity\": \"Uncommon\",\n            \"flavorText\": \"The small ball is not only filled with nutrients, it is also tasty. Starly try to peck it off.\",\n            \"nationalPokedexNumbers\": [\n                420\n            ],\n            \"legalities\": {\n                \"unlimited\": \"Legal\",\n                \"expanded\": \"Legal\"\n            },\n            \"images\": {\n                \"small\": \"https://images.pokemontcg.io/bw11/4.png\",\n                \"large\": \"https://images.pokemontcg.io/bw11/4_hires.png\"\n            },\n            \"tcgplayer\": {\n                \"url\": \"https://prices.pokemontcg.io/tcgplayer/bw11-4\",\n                \"updatedAt\": \"2021/07/16\",\n                \"prices\": {\n                    \"normal\": {\n                        \"low\": 0.14,\n                        \"mid\": 0.35,\n                        \"high\": 0.75,\n                        \"market\": 0.37,\n                        \"directLow\": null\n                    },\n                    \"reverseHolofoil\": {\n                        \"low\": 0.25,\n                        \"mid\": 0.69,\n                        \"high\": 6.24,\n                        \"market\": 0.93,\n                        \"directLow\": null\n                    }\n                }\n            }\n        },\n        {\n            \"id\": \"pop7-5\",\n            \"name\": \"Mothim\",\n            \"supertype\": \"Pok\\u00e9mon\",\n            \"subtypes\": [\n                \"Stage 1\"\n            ],\n            \"level\": \"39\",\n            \"hp\": \"80\",\n            \"types\": [\n                \"Grass\"\n            ],\n            \"evolvesFrom\": \"Burmy\",\n            \"attacks\": [\n                {\n                    \"name\": \"Silver Wind\",\n                    \"cost\": [],\n                    \"convertedEnergyCost\": 0,\n                    \"damage\": \"\",\n                    \"text\": \"During your next turn, if an attack does damage to the Defending Pok\\u00e9mon (after applying Weakness and Resistance), that attack does 40 more damage.\"\n                },\n                {\n                    \"name\": \"Raging Scales\",\n                    \"cost\": [\n                        \"Grass\",\n                        \"Colorless\"\n                    ],\n                    \"convertedEnergyCost\": 2,\n                    \"damage\": \"30+\",\n                    \"text\": \"If Mothim has any damage counters on it, this attack does 30 damage plus 40 more damage.\"\n                }\n            ],\n            \"weaknesses\": [\n                {\n                    \"type\": \"Fire\",\n                    \"value\": \"+20\"\n                }\n            ],\n            \"resistances\": [\n                {\n                    \"type\": \"Fighting\",\n                    \"value\": \"-20\"\n                }\n            ],\n            \"set\": {\n                \"id\": \"pop7\",\n                \"name\": \"POP Series 7\",\n                \"series\": \"POP\",\n                \"printedTotal\": 17,\n                \"total\": 17,\n                \"legalities\": {\n                    \"unlimited\": \"Legal\"\n                },\n                \"releaseDate\": \"2008/03/01\",\n                \"updatedAt\": \"2018/03/04 10:35:00\",\n                \"images\": {\n                    \"symbol\": \"https://images.pokemontcg.io/pop7/symbol.png\",\n                    \"logo\": \"https://images.pokemontcg.io/pop7/logo.png\"\n                }\n            },\n            \"number\": \"5\",\n            \"artist\": \"Kazuyuki Kano\",\n            \"rarity\": \"Rare\",\n            \"flavorText\": \"It loves the honey of flowers and steals honey collected by COMBEE.\",\n            \"nationalPokedexNumbers\": [\n                414\n            ],\n            \"legalities\": {\n                \"unlimited\": \"Legal\"\n            },\n            \"images\": {\n                \"small\": \"https://images.pokemontcg.io/pop7/5.png\",\n                \"large\": \"https://images.pokemontcg.io/pop7/5_hires.png\"\n            },\n            \"tcgplayer\": {\n                \"url\": \"https://prices.pokemontcg.io/tcgplayer/pop7-5\",\n                \"updatedAt\": \"2021/07/16\",\n                \"prices\": {\n                    \"normal\": {\n                        \"low\": 0.54,\n                        \"mid\": 3.59,\n                        \"high\": 10.0,\n                        \"market\": 0.54,\n                        \"directLow\": null\n                    },\n                    \"holofoil\": {\n                        \"low\": 0.43,\n                        \"mid\": 1.08,\n                        \"high\": 15.0,\n                        \"market\": 1.64,\n                        \"directLow\": null\n                    }\n                }\n            }\n        },\n        {\n            \"id\": \"hgss2-3\",\n            \"name\": \"Manaphy\",\n            \"supertype\": \"Pok\\u00e9mon\",\n            \"subtypes\": [\n                \"Basic\"\n            ],\n            \"hp\": \"60\",\n            \"types\": [\n                \"Water\"\n            ],\n            \"attacks\": [\n                {\n                    \"name\": \"Deep Sea Swirl\",\n                    \"cost\": [\n                        \"Colorless\"\n                    ],\n                    \"convertedEnergyCost\": 1,\n                    \"damage\": \"\",\n                    \"text\": \"Shuffle your hand into your deck. Then, draw 5 cards.\"\n                },\n                {\n                    \"name\": \"Wave Splash\",\n                    \"cost\": [\n                        \"Water\"\n                    ],\n                    \"convertedEnergyCost\": 1,\n                    \"damage\": \"20\",\n                    \"text\": \"\"\n                }\n            ],\n            \"weaknesses\": [\n                {\n                    \"type\": \"Lightning\",\n                    \"value\": \"\\u00d72\"\n                }\n            ],\n            \"set\": {\n                \"id\": \"hgss2\",\n                \"name\": \"HS\\u2014Unleashed\",\n                \"series\": \"HeartGold & SoulSilver\",\n                \"printedTotal\": 95,\n                \"total\": 95,\n                \"legalities\": {\n                    \"unlimited\": \"Legal\"\n                },\n                \"ptcgoCode\": \"UL\",\n                \"releaseDate\": \"2010/05/12\",\n                \"updatedAt\": \"2018/03/04 10:35:00\",\n                \"images\": {\n                    \"symbol\": \"https://images.pokemontcg.io/hgss2/symbol.png\",\n                    \"logo\": \"https://images.pokemontcg.io/hgss2/logo.png\"\n                }\n            },\n            \"number\": \"3\",\n            \"artist\": \"Masakazu Fukuda\",\n            \"rarity\": \"Rare Holo\",\n            \"flavorText\": \"It starts its life with a wondrous power that permits it to bond with any kind of Pok\\u00e9mon.\",\n            \"nationalPokedexNumbers\": [\n                490\n            ],\n            \"legalities\": {\n                \"unlimited\": \"Legal\"\n            },\n            \"images\": {\n                \"small\": \"https://images.pokemontcg.io/hgss2/3.png\",\n                \"large\": \"https://images.pokemontcg.io/hgss2/3_hires.png\"\n            },\n            \"tcgplayer\": {\n                \"url\": \"https://prices.pokemontcg.io/tcgplayer/hgss2-3\",\n                \"updatedAt\": \"2021/07/16\",\n                \"prices\": {\n                    \"holofoil\": {\n                        \"low\": 0.99,\n                        \"mid\": 4.35,\n                        \"high\": 6.27,\n                        \"market\": 3.45,\n                        \"directLow\": null\n                    },\n                    \"reverseHolofoil\": {\n                        \"low\": 3.15,\n                        \"mid\": 3.5,\n                        \"high\": 5.0,\n                        \"market\": 1.68,\n                        \"directLow\": null\n                    }\n                }\n            }\n        },\n        {\n            \"id\": \"pop4-4\",\n            \"name\": \"Mew\",\n            \"supertype\": \"Pok\\u00e9mon\",\n            \"subtypes\": [\n                \"Basic\"\n            ],\n            \"hp\": \"70\",\n            \"types\": [\n                \"Psychic\"\n            ],\n            \"abilities\": [\n                {\n                    \"name\": \"Reactive Barrier\",\n                    \"text\": \"As long as Mew has any React Energy cards attached to it, prevent all effects, excluding damage, done to Mew by attacks from your opponent's Pok\\u00e9mon.\",\n                    \"type\": \"Pok\\u00e9-Body\"\n                }\n            ],\n            \"attacks\": [\n                {\n                    \"name\": \"Psyshock\",\n                    \"cost\": [\n                        \"Psychic\",\n                        \"Colorless\"\n                    ],\n                    \"convertedEnergyCost\": 2,\n                    \"damage\": \"20\",\n                    \"text\": \"Flip a coin. If heads, the Defending Pok\\u00e9mon is now Paralyzed.\"\n                }\n            ],\n            \"weaknesses\": [\n                {\n                    \"type\": \"Psychic\",\n                    \"value\": \"\\u00d72\"\n                }\n            ],\n            \"retreatCost\": [\n                \"Colorless\"\n            ],\n            \"convertedRetreatCost\": 1,\n            \"set\": {\n                \"id\": \"pop4\",\n                \"name\": \"POP Series 4\",\n                \"series\": \"POP\",\n                \"printedTotal\": 17,\n                \"total\": 17,\n                \"legalities\": {\n                    \"unlimited\": \"Legal\"\n                },\n                \"releaseDate\": \"2006/08/01\",\n                \"updatedAt\": \"2020/08/14 09:35:00\",\n                \"images\": {\n                    \"symbol\": \"https://images.pokemontcg.io/pop4/symbol.png\",\n                    \"logo\": \"https://images.pokemontcg.io/pop4/logo.png\"\n                }\n            },\n            \"number\": \"4\",\n            \"artist\": \"Nakaoka\",\n            \"rarity\": \"Rare\",\n            \"nationalPokedexNumbers\": [\n                151\n            ],\n            \"legalities\": {\n                \"unlimited\": \"Legal\"\n            },\n            \"images\": {\n                \"small\": \"https://images.pokemontcg.io/pop4/4.png\",\n                \"large\": \"https://images.pokemontcg.io/pop4/4_hires.png\"\n            },\n            \"tcgplayer\": {\n                \"url\": \"https://prices.pokemontcg.io/tcgplayer/pop4-4\",\n                \"updatedAt\": \"2021/07/16\",\n                \"prices\": {\n                    \"normal\": {\n                        \"low\": 17.28,\n                        \"mid\": 31.14,\n                        \"high\": 45.0,\n                        \"market\": 49.99,\n                        \"directLow\": null\n                    },\n                    \"holofoil\": {\n                        \"low\": 18.0,\n                        \"mid\": 50.0,\n                        \"high\": 62.68,\n                        \"market\": 56.17,\n                        \"directLow\": null\n                    }\n                }\n            }\n        }\n    ],\n    \"page\": 1,\n    \"pageSize\": 250,\n    \"count\": 250,\n    \"totalCount\": 13685\n}\n\n <class 'dict'>\n"
     ]
    }
   ],
   "source": [
    "### Formated data as JSON\n",
    "data_pkmn_io = requests_pkmn_io.json()\n",
    "\n",
    "### Printed JSON with added indents\n",
    "print(json.dumps(data_pkmn_io, indent=4))\n",
    "\n",
    "### Gotten into the habit of checking the class type every step of the way, which has been pivotal in debugging in the past\n",
    "print('\\n', type(data_pkmn_io))"
   ]
  },
  {
   "cell_type": "code",
   "execution_count": 11,
   "metadata": {},
   "outputs": [],
   "source": [
    "### The Pokemon TCG API has a Python SDK. May explore this later\n",
    "\n",
    "### Loaded .env environment variables\n",
    "# load_token('token.env')\n",
    "# pokemon_tcg_api = os.getenv('pokemon_tcg_api_key')\n",
    "# print(type(pokemon_tcg_api))\n",
    "\n",
    "# import pokemontcgsdk\n",
    "# from pokemontcgsdk import Card\n",
    "# from pokemontcgsdk import Set\n",
    "# from pokemontcgsdk import Type\n",
    "# from pokemontcgsdk import Supertype\n",
    "# from pokemontcgsdk import Subtype\n",
    "# from pokemontcgsdk import Rarity\n",
    "\n",
    "# from pokemontcgsdk import RestClient\n",
    "# RestClient.configure('<add API here, or load from .env>')"
   ]
  },
  {
   "cell_type": "code",
   "execution_count": 12,
   "metadata": {},
   "outputs": [
    {
     "output_type": "execute_result",
     "data": {
      "text/plain": [
       "'Ampharos'"
      ]
     },
     "metadata": {},
     "execution_count": 12
    }
   ],
   "source": [
    "### Tested to call data from JSON\n",
    "data_pkmn_io['data'][0]['name']"
   ]
  },
  {
   "cell_type": "code",
   "execution_count": 13,
   "metadata": {},
   "outputs": [
    {
     "output_type": "stream",
     "name": "stdout",
     "text": [
      "User input: {''}\n\nReturned gfyId: []\n\n\"singlebluefeline\" \n\n[\n  \"dahyun\",\n  \"kpop\",\n  \"love foolish\",\n  \"twice\",\n  \"twice: world in a day\"\n]\n"
     ]
    }
   ],
   "source": [
    "### Article on searching through JSON with user input:\n",
    "### https://stackoverflow.com/questions/61046281/search-through-json-with-user-input-python\n",
    "### Base code from the example is featured here for testing\n",
    "\n",
    "url = \"https://api.gfycat.com/v1/users/jukebaet/gfycats?\"\n",
    "\n",
    "r = requests.get(url)\n",
    "\n",
    "text_json_example = json.loads(r.content)\n",
    "\n",
    "tags = set(input('What tags are looking for ? ').split(\" \"))\n",
    "print(f'User input: {tags}\\n')\n",
    "gfyids = []\n",
    "\n",
    "for g in text_json_example[\"gfycats\"]:\n",
    "    if tags.issubset(set(g[\"tags\"])):\n",
    "        gfyids.append(g['gfyId'])\n",
    "print(f'Returned gfyId: {gfyids}\\n')\n",
    "\n",
    "json.dump(text_json_example, open(\"testdump_example.json\", \"w\"), indent = 2)\n",
    "print(json.dumps(text_json_example['gfycats'][8]['gfyId'], indent=2), '\\n')\n",
    "print(json.dumps(text_json_example['gfycats'][8]['tags'], indent=2))"
   ]
  },
  {
   "cell_type": "code",
   "execution_count": 14,
   "metadata": {
    "tags": []
   },
   "outputs": [
    {
     "output_type": "stream",
     "name": "stdout",
     "text": [
      "{''}\n<class 'dict'>\n<class 'dict'>\n[]\nDone\n"
     ]
    }
   ],
   "source": [
    "### Used the method explained in the article with the Pokémon TCG API\n",
    "\n",
    "### Created new sets of variables for testing\n",
    "r_pkmn = requests.get(url_pkmn_io)\n",
    "json_pkmn = json.loads(r_pkmn.content)\n",
    "\n",
    "### Created var to hold user input\n",
    "user_input = set(input('What Pokémon cards are you looking for? ').split(' '))\n",
    "print(user_input)\n",
    "\n",
    "### Created var to hold card prices as lists (or dicts)\n",
    "card_prices = []\n",
    "\n",
    "### 'Type' tests\n",
    "print(type(json_pkmn))\n",
    "print(type(json_pkmn['data'][0]['tcgplayer']['prices']))\n",
    "\n",
    "### Used functions from examples\n",
    "for c in json_pkmn['data']:\n",
    "    if user_input.issubset(c['name']):\n",
    "        card_prices.append(set(c['prices']))\n",
    "\n",
    "print(card_prices)\n",
    "json.dump(json_pkmn, open(\"testdump.json\", \"w\"), indent = 2)\n",
    "print('Done')\n",
    "#print(f'{user_input}, huh? Let\\'s take a look at what it\\'s selling for right now.')"
   ]
  },
  {
   "cell_type": "code",
   "execution_count": 15,
   "metadata": {
    "tags": []
   },
   "outputs": [
    {
     "output_type": "stream",
     "name": "stdout",
     "text": [
      "\"Ampharos\" \n\n{\n  \"holofoil\": {\n    \"low\": 6.75,\n    \"mid\": 7.97,\n    \"high\": 10.99,\n    \"market\": 7.36,\n    \"directLow\": null\n  },\n  \"reverseHolofoil\": {\n    \"low\": 5.0,\n    \"mid\": 14.0,\n    \"high\": 16.36,\n    \"market\": 3.05,\n    \"directLow\": null\n  }\n}\n"
     ]
    }
   ],
   "source": [
    "### Test to call desired data from JSON\n",
    "print(json.dumps(json_pkmn['data'][0]['name'], indent=2), '\\n')\n",
    "print(json.dumps(json_pkmn['data'][0]['tcgplayer']['prices'], indent=2))"
   ]
  },
  {
   "cell_type": "code",
   "execution_count": 16,
   "metadata": {},
   "outputs": [
    {
     "output_type": "execute_result",
     "data": {
      "text/plain": [
       "0      {'id': 'pl1-1', 'name': 'Ampharos', 'supertype...\n",
       "1      {'id': 'det1-1', 'name': 'Bulbasaur', 'superty...\n",
       "2      {'id': 'mcd19-1', 'name': 'Caterpie', 'superty...\n",
       "3      {'id': 'dv1-1', 'name': 'Dratini', 'supertype'...\n",
       "4      {'id': 'xy5-1', 'name': 'Weedle', 'supertype':...\n",
       "                             ...                        \n",
       "245    {'id': 'dpp-DP04', 'name': 'Pachirisu', 'super...\n",
       "246    {'id': 'bw11-4', 'name': 'Cherubi', 'supertype...\n",
       "247    {'id': 'pop7-5', 'name': 'Mothim', 'supertype'...\n",
       "248    {'id': 'hgss2-3', 'name': 'Manaphy', 'supertyp...\n",
       "249    {'id': 'pop4-4', 'name': 'Mew', 'supertype': '...\n",
       "Name: data, Length: 250, dtype: object"
      ]
     },
     "metadata": {},
     "execution_count": 16
    }
   ],
   "source": [
    "### Moved on from the function. Instead, created a dataframe to work from\n",
    "#json.dump(data_pkmn_io, open(\"../resources/pkmn_tcg.json\", \"w\"), indent = 2)\n",
    "#df = pd.read_json('../resources/pkmn_tcg.json')\n",
    "json_pkmn_io = pd.read_json(content_pkmn_io)\n",
    "json_pkmn_io = json_pkmn_io['data']\n",
    "json_pkmn_io"
   ]
  },
  {
   "cell_type": "code",
   "execution_count": 19,
   "metadata": {},
   "outputs": [
    {
     "output_type": "stream",
     "name": "stdout",
     "text": [
      "<class 'pandas.core.frame.DataFrame'>\n",
      "<class 'pandas.core.frame.DataFrame'>\n",
      "C:\\Program Files (x86)\\Anaconda3\\envs\\conproject1\\lib\\site-packages\\ipykernel_launcher.py:8: FutureWarning: pandas.io.json.json_normalize is deprecated, use pandas.json_normalize instead\n",
      "  \n"
     ]
    },
    {
     "output_type": "execute_result",
     "data": {
      "text/plain": [
       "           tcgplayer.prices.holofoil.market  \\\n",
       "Name                                          \n",
       "Ampharos                               7.36   \n",
       "Bulbasaur                              0.34   \n",
       "Caterpie                               8.41   \n",
       "Dratini                                1.20   \n",
       "Weedle                                 0.00   \n",
       "...                                     ...   \n",
       "Pachirisu                              2.31   \n",
       "Cherubi                                0.00   \n",
       "Mothim                                 1.64   \n",
       "Manaphy                                3.45   \n",
       "Mew                                   56.17   \n",
       "\n",
       "           tcgplayer.prices.reverseHolofoil.market  \\\n",
       "Name                                                 \n",
       "Ampharos                                      3.05   \n",
       "Bulbasaur                                     0.00   \n",
       "Caterpie                                      0.00   \n",
       "Dratini                                       0.00   \n",
       "Weedle                                        0.28   \n",
       "...                                            ...   \n",
       "Pachirisu                                     0.00   \n",
       "Cherubi                                       0.93   \n",
       "Mothim                                        0.00   \n",
       "Manaphy                                       1.68   \n",
       "Mew                                           0.00   \n",
       "\n",
       "           tcgplayer.prices.normal.market  \\\n",
       "Name                                        \n",
       "Ampharos                             0.00   \n",
       "Bulbasaur                            0.00   \n",
       "Caterpie                             0.00   \n",
       "Dratini                              0.00   \n",
       "Weedle                               0.11   \n",
       "...                                   ...   \n",
       "Pachirisu                            0.00   \n",
       "Cherubi                              0.37   \n",
       "Mothim                               0.54   \n",
       "Manaphy                              0.00   \n",
       "Mew                                 49.99   \n",
       "\n",
       "           tcgplayer.prices.1stEditionHolofoil.market  \n",
       "Name                                                   \n",
       "Ampharos                                          0.0  \n",
       "Bulbasaur                                         0.0  \n",
       "Caterpie                                          0.0  \n",
       "Dratini                                           0.0  \n",
       "Weedle                                            0.0  \n",
       "...                                               ...  \n",
       "Pachirisu                                         0.0  \n",
       "Cherubi                                           0.0  \n",
       "Mothim                                            0.0  \n",
       "Manaphy                                           0.0  \n",
       "Mew                                               0.0  \n",
       "\n",
       "[250 rows x 4 columns]"
      ],
      "text/html": "<div>\n<style scoped>\n    .dataframe tbody tr th:only-of-type {\n        vertical-align: middle;\n    }\n\n    .dataframe tbody tr th {\n        vertical-align: top;\n    }\n\n    .dataframe thead th {\n        text-align: right;\n    }\n</style>\n<table border=\"1\" class=\"dataframe\">\n  <thead>\n    <tr style=\"text-align: right;\">\n      <th></th>\n      <th>tcgplayer.prices.holofoil.market</th>\n      <th>tcgplayer.prices.reverseHolofoil.market</th>\n      <th>tcgplayer.prices.normal.market</th>\n      <th>tcgplayer.prices.1stEditionHolofoil.market</th>\n    </tr>\n    <tr>\n      <th>Name</th>\n      <th></th>\n      <th></th>\n      <th></th>\n      <th></th>\n    </tr>\n  </thead>\n  <tbody>\n    <tr>\n      <th>Ampharos</th>\n      <td>7.36</td>\n      <td>3.05</td>\n      <td>0.00</td>\n      <td>0.0</td>\n    </tr>\n    <tr>\n      <th>Bulbasaur</th>\n      <td>0.34</td>\n      <td>0.00</td>\n      <td>0.00</td>\n      <td>0.0</td>\n    </tr>\n    <tr>\n      <th>Caterpie</th>\n      <td>8.41</td>\n      <td>0.00</td>\n      <td>0.00</td>\n      <td>0.0</td>\n    </tr>\n    <tr>\n      <th>Dratini</th>\n      <td>1.20</td>\n      <td>0.00</td>\n      <td>0.00</td>\n      <td>0.0</td>\n    </tr>\n    <tr>\n      <th>Weedle</th>\n      <td>0.00</td>\n      <td>0.28</td>\n      <td>0.11</td>\n      <td>0.0</td>\n    </tr>\n    <tr>\n      <th>...</th>\n      <td>...</td>\n      <td>...</td>\n      <td>...</td>\n      <td>...</td>\n    </tr>\n    <tr>\n      <th>Pachirisu</th>\n      <td>2.31</td>\n      <td>0.00</td>\n      <td>0.00</td>\n      <td>0.0</td>\n    </tr>\n    <tr>\n      <th>Cherubi</th>\n      <td>0.00</td>\n      <td>0.93</td>\n      <td>0.37</td>\n      <td>0.0</td>\n    </tr>\n    <tr>\n      <th>Mothim</th>\n      <td>1.64</td>\n      <td>0.00</td>\n      <td>0.54</td>\n      <td>0.0</td>\n    </tr>\n    <tr>\n      <th>Manaphy</th>\n      <td>3.45</td>\n      <td>1.68</td>\n      <td>0.00</td>\n      <td>0.0</td>\n    </tr>\n    <tr>\n      <th>Mew</th>\n      <td>56.17</td>\n      <td>0.00</td>\n      <td>49.99</td>\n      <td>0.0</td>\n    </tr>\n  </tbody>\n</table>\n<p>250 rows × 4 columns</p>\n</div>"
     },
     "metadata": {},
     "execution_count": 19
    }
   ],
   "source": [
    "### Pokémon card search ###\n",
    "\n",
    "### \n",
    "# with open('G:/Users/Saru/Desktop/Bootcamp/bcs-assignments/projects/bcs-project1/data-analysis/testdump.json','r') as f:\n",
    "#     data = json.loads(f.read())\n",
    "# df = pd.json_normalize(data, record_path=['data'])\n",
    "\n",
    "df = json_normalize(json_pkmn_io)\n",
    "df.set_index('name', inplace=True)\n",
    "print(type(df))\n",
    "\n",
    "market_df = df[df.columns[df.columns.str.contains('prices') & df.columns.str.contains('market')]]  \n",
    "print(type(market_df))\n",
    "# print(market_df.columns)\n",
    "\n",
    "### Can also use the following command if the order of the substrings in the columns is important/known\n",
    "# market_df = df[df.columns[df.columns.str.contains('prices.*market|set.*id|name|series')]]\n",
    "\n",
    "market_df = market_df.fillna(0)\n",
    "# market_df.columns = ['Market Price']\n",
    "market_df.index.rename('Name',inplace=True)\n",
    "market_df\n",
    "\n",
    "#card_search = input('What card are we searching for?')\n",
    "\n",
    "\n",
    "# df2 = pd.read_json('G:/Users/Saru/Desktop/Bootcamp/bcs-assignments/projects/bcs-project1/data-analysis/testdump.json')\n",
    "# df2 = pd.json_normalize(content_pkmn_io)#, record_path =['data'])\n",
    "# df2\n",
    "  \n",
    "# Normalizing data\n",
    "# df2 = pd.json_normalize(df2)"
   ]
  },
  {
   "cell_type": "code",
   "execution_count": null,
   "metadata": {},
   "outputs": [],
   "source": []
  }
 ]
}