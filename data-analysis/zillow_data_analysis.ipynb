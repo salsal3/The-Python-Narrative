{
 "metadata": {
  "language_info": {
   "codemirror_mode": {
    "name": "ipython",
    "version": 3
   },
   "file_extension": ".py",
   "mimetype": "text/x-python",
   "name": "python",
   "nbconvert_exporter": "python",
   "pygments_lexer": "ipython3",
   "version": "3.7.10"
  },
  "orig_nbformat": 4,
  "kernelspec": {
   "name": "python3",
   "display_name": "Python 3.7.10 64-bit ('pyvizenv': conda)"
  },
  "interpreter": {
   "hash": "2479012227af0461bb3f4d6dd6ff9e3c69c4820c80c42d6462fb153c64bcc1ad"
  }
 },
 "nbformat": 4,
 "nbformat_minor": 2,
 "cells": [
  {
   "cell_type": "code",
   "execution_count": 3,
   "source": [
    "# If at any point you're receiving the following TypeError message:\r\n",
    "## TypeError: Cannot interpret '<attribute 'dtype' of 'numpy.generic' objects>' as a data type\r\n",
    "# Check the compatibility of your versions of numpy and pandas:\r\n",
    "#print(np.__version__)\r\n",
    "#print(pd.__version__)\r\n",
    "\r\n",
    "##!pip install numpy==1.16.5 --user\r\n",
    "##!pip install pandas==0.25.3 --user\r\n",
    "\r\n",
    "# Import libraries and dependencies\r\n",
    "import panel as pn\r\n",
    "pn.extension('plotly')\r\n",
    "import plotly.express as px\r\n",
    "import pandas as pd\r\n",
    "import hvplot.pandas\r\n",
    "import matplotlib.pyplot as plt\r\n",
    "import numpy as np\r\n",
    "import os\r\n",
    "from pathlib import Path\r\n",
    "from dotenv import load_dotenv\r\n",
    "#import alpaca_trade_api as tradeapi\r\n",
    "#from MCForecastTools import MCSimulation\r\n",
    "import json, requests"
   ],
   "outputs": [],
   "metadata": {}
  },
  {
   "cell_type": "code",
   "execution_count": 4,
   "source": [
    "#Read in the Zillow CSV created in the data cleaning file\r\n",
    "\r\n",
    "zillow_data = pd.read_csv('../resources/Zillow_Data.csv',index_col='State')\r\n",
    "zillow_df = pd.DataFrame(zillow_data)\r\n",
    "\r\n",
    "\r\n",
    "#Create a pivot table to organize the data based on the regions in the selected state and.\r\n",
    "\r\n",
    "#br1_data_table = pd.DataFrame(zillow_df[zillow_df['1 BR Median Price'] > 0]).round(2)\r\n",
    "#br1_data_table = pd.DataFrame(br1_data_table[br1_data_table['1 BR Median Price']< 1400])\r\n",
    "#br1_data_table = pd.pivot_table(\r\n",
    "#    br1_data_table, \r\n",
    "#    index=['State','RegionName'],\r\n",
    "#    values=['1 BR Median Price']\r\n",
    "#)\r\n",
    "\r\n",
    "\r\n",
    "\r\n",
    "\r\n",
    "\r\n",
    "\r\n"
   ],
   "outputs": [],
   "metadata": {}
  },
  {
   "cell_type": "code",
   "execution_count": 5,
   "source": [
    "### Defining function to loosely simulate live typing\r\n",
    "import time\r\n",
    "import sys\r\n",
    "from random import randrange\r\n",
    "\r\n",
    "### Variable created to hold list of NPC text\r\n",
    "npc_chatter = []\r\n",
    "\r\n",
    "### Function is based off an example found in Stack Overflow\r\n",
    "def chatter(npc_chatter):\r\n",
    "    print()\r\n",
    "    for c in npc_chatter:\r\n",
    "        sys.stdout.write(c)\r\n",
    "        sys.stdout.flush()\r\n",
    "        secs = '0.0' + str(randrange(10,20,1))\r\n",
    "        secs = float(secs)\r\n",
    "        time.sleep(secs)\r\n",
    "    print()\r\n",
    "    time.sleep(1)\r\n"
   ],
   "outputs": [],
   "metadata": {}
  },
  {
   "cell_type": "markdown",
   "source": [
    "state = ''\r\n",
    "br_num = 0\r\n",
    "rent_budget = 0\r\n",
    "drop_data = []\r\n",
    "\r\n",
    "if br_num == 1:\r\n",
    "    drop_data = ['CountyName','Metro','2 BR Median Price','3 BR Median Price','4 BR Median Price','5+ BR Median Price']\r\n",
    "elif br_num == 2:\r\n",
    "    drop_data = ['CountyName','Metro','1 BR Median Price','3 BR Median Price','4 BR Median Price','5+ BR Median Price']\r\n",
    "elif br_num == 3:\r\n",
    "    drop_data = ['CountyName','Metro','1 BR Median Price','2 BR Median Price','4 BR Median Price','5+ BR Median Price']\r\n",
    "elif br_num == 4:\r\n",
    "    drop_data = ['CountyName','Metro','1 BR Median Price','2 BR Median Price','4 BR Median Price','5+ BR Median Price']\r\n",
    "elif br_num >= 5:\r\n",
    "    drop_data = ['CountyName','Metro','1 BR Median Price','2 BR Median Price','3 BR Median Price','4 BR Median Price']\r\n",
    "\r\n",
    "print(drop_data)"
   ],
   "metadata": {}
  },
  {
   "cell_type": "code",
   "execution_count": 6,
   "source": [
    "state = ''\r\n",
    "br_num = 0\r\n",
    "rent_budget = 0\r\n",
    "housing_options = []\r\n",
    "\r\n",
    "def rent_analysis(housing_options):\r\n",
    "     state = ''\r\n",
    "     br_num = 0\r\n",
    "     rent_budget = 0\r\n",
    "     \r\n",
    "     chatter('The_Good_Knight: \"So you\\'re looking for a new apartment? Let\\'s take a look and see what prices are looking like!\"')\r\n",
    "     chatter('The_Good_Knight: \"Where are you looking to live?\"')\r\n",
    "    \r\n",
    "     state = input('The_Good_Knight: \"Please enter the abbreviation of the state you would like to live in:\" ')\r\n",
    "\r\n",
    "     chatter(f'The_Good_Knight: \"{state}? Nice! How many bedrooms are you looking for?\"')\r\n",
    "\r\n",
    "     br_num = input('The_Good_Knight: \"Please enter the amount of bedrooms you\\'re looking for\"')\r\n",
    "     \r\n",
    "     #We converted this to a float to be able to compare them in the formula\r\n",
    "     br_num = float(br_num)\r\n",
    "\r\n",
    "     chatter(f'The_Good_Knight: \"Okay great! So you\\'re looking for a {br_num} bedroom apartment in {state}. Now all we need to know is what your budget is\"')\r\n",
    "\r\n",
    "     rent_budget = input('\"Please enter your budget for rent\"')\r\n",
    "     \r\n",
    "     #We converted this to a float to be able to compare them in the formula\r\n",
    "     rent_budget = float(rent_budget)\r\n",
    "\r\n",
    "\r\n",
    "\r\n",
    "     chatter(f'The_Good_Knight: \"Perfect! Let\\'s see what regions in {state} have {br_num} bedroom apartments that fit your budget in.\"')\r\n",
    "     \r\n",
    "     br1_data_table = pd.DataFrame(zillow_df[zillow_df['1 BR Median Price'] > 0]).round(2)\r\n",
    "     br1_data_table = pd.DataFrame(br1_data_table[br1_data_table['1 BR Median Price']< rent_budget])\r\n",
    "     br1_data_table = pd.pivot_table(\r\n",
    "         br1_data_table, \r\n",
    "         index=['State','RegionName'],\r\n",
    "         values=['1 BR Median Price']\r\n",
    "         )\r\n",
    "     \r\n",
    "     br2_data_table = pd.DataFrame(zillow_df[zillow_df['2 BR Median Price'] > 0]).round(2)\r\n",
    "     br2_data_table = pd.DataFrame(br2_data_table[br2_data_table['2 BR Median Price']< rent_budget])\r\n",
    "     br2_data_table = pd.pivot_table(\r\n",
    "         br2_data_table, \r\n",
    "         index=['State','RegionName'],\r\n",
    "         values=['2 BR Median Price']\r\n",
    "         )\r\n",
    "\r\n",
    "     br3_data_table = pd.DataFrame(zillow_df[zillow_df['3 BR Median Price'] > 0]).round(2)\r\n",
    "     br3_data_table = pd.DataFrame(br3_data_table[br3_data_table['3 BR Median Price']< rent_budget])\r\n",
    "     br3_data_table = pd.pivot_table(\r\n",
    "         br3_data_table, \r\n",
    "         index=['State','RegionName'],\r\n",
    "         values=['3 BR Median Price']\r\n",
    "         )\r\n",
    "     \r\n",
    "     br4_data_table = pd.DataFrame(zillow_df[zillow_df['4 BR Median Price'] > 0]).round(2)\r\n",
    "     br4_data_table = pd.DataFrame(br4_data_table[br4_data_table['4 BR Median Price']< rent_budget])\r\n",
    "     br4_data_table = pd.pivot_table(\r\n",
    "         br4_data_table, \r\n",
    "         index=['State','RegionName'],\r\n",
    "         values=['4 BR Median Price']\r\n",
    "         )\r\n",
    "     \r\n",
    "     br5_data_table = pd.DataFrame(zillow_df[zillow_df['5+ BR Median Price'] > 0]).round(2)\r\n",
    "     br5_data_table = pd.DataFrame(br5_data_table[br5_data_table['5+ BR Median Price']< rent_budget])\r\n",
    "     br5_data_table = pd.pivot_table(\r\n",
    "         br5_data_table, \r\n",
    "         index=['State','RegionName'],\r\n",
    "         values=['5+ BR Median Price']\r\n",
    "         )\r\n",
    "\r\n",
    "     if br_num == 1:\r\n",
    "         return br1_data_table.loc[f'{state}']\r\n",
    "     elif br_num == 2:\r\n",
    "         return br2_data_table.loc[f'{state}']\r\n",
    "     elif br_num == 3:\r\n",
    "         return br3_data_table.loc[f'{state}']\r\n",
    "     elif br_num == 4:\r\n",
    "         return br4_data_table.loc[f'{state}']\r\n",
    "     elif br_num == 5:\r\n",
    "         return br5_data_table.loc[f'{state}']\r\n",
    "     elif br_num >5:\r\n",
    "         return br5_data_table.loc[f'{state}']\r\n",
    "\r\n",
    "\r\n",
    "housing_options = rent_analysis(housing_options)\r\n",
    "print(housing_options)"
   ],
   "outputs": [
    {
     "output_type": "stream",
     "name": "stdout",
     "text": [
      "\n",
      "The_Good_Knight: \"So you're looking for a new apartment? Let's take a look and see what prices are looking like!\"\n",
      "\n",
      "The_Good_Knight: \"Where are you looking to live?\"\n",
      "\n",
      "The_Good_Knight: \"NJ? Nice! How many bedrooms are you looking for?\"\n",
      "\n",
      "The_Good_Knight: \"Okay great! So you're looking for a 2.0 bedroom apartment in NJ. Now all we need to know is what your budget is\"\n",
      "\n",
      "The_Good_Knight: \"Perfect! Let's see what regions in NJ have 2.0 bedroom apartments that fit your budget in.\"\n",
      "                          2 BR Median Price\n",
      "RegionName                                 \n",
      "Atlantic City                       1200.00\n",
      "Bayonne                              516.67\n",
      "Belleville                           855.00\n",
      "Bloomfield                           863.75\n",
      "Cherry Hill Township                 881.25\n",
      "Cliffside Park                      2375.00\n",
      "Clifton                             1700.00\n",
      "Collingswood                        1297.50\n",
      "East Orange                          533.33\n",
      "East Rutherford                     1237.50\n",
      "Edgewater                           1552.50\n",
      "Edison                               898.75\n",
      "Elizabeth                            516.67\n",
      "Englewood                           1387.50\n",
      "Evesham Township                     852.50\n",
      "Fort Lee                            1625.00\n",
      "Franklin Township                   2195.00\n",
      "Freehold                            1015.25\n",
      "Hackensack                          1111.25\n",
      "Harrison                            1370.00\n",
      "Hoboken                             1050.00\n",
      "Howell Township                     1775.00\n",
      "Irvington                            650.00\n",
      "Lawrence Township                   1815.00\n",
      "Lyndhurst                           1161.75\n",
      "Matawan                             1024.50\n",
      "Middletown Township                  600.00\n",
      "Montclair                           1050.00\n",
      "Morristown                          1475.00\n",
      "Neptune Township                     937.50\n",
      "New Brunswick                       1151.50\n",
      "North Brunswick Township             900.00\n",
      "Paterson                             466.67\n",
      "Piscataway                          1008.50\n",
      "Plainsboro Township                  857.50\n",
      "Pleasantville                       1260.00\n",
      "Princeton                           2990.00\n",
      "Red Bank                            2650.00\n",
      "Sayreville                          2110.00\n",
      "Secaucus                            1371.25\n",
      "Toms River                          1620.00\n",
      "Trenton                              525.00\n",
      "Union City                           700.00\n",
      "Weehawken                           1222.50\n"
     ]
    }
   ],
   "metadata": {}
  },
  {
   "cell_type": "code",
   "execution_count": 7,
   "source": [
    "chatter('The_Good_Knight: Now lets utilize a bar graph to take a look at your options')"
   ],
   "outputs": [
    {
     "output_type": "stream",
     "name": "stdout",
     "text": [
      "\n",
      "The_Good_Knight: Now lets utilize a bar graph to take a look at your options\n"
     ]
    }
   ],
   "metadata": {}
  },
  {
   "cell_type": "code",
   "execution_count": 8,
   "source": [
    "    housing_options.hvplot.bar(\r\n",
    "        label='Housing Options', rot=90\r\n",
    "    )"
   ],
   "outputs": [
    {
     "output_type": "display_data",
     "data": {},
     "metadata": {}
    },
    {
     "output_type": "execute_result",
     "data": {
      "application/vnd.holoviews_exec.v0+json": "",
      "text/plain": [
       ":Bars   [RegionName]   (2 BR Median Price)"
      ],
      "text/html": [
       "<div id='1002'>\n",
       "\n",
       "\n",
       "\n",
       "\n",
       "\n",
       "  <div class=\"bk-root\" id=\"9973132f-5711-48f9-8bec-cdc30b781621\" data-root-id=\"1002\"></div>\n",
       "</div>\n",
       "<script type=\"application/javascript\">(function(root) {\n",
       "  function embed_document(root) {\n",
       "    var docs_json = {\"c1f407a8-5a58-427e-94e3-e39792e046eb\":{\"defs\":[],\"roots\":{\"references\":[{\"attributes\":{\"bottom_units\":\"screen\",\"fill_alpha\":0.5,\"fill_color\":\"lightgrey\",\"left_units\":\"screen\",\"level\":\"overlay\",\"line_alpha\":1.0,\"line_color\":\"black\",\"line_dash\":[4,4],\"line_width\":2,\"right_units\":\"screen\",\"syncable\":false,\"top_units\":\"screen\"},\"id\":\"1028\",\"type\":\"BoxAnnotation\"},{\"attributes\":{},\"id\":\"1048\",\"type\":\"BasicTickFormatter\"},{\"attributes\":{},\"id\":\"1050\",\"type\":\"AllLabels\"},{\"attributes\":{\"text\":\"Housing Options\",\"text_color\":\"black\",\"text_font_size\":\"12pt\"},\"id\":\"1008\",\"type\":\"Title\"},{\"attributes\":{},\"id\":\"1060\",\"type\":\"UnionRenderers\"},{\"attributes\":{\"margin\":[5,5,5,5],\"name\":\"HSpacer01632\",\"sizing_mode\":\"stretch_width\"},\"id\":\"1071\",\"type\":\"Spacer\"},{\"attributes\":{\"source\":{\"id\":\"1036\"}},\"id\":\"1043\",\"type\":\"CDSView\"},{\"attributes\":{\"active_multi\":null,\"tools\":[{\"id\":\"1006\"},{\"id\":\"1023\"},{\"id\":\"1024\"},{\"id\":\"1025\"},{\"id\":\"1026\"},{\"id\":\"1027\"}]},\"id\":\"1029\",\"type\":\"Toolbar\"},{\"attributes\":{\"children\":[{\"id\":\"1003\"},{\"id\":\"1007\"},{\"id\":\"1071\"}],\"margin\":[0,0,0,0],\"name\":\"Row01627\",\"tags\":[\"embedded\"]},\"id\":\"1002\",\"type\":\"Row\"},{\"attributes\":{},\"id\":\"1046\",\"type\":\"AllLabels\"},{\"attributes\":{},\"id\":\"1023\",\"type\":\"SaveTool\"},{\"attributes\":{\"axis\":{\"id\":\"1019\"},\"dimension\":1,\"grid_line_color\":null,\"ticker\":null},\"id\":\"1022\",\"type\":\"Grid\"},{\"attributes\":{},\"id\":\"1024\",\"type\":\"PanTool\"},{\"attributes\":{},\"id\":\"1027\",\"type\":\"ResetTool\"},{\"attributes\":{\"fill_alpha\":{\"value\":0.1},\"fill_color\":{\"value\":\"#30a2da\"},\"line_alpha\":{\"value\":0.1},\"top\":{\"field\":\"A_2_BR_Median_Price\"},\"width\":{\"value\":0.8},\"x\":{\"field\":\"RegionName\"}},\"id\":\"1040\",\"type\":\"VBar\"},{\"attributes\":{},\"id\":\"1012\",\"type\":\"CategoricalScale\"},{\"attributes\":{\"end\":3242.333,\"reset_end\":3242.333,\"reset_start\":0.0,\"tags\":[[[\"2 BR Median Price\",\"2 BR Median Price\",null]]]},\"id\":\"1005\",\"type\":\"Range1d\"},{\"attributes\":{\"callback\":null,\"renderers\":[{\"id\":\"1042\"}],\"tags\":[\"hv_created\"],\"tooltips\":[[\"RegionName\",\"@{RegionName}\"],[\"2 BR Median Price\",\"@{A_2_BR_Median_Price}\"]]},\"id\":\"1006\",\"type\":\"HoverTool\"},{\"attributes\":{},\"id\":\"1025\",\"type\":\"WheelZoomTool\"},{\"attributes\":{\"margin\":[5,5,5,5],\"name\":\"HSpacer01631\",\"sizing_mode\":\"stretch_width\"},\"id\":\"1003\",\"type\":\"Spacer\"},{\"attributes\":{\"axis_label\":\"2 BR Median Price\",\"formatter\":{\"id\":\"1048\"},\"major_label_policy\":{\"id\":\"1050\"},\"ticker\":{\"id\":\"1020\"}},\"id\":\"1019\",\"type\":\"LinearAxis\"},{\"attributes\":{},\"id\":\"1014\",\"type\":\"LinearScale\"},{\"attributes\":{\"axis_label\":\"RegionName\",\"formatter\":{\"id\":\"1047\"},\"major_label_orientation\":1.5707963267948966,\"major_label_policy\":{\"id\":\"1046\"},\"ticker\":{\"id\":\"1017\"}},\"id\":\"1016\",\"type\":\"CategoricalAxis\"},{\"attributes\":{\"overlay\":{\"id\":\"1028\"}},\"id\":\"1026\",\"type\":\"BoxZoomTool\"},{\"attributes\":{},\"id\":\"1047\",\"type\":\"CategoricalTickFormatter\"},{\"attributes\":{\"fill_alpha\":{\"value\":0.2},\"fill_color\":{\"value\":\"#30a2da\"},\"line_alpha\":{\"value\":0.2},\"top\":{\"field\":\"A_2_BR_Median_Price\"},\"width\":{\"value\":0.8},\"x\":{\"field\":\"RegionName\"}},\"id\":\"1041\",\"type\":\"VBar\"},{\"attributes\":{\"data\":{\"A_2_BR_Median_Price\":{\"__ndarray__\":\"AAAAAADAkkCPwvUoXCWAQAAAAAAAuIpAAAAAAAD+ikAAAAAAAIqLQAAAAAAAjqJAAAAAAACQmkAAAAAAAEaUQHE9CtejqoBAAAAAAABWk0AAAAAAAEKYQAAAAAAAFoxAj8L1KFwlgEAAAAAAAK6VQAAAAAAApIpAAAAAAABkmUAAAAAAACahQAAAAAAAuo9AAAAAAABdkUAAAAAAAGiVQAAAAAAAaJBAAAAAAAC8m0AAAAAAAFCEQAAAAAAAXJxAAAAAAAAnkkAAAAAAAAKQQAAAAAAAwIJAAAAAAABokEAAAAAAAAyXQAAAAAAATI1AAAAAAAD+kUAAAAAAACCMQB+F61G4Kn1AAAAAAACEj0AAAAAAAMyKQAAAAAAAsJNAAAAAAABcp0AAAAAAALSkQAAAAAAAfKBAAAAAAABtlUAAAAAAAFCZQAAAAAAAaIBAAAAAAADghUAAAAAAABqTQA==\",\"dtype\":\"float64\",\"order\":\"little\",\"shape\":[44]},\"RegionName\":[\"Atlantic City\",\"Bayonne\",\"Belleville\",\"Bloomfield\",\"Cherry Hill Township\",\"Cliffside Park\",\"Clifton\",\"Collingswood\",\"East Orange\",\"East Rutherford\",\"Edgewater\",\"Edison\",\"Elizabeth\",\"Englewood\",\"Evesham Township\",\"Fort Lee\",\"Franklin Township\",\"Freehold\",\"Hackensack\",\"Harrison\",\"Hoboken\",\"Howell Township\",\"Irvington\",\"Lawrence Township\",\"Lyndhurst\",\"Matawan\",\"Middletown Township\",\"Montclair\",\"Morristown\",\"Neptune Township\",\"New Brunswick\",\"North Brunswick Township\",\"Paterson\",\"Piscataway\",\"Plainsboro Township\",\"Pleasantville\",\"Princeton\",\"Red Bank\",\"Sayreville\",\"Secaucus\",\"Toms River\",\"Trenton\",\"Union City\",\"Weehawken\"]},\"selected\":{\"id\":\"1037\"},\"selection_policy\":{\"id\":\"1060\"}},\"id\":\"1036\",\"type\":\"ColumnDataSource\"},{\"attributes\":{},\"id\":\"1017\",\"type\":\"CategoricalTicker\"},{\"attributes\":{},\"id\":\"1020\",\"type\":\"BasicTicker\"},{\"attributes\":{},\"id\":\"1037\",\"type\":\"Selection\"},{\"attributes\":{\"below\":[{\"id\":\"1016\"}],\"center\":[{\"id\":\"1018\"},{\"id\":\"1022\"}],\"height\":300,\"left\":[{\"id\":\"1019\"}],\"margin\":[5,5,5,5],\"min_border_bottom\":10,\"min_border_left\":10,\"min_border_right\":10,\"min_border_top\":10,\"renderers\":[{\"id\":\"1042\"}],\"sizing_mode\":\"fixed\",\"title\":{\"id\":\"1008\"},\"toolbar\":{\"id\":\"1029\"},\"width\":700,\"x_range\":{\"id\":\"1004\"},\"x_scale\":{\"id\":\"1012\"},\"y_range\":{\"id\":\"1005\"},\"y_scale\":{\"id\":\"1014\"}},\"id\":\"1007\",\"subtype\":\"Figure\",\"type\":\"Plot\"},{\"attributes\":{\"data_source\":{\"id\":\"1036\"},\"glyph\":{\"id\":\"1039\"},\"hover_glyph\":null,\"muted_glyph\":{\"id\":\"1041\"},\"nonselection_glyph\":{\"id\":\"1040\"},\"selection_glyph\":{\"id\":\"1044\"},\"view\":{\"id\":\"1043\"}},\"id\":\"1042\",\"type\":\"GlyphRenderer\"},{\"attributes\":{\"fill_color\":{\"value\":\"#30a2da\"},\"top\":{\"field\":\"A_2_BR_Median_Price\"},\"width\":{\"value\":0.8},\"x\":{\"field\":\"RegionName\"}},\"id\":\"1039\",\"type\":\"VBar\"},{\"attributes\":{\"bottom\":{\"value\":0},\"fill_alpha\":{\"value\":1.0},\"fill_color\":{\"value\":\"#30a2da\"},\"hatch_alpha\":{\"value\":1.0},\"hatch_color\":{\"value\":\"black\"},\"hatch_scale\":{\"value\":12.0},\"hatch_weight\":{\"value\":1.0},\"line_alpha\":{\"value\":1.0},\"line_cap\":{\"value\":\"butt\"},\"line_color\":{\"value\":\"black\"},\"line_dash\":{\"value\":[]},\"line_dash_offset\":{\"value\":0},\"line_join\":{\"value\":\"bevel\"},\"line_width\":{\"value\":1},\"top\":{\"field\":\"A_2_BR_Median_Price\"},\"width\":{\"value\":0.8},\"x\":{\"field\":\"RegionName\"}},\"id\":\"1044\",\"type\":\"VBar\"},{\"attributes\":{\"axis\":{\"id\":\"1016\"},\"grid_line_color\":null,\"ticker\":null},\"id\":\"1018\",\"type\":\"Grid\"},{\"attributes\":{\"factors\":[\"Atlantic City\",\"Bayonne\",\"Belleville\",\"Bloomfield\",\"Cherry Hill Township\",\"Cliffside Park\",\"Clifton\",\"Collingswood\",\"East Orange\",\"East Rutherford\",\"Edgewater\",\"Edison\",\"Elizabeth\",\"Englewood\",\"Evesham Township\",\"Fort Lee\",\"Franklin Township\",\"Freehold\",\"Hackensack\",\"Harrison\",\"Hoboken\",\"Howell Township\",\"Irvington\",\"Lawrence Township\",\"Lyndhurst\",\"Matawan\",\"Middletown Township\",\"Montclair\",\"Morristown\",\"Neptune Township\",\"New Brunswick\",\"North Brunswick Township\",\"Paterson\",\"Piscataway\",\"Plainsboro Township\",\"Pleasantville\",\"Princeton\",\"Red Bank\",\"Sayreville\",\"Secaucus\",\"Toms River\",\"Trenton\",\"Union City\",\"Weehawken\"],\"tags\":[[[\"RegionName\",\"RegionName\",null]]]},\"id\":\"1004\",\"type\":\"FactorRange\"}],\"root_ids\":[\"1002\"]},\"title\":\"Bokeh Application\",\"version\":\"2.3.2\"}};\n",
       "    var render_items = [{\"docid\":\"c1f407a8-5a58-427e-94e3-e39792e046eb\",\"root_ids\":[\"1002\"],\"roots\":{\"1002\":\"9973132f-5711-48f9-8bec-cdc30b781621\"}}];\n",
       "    root.Bokeh.embed.embed_items_notebook(docs_json, render_items);\n",
       "  }\n",
       "  if (root.Bokeh !== undefined && root.Bokeh.Panel !== undefined && root['Plotly'] !== undefined ) {\n",
       "    embed_document(root);\n",
       "  } else {\n",
       "    var attempts = 0;\n",
       "    var timer = setInterval(function(root) {\n",
       "      if (root.Bokeh !== undefined && root.Bokeh.Panel !== undefined && root['Plotly'] !== undefined) {\n",
       "        clearInterval(timer);\n",
       "        embed_document(root);\n",
       "      } else if (document.readyState == \"complete\") {\n",
       "        attempts++;\n",
       "        if (attempts > 100) {\n",
       "          clearInterval(timer);\n",
       "          console.log(\"Bokeh: ERROR: Unable to run BokehJS code because BokehJS library is missing\");\n",
       "        }\n",
       "      }\n",
       "    }, 10, root)\n",
       "  }\n",
       "})(window);</script>"
      ]
     },
     "metadata": {
      "application/vnd.holoviews_exec.v0+json": {
       "id": "1002"
      }
     },
     "execution_count": 8
    }
   ],
   "metadata": {}
  },
  {
   "cell_type": "code",
   "execution_count": 9,
   "source": [
    "chatter('The_Good_Knight: Intersting! Let\\'s see how much extra it\\'d cost to add an extra bedroom!')"
   ],
   "outputs": [
    {
     "output_type": "stream",
     "name": "stdout",
     "text": [
      "\n",
      "The_Good_Knight: Intersting! Let's see how much extra it'd cost to add an extra bedroom!\n"
     ]
    }
   ],
   "metadata": {}
  },
  {
   "cell_type": "code",
   "execution_count": null,
   "source": [],
   "outputs": [],
   "metadata": {}
  },
  {
   "cell_type": "code",
   "execution_count": 10,
   "source": [
    "housing_options_2 = ''\r\n",
    "\r\n",
    "def rent_comparison(housing_options_2):\r\n",
    "     state = ''\r\n",
    "     br_num = 0\r\n",
    "     rent_budget = 0\r\n",
    "     \r\n",
    "     chatter('The_Good_Knight: Intersting! Let\\'s see how much extra it\\'d cost to add an extra bedroom!')\r\n",
    "\r\n",
    "     chatter('The_Good_Knight: Please remind me, what were your original state of choice, budget, and size?')\r\n",
    "     \r\n",
    "     state = input('The_Good_Knight: \"Please enter the abbreviation of the state you would like to live in:\" ')\r\n",
    "\r\n",
    "     br_num = input('The_Good_Knight: \"Please enter the new amount of bedrooms you\\'re looking for:\"')\r\n",
    "     \r\n",
    "     #We converted this to a float to be able to compare them in the formula\r\n",
    "     br_num = float(br_num)\r\n",
    "\r\n",
    "     rent_budget = input('\"Please enter your budget for rent\"')\r\n",
    "     \r\n",
    "     #We converted this to a float to be able to compare them in the formula\r\n",
    "     rent_budget = float(rent_budget)\r\n",
    "\r\n",
    "     \r\n",
    "     br1_data_table = pd.DataFrame(zillow_df[zillow_df['1 BR Median Price'] > 0]).round(2)\r\n",
    "     br1_data_table = pd.DataFrame(br1_data_table[br1_data_table['1 BR Median Price']< rent_budget])\r\n",
    "     br1_data_table = pd.pivot_table(\r\n",
    "         br1_data_table, \r\n",
    "         index=['State','RegionName'],\r\n",
    "         values=['1 BR Median Price']\r\n",
    "         )\r\n",
    "     \r\n",
    "     br2_data_table = pd.DataFrame(zillow_df[zillow_df['2 BR Median Price'] > 0]).round(2)\r\n",
    "     br2_data_table = pd.DataFrame(br2_data_table[br2_data_table['2 BR Median Price']< rent_budget])\r\n",
    "     br2_data_table = pd.pivot_table(\r\n",
    "         br2_data_table, \r\n",
    "         index=['State','RegionName'],\r\n",
    "         values=['2 BR Median Price']\r\n",
    "         )\r\n",
    "\r\n",
    "     br3_data_table = pd.DataFrame(zillow_df[zillow_df['3 BR Median Price'] > 0]).round(2)\r\n",
    "     br3_data_table = pd.DataFrame(br3_data_table[br3_data_table['3 BR Median Price']< rent_budget])\r\n",
    "     br3_data_table = pd.pivot_table(\r\n",
    "         br3_data_table, \r\n",
    "         index=['State','RegionName'],\r\n",
    "         values=['3 BR Median Price']\r\n",
    "         )\r\n",
    "     \r\n",
    "     br4_data_table = pd.DataFrame(zillow_df[zillow_df['4 BR Median Price'] > 0]).round(2)\r\n",
    "     br4_data_table = pd.DataFrame(br4_data_table[br4_data_table['4 BR Median Price']< rent_budget])\r\n",
    "     br4_data_table = pd.pivot_table(\r\n",
    "         br4_data_table, \r\n",
    "         index=['State','RegionName'],\r\n",
    "         values=['4 BR Median Price']\r\n",
    "         )\r\n",
    "     \r\n",
    "     br5_data_table = pd.DataFrame(zillow_df[zillow_df['5+ BR Median Price'] > 0]).round(2)\r\n",
    "     br5_data_table = pd.DataFrame(br5_data_table[br5_data_table['5+ BR Median Price']< rent_budget])\r\n",
    "     br5_data_table = pd.pivot_table(\r\n",
    "         br5_data_table, \r\n",
    "         index=['State','RegionName'],\r\n",
    "         values=['5+ BR Median Price']\r\n",
    "         )\r\n",
    "\r\n",
    "     if br_num == 1:\r\n",
    "         return br1_data_table.loc[f'{state}']\r\n",
    "     elif br_num == 2:\r\n",
    "         return br2_data_table.loc[f'{state}']\r\n",
    "     elif br_num == 3:\r\n",
    "         return br3_data_table.loc[f'{state}']\r\n",
    "     elif br_num == 4:\r\n",
    "         return br4_data_table.loc[f'{state}']\r\n",
    "     elif br_num == 5:\r\n",
    "         return br5_data_table.loc[f'{state}']\r\n",
    "     elif br_num >5:\r\n",
    "         return br5_data_table.loc[f'{state}']\r\n",
    "\r\n",
    "\r\n",
    "housing_options_2 = rent_comparison(housing_options_2)\r\n",
    "print(housing_options_2)"
   ],
   "outputs": [
    {
     "output_type": "stream",
     "name": "stdout",
     "text": [
      "\n",
      "The_Good_Knight: Intersting! Let's see how much extra it'd cost to add an extra bedroom!\n",
      "\n",
      "The_Good_Knight: Please remind me, what were your original state of choice, budget, and size?\n",
      "                     3 BR Median Price\n",
      "RegionName                            \n",
      "Bayonne                         600.00\n",
      "East Orange                     550.00\n",
      "Elizabeth                       598.33\n",
      "Hoboken                        1333.33\n",
      "Irvington                       750.00\n",
      "Jersey City                     650.00\n",
      "Middletown Township             816.67\n",
      "Newark                          787.50\n",
      "Paterson                        533.33\n",
      "Union City                      766.67\n",
      "Weehawken                      1433.33\n"
     ]
    }
   ],
   "metadata": {}
  },
  {
   "cell_type": "code",
   "execution_count": null,
   "source": [
    "chatter('The_Good_Knight: Okay, now lets see what does bar graph looks like')"
   ],
   "outputs": [],
   "metadata": {}
  },
  {
   "cell_type": "code",
   "execution_count": 18,
   "source": [
    "    housing_options_2.hvplot.bar(\r\n",
    "        label='Housing Options', rot=90\r\n",
    "    )"
   ],
   "outputs": [
    {
     "output_type": "display_data",
     "data": {},
     "metadata": {}
    },
    {
     "output_type": "execute_result",
     "data": {
      "application/vnd.holoviews_exec.v0+json": "",
      "text/plain": [
       ":Bars   [RegionName]   (3 BR Median Price)"
      ],
      "text/html": [
       "<div id='1123'>\n",
       "\n",
       "\n",
       "\n",
       "\n",
       "\n",
       "  <div class=\"bk-root\" id=\"c8345089-c8f7-425d-9b7d-68d46361f31f\" data-root-id=\"1123\"></div>\n",
       "</div>\n",
       "<script type=\"application/javascript\">(function(root) {\n",
       "  function embed_document(root) {\n",
       "    var docs_json = {\"074ff71a-3826-4576-9709-2eb5c55fd17d\":{\"defs\":[],\"roots\":{\"references\":[{\"attributes\":{\"axis\":{\"id\":\"1137\"},\"grid_line_color\":null,\"ticker\":null},\"id\":\"1139\",\"type\":\"Grid\"},{\"attributes\":{},\"id\":\"1144\",\"type\":\"SaveTool\"},{\"attributes\":{\"source\":{\"id\":\"1157\"}},\"id\":\"1164\",\"type\":\"CDSView\"},{\"attributes\":{},\"id\":\"1145\",\"type\":\"PanTool\"},{\"attributes\":{\"bottom\":{\"value\":0},\"fill_alpha\":{\"value\":1.0},\"fill_color\":{\"value\":\"#30a2da\"},\"hatch_alpha\":{\"value\":1.0},\"hatch_color\":{\"value\":\"black\"},\"hatch_scale\":{\"value\":12.0},\"hatch_weight\":{\"value\":1.0},\"line_alpha\":{\"value\":1.0},\"line_cap\":{\"value\":\"butt\"},\"line_color\":{\"value\":\"black\"},\"line_dash\":{\"value\":[]},\"line_dash_offset\":{\"value\":0},\"line_join\":{\"value\":\"bevel\"},\"line_width\":{\"value\":1},\"top\":{\"field\":\"A_3_BR_Median_Price\"},\"width\":{\"value\":0.8},\"x\":{\"field\":\"RegionName\"}},\"id\":\"1165\",\"type\":\"VBar\"},{\"attributes\":{\"below\":[{\"id\":\"1137\"}],\"center\":[{\"id\":\"1139\"},{\"id\":\"1143\"}],\"height\":300,\"left\":[{\"id\":\"1140\"}],\"margin\":[5,5,5,5],\"min_border_bottom\":10,\"min_border_left\":10,\"min_border_right\":10,\"min_border_top\":10,\"renderers\":[{\"id\":\"1163\"}],\"sizing_mode\":\"fixed\",\"title\":{\"id\":\"1129\"},\"toolbar\":{\"id\":\"1150\"},\"width\":700,\"x_range\":{\"id\":\"1125\"},\"x_scale\":{\"id\":\"1133\"},\"y_range\":{\"id\":\"1126\"},\"y_scale\":{\"id\":\"1135\"}},\"id\":\"1128\",\"subtype\":\"Figure\",\"type\":\"Plot\"},{\"attributes\":{},\"id\":\"1148\",\"type\":\"ResetTool\"},{\"attributes\":{\"active_multi\":null,\"tools\":[{\"id\":\"1127\"},{\"id\":\"1144\"},{\"id\":\"1145\"},{\"id\":\"1146\"},{\"id\":\"1147\"},{\"id\":\"1148\"}]},\"id\":\"1150\",\"type\":\"Toolbar\"},{\"attributes\":{},\"id\":\"1146\",\"type\":\"WheelZoomTool\"},{\"attributes\":{\"fill_color\":{\"value\":\"#30a2da\"},\"top\":{\"field\":\"A_3_BR_Median_Price\"},\"width\":{\"value\":0.8},\"x\":{\"field\":\"RegionName\"}},\"id\":\"1160\",\"type\":\"VBar\"},{\"attributes\":{\"overlay\":{\"id\":\"1149\"}},\"id\":\"1147\",\"type\":\"BoxZoomTool\"},{\"attributes\":{\"data_source\":{\"id\":\"1157\"},\"glyph\":{\"id\":\"1160\"},\"hover_glyph\":null,\"muted_glyph\":{\"id\":\"1162\"},\"nonselection_glyph\":{\"id\":\"1161\"},\"selection_glyph\":{\"id\":\"1165\"},\"view\":{\"id\":\"1164\"}},\"id\":\"1163\",\"type\":\"GlyphRenderer\"},{\"attributes\":{\"axis_label\":\"RegionName\",\"formatter\":{\"id\":\"1168\"},\"major_label_orientation\":1.5707963267948966,\"major_label_policy\":{\"id\":\"1167\"},\"ticker\":{\"id\":\"1138\"}},\"id\":\"1137\",\"type\":\"CategoricalAxis\"},{\"attributes\":{},\"id\":\"1133\",\"type\":\"CategoricalScale\"},{\"attributes\":{\"children\":[{\"id\":\"1124\"},{\"id\":\"1128\"},{\"id\":\"1192\"}],\"margin\":[0,0,0,0],\"name\":\"Row01776\",\"tags\":[\"embedded\"]},\"id\":\"1123\",\"type\":\"Row\"},{\"attributes\":{},\"id\":\"1135\",\"type\":\"LinearScale\"},{\"attributes\":{},\"id\":\"1171\",\"type\":\"AllLabels\"},{\"attributes\":{},\"id\":\"1181\",\"type\":\"UnionRenderers\"},{\"attributes\":{\"margin\":[5,5,5,5],\"name\":\"HSpacer01780\",\"sizing_mode\":\"stretch_width\"},\"id\":\"1124\",\"type\":\"Spacer\"},{\"attributes\":{\"margin\":[5,5,5,5],\"name\":\"HSpacer01781\",\"sizing_mode\":\"stretch_width\"},\"id\":\"1192\",\"type\":\"Spacer\"},{\"attributes\":{},\"id\":\"1168\",\"type\":\"CategoricalTickFormatter\"},{\"attributes\":{},\"id\":\"1138\",\"type\":\"CategoricalTicker\"},{\"attributes\":{\"factors\":[\"Bayonne\",\"East Orange\",\"Elizabeth\",\"Hoboken\",\"Irvington\",\"Jersey City\",\"Middletown Township\",\"Newark\",\"Paterson\",\"Union City\",\"Weehawken\"],\"tags\":[[[\"RegionName\",\"RegionName\",null]]]},\"id\":\"1125\",\"type\":\"FactorRange\"},{\"attributes\":{\"end\":1523.33,\"reset_end\":1523.33,\"reset_start\":0.0,\"tags\":[[[\"3 BR Median Price\",\"3 BR Median Price\",null]]]},\"id\":\"1126\",\"type\":\"Range1d\"},{\"attributes\":{\"axis\":{\"id\":\"1140\"},\"dimension\":1,\"grid_line_color\":null,\"ticker\":null},\"id\":\"1143\",\"type\":\"Grid\"},{\"attributes\":{},\"id\":\"1169\",\"type\":\"BasicTickFormatter\"},{\"attributes\":{},\"id\":\"1141\",\"type\":\"BasicTicker\"},{\"attributes\":{},\"id\":\"1158\",\"type\":\"Selection\"},{\"attributes\":{\"axis_label\":\"3 BR Median Price\",\"formatter\":{\"id\":\"1169\"},\"major_label_policy\":{\"id\":\"1171\"},\"ticker\":{\"id\":\"1141\"}},\"id\":\"1140\",\"type\":\"LinearAxis\"},{\"attributes\":{\"fill_alpha\":{\"value\":0.2},\"fill_color\":{\"value\":\"#30a2da\"},\"line_alpha\":{\"value\":0.2},\"top\":{\"field\":\"A_3_BR_Median_Price\"},\"width\":{\"value\":0.8},\"x\":{\"field\":\"RegionName\"}},\"id\":\"1162\",\"type\":\"VBar\"},{\"attributes\":{\"bottom_units\":\"screen\",\"fill_alpha\":0.5,\"fill_color\":\"lightgrey\",\"left_units\":\"screen\",\"level\":\"overlay\",\"line_alpha\":1.0,\"line_color\":\"black\",\"line_dash\":[4,4],\"line_width\":2,\"right_units\":\"screen\",\"syncable\":false,\"top_units\":\"screen\"},\"id\":\"1149\",\"type\":\"BoxAnnotation\"},{\"attributes\":{\"text\":\"Housing Options\",\"text_color\":\"black\",\"text_font_size\":\"12pt\"},\"id\":\"1129\",\"type\":\"Title\"},{\"attributes\":{\"data\":{\"A_3_BR_Median_Price\":{\"__ndarray__\":\"AAAAAADAgkAAAAAAADCBQHE9CtejsoJAuB6F61HVlEAAAAAAAHCHQAAAAAAAUIRAj8L1KFyFiUAAAAAAAJyIQHE9CtejqoBAj8L1KFz1h0C4HoXrUWWWQA==\",\"dtype\":\"float64\",\"order\":\"little\",\"shape\":[11]},\"RegionName\":[\"Bayonne\",\"East Orange\",\"Elizabeth\",\"Hoboken\",\"Irvington\",\"Jersey City\",\"Middletown Township\",\"Newark\",\"Paterson\",\"Union City\",\"Weehawken\"]},\"selected\":{\"id\":\"1158\"},\"selection_policy\":{\"id\":\"1181\"}},\"id\":\"1157\",\"type\":\"ColumnDataSource\"},{\"attributes\":{\"callback\":null,\"renderers\":[{\"id\":\"1163\"}],\"tags\":[\"hv_created\"],\"tooltips\":[[\"RegionName\",\"@{RegionName}\"],[\"3 BR Median Price\",\"@{A_3_BR_Median_Price}\"]]},\"id\":\"1127\",\"type\":\"HoverTool\"},{\"attributes\":{},\"id\":\"1167\",\"type\":\"AllLabels\"},{\"attributes\":{\"fill_alpha\":{\"value\":0.1},\"fill_color\":{\"value\":\"#30a2da\"},\"line_alpha\":{\"value\":0.1},\"top\":{\"field\":\"A_3_BR_Median_Price\"},\"width\":{\"value\":0.8},\"x\":{\"field\":\"RegionName\"}},\"id\":\"1161\",\"type\":\"VBar\"}],\"root_ids\":[\"1123\"]},\"title\":\"Bokeh Application\",\"version\":\"2.3.2\"}};\n",
       "    var render_items = [{\"docid\":\"074ff71a-3826-4576-9709-2eb5c55fd17d\",\"root_ids\":[\"1123\"],\"roots\":{\"1123\":\"c8345089-c8f7-425d-9b7d-68d46361f31f\"}}];\n",
       "    root.Bokeh.embed.embed_items_notebook(docs_json, render_items);\n",
       "  }\n",
       "  if (root.Bokeh !== undefined && root.Bokeh.Panel !== undefined && root['Plotly'] !== undefined ) {\n",
       "    embed_document(root);\n",
       "  } else {\n",
       "    var attempts = 0;\n",
       "    var timer = setInterval(function(root) {\n",
       "      if (root.Bokeh !== undefined && root.Bokeh.Panel !== undefined && root['Plotly'] !== undefined) {\n",
       "        clearInterval(timer);\n",
       "        embed_document(root);\n",
       "      } else if (document.readyState == \"complete\") {\n",
       "        attempts++;\n",
       "        if (attempts > 100) {\n",
       "          clearInterval(timer);\n",
       "          console.log(\"Bokeh: ERROR: Unable to run BokehJS code because BokehJS library is missing\");\n",
       "        }\n",
       "      }\n",
       "    }, 10, root)\n",
       "  }\n",
       "})(window);</script>"
      ]
     },
     "metadata": {
      "application/vnd.holoviews_exec.v0+json": {
       "id": "1123"
      }
     },
     "execution_count": 18
    }
   ],
   "metadata": {}
  },
  {
   "cell_type": "code",
   "execution_count": 19,
   "source": [
    "chatter('The_Good_Knight: Hmm.. Maybe it would make more sense to put the data side by side. Let\\'s give that a shot!')\r\n",
    "\r\n",
    "#Concat and join mutual matching options\r\n",
    "housing_analysis = pd.concat([housing_options,housing_options_2], axis=1, join='outer', sort=False).dropna()\r\n",
    "\r\n",
    "\r\n"
   ],
   "outputs": [
    {
     "output_type": "stream",
     "name": "stdout",
     "text": [
      "\n",
      "The_Good_Knight: Hmm.. Maybe it would make more sense to put the data side by side. Let's give that a shot!\n"
     ]
    },
    {
     "output_type": "display_data",
     "data": {},
     "metadata": {}
    },
    {
     "output_type": "execute_result",
     "data": {
      "application/vnd.holoviews_exec.v0+json": "",
      "text/plain": [
       ":Bars   [index,Variable]   (value)"
      ],
      "text/html": [
       "<div id='1244'>\n",
       "\n",
       "\n",
       "\n",
       "\n",
       "\n",
       "  <div class=\"bk-root\" id=\"96d45e2e-8529-4e09-9386-a4760bf4df3c\" data-root-id=\"1244\"></div>\n",
       "</div>\n",
       "<script type=\"application/javascript\">(function(root) {\n",
       "  function embed_document(root) {\n",
       "    var docs_json = {\"6577f1b1-45c3-4dc8-911b-79590c3bdc9d\":{\"defs\":[],\"roots\":{\"references\":[{\"attributes\":{\"fill_alpha\":{\"value\":0.1},\"fill_color\":{\"field\":\"Variable\",\"transform\":{\"id\":\"1278\"}},\"line_alpha\":{\"value\":0.1},\"top\":{\"field\":\"value\"},\"width\":{\"value\":0.8},\"x\":{\"field\":\"xoffsets\"}},\"id\":\"1283\",\"type\":\"VBar\"},{\"attributes\":{},\"id\":\"1293\",\"type\":\"AllLabels\"},{\"attributes\":{},\"id\":\"1265\",\"type\":\"SaveTool\"},{\"attributes\":{},\"id\":\"1266\",\"type\":\"PanTool\"},{\"attributes\":{\"source\":{\"id\":\"1279\"}},\"id\":\"1286\",\"type\":\"CDSView\"},{\"attributes\":{\"below\":[{\"id\":\"1258\"}],\"center\":[{\"id\":\"1260\"},{\"id\":\"1264\"}],\"height\":300,\"left\":[{\"id\":\"1261\"}],\"margin\":[5,5,5,5],\"min_border_bottom\":10,\"min_border_left\":10,\"min_border_right\":10,\"min_border_top\":10,\"renderers\":[{\"id\":\"1285\"}],\"sizing_mode\":\"fixed\",\"title\":{\"id\":\"1250\"},\"toolbar\":{\"id\":\"1271\"},\"width\":700,\"x_range\":{\"id\":\"1246\"},\"x_scale\":{\"id\":\"1254\"},\"y_range\":{\"id\":\"1247\"},\"y_scale\":{\"id\":\"1256\"}},\"id\":\"1249\",\"subtype\":\"Figure\",\"type\":\"Plot\"},{\"attributes\":{},\"id\":\"1269\",\"type\":\"ResetTool\"},{\"attributes\":{\"text\":\"Housing Analysis\",\"text_color\":\"black\",\"text_font_size\":\"12pt\"},\"id\":\"1250\",\"type\":\"Title\"},{\"attributes\":{},\"id\":\"1267\",\"type\":\"WheelZoomTool\"},{\"attributes\":{\"data_source\":{\"id\":\"1279\"},\"glyph\":{\"id\":\"1282\"},\"hover_glyph\":null,\"muted_glyph\":{\"id\":\"1284\"},\"nonselection_glyph\":{\"id\":\"1283\"},\"selection_glyph\":{\"id\":\"1287\"},\"view\":{\"id\":\"1286\"}},\"id\":\"1285\",\"type\":\"GlyphRenderer\"},{\"attributes\":{\"overlay\":{\"id\":\"1270\"}},\"id\":\"1268\",\"type\":\"BoxZoomTool\"},{\"attributes\":{},\"id\":\"1289\",\"type\":\"AllLabels\"},{\"attributes\":{\"end\":1529.9959999999999,\"reset_end\":1529.9959999999999,\"reset_start\":0.0,\"tags\":[[[\"value\",\"value\",null]]]},\"id\":\"1247\",\"type\":\"Range1d\"},{\"attributes\":{},\"id\":\"1303\",\"type\":\"UnionRenderers\"},{\"attributes\":{\"axis_label\":\"\",\"formatter\":{\"id\":\"1290\"},\"major_label_orientation\":1.5707963267948966,\"major_label_policy\":{\"id\":\"1289\"},\"ticker\":{\"id\":\"1259\"}},\"id\":\"1258\",\"type\":\"CategoricalAxis\"},{\"attributes\":{\"fill_color\":{\"field\":\"Variable\",\"transform\":{\"id\":\"1278\"}},\"top\":{\"field\":\"value\"},\"width\":{\"value\":0.8},\"x\":{\"field\":\"xoffsets\"}},\"id\":\"1282\",\"type\":\"VBar\"},{\"attributes\":{\"factors\":[\"2 BR Median Price\",\"3 BR Median Price\"],\"palette\":[\"#30a2da\",\"#fc4f30\"]},\"id\":\"1278\",\"type\":\"CategoricalColorMapper\"},{\"attributes\":{\"axis\":{\"id\":\"1258\"},\"grid_line_color\":null,\"ticker\":null},\"id\":\"1260\",\"type\":\"Grid\"},{\"attributes\":{},\"id\":\"1254\",\"type\":\"CategoricalScale\"},{\"attributes\":{},\"id\":\"1290\",\"type\":\"CategoricalTickFormatter\"},{\"attributes\":{},\"id\":\"1291\",\"type\":\"BasicTickFormatter\"},{\"attributes\":{},\"id\":\"1259\",\"type\":\"CategoricalTicker\"},{\"attributes\":{},\"id\":\"1256\",\"type\":\"LinearScale\"},{\"attributes\":{\"axis\":{\"id\":\"1261\"},\"dimension\":1,\"grid_line_color\":null,\"ticker\":null},\"id\":\"1264\",\"type\":\"Grid\"},{\"attributes\":{},\"id\":\"1280\",\"type\":\"Selection\"},{\"attributes\":{\"factors\":[[\"Bayonne\",\"2 BR Median Price\"],[\"Bayonne\",\"3 BR Median Price\"],[\"East Orange\",\"2 BR Median Price\"],[\"East Orange\",\"3 BR Median Price\"],[\"Elizabeth\",\"2 BR Median Price\"],[\"Elizabeth\",\"3 BR Median Price\"],[\"Hoboken\",\"2 BR Median Price\"],[\"Hoboken\",\"3 BR Median Price\"],[\"Irvington\",\"2 BR Median Price\"],[\"Irvington\",\"3 BR Median Price\"],[\"Middletown Township\",\"2 BR Median Price\"],[\"Middletown Township\",\"3 BR Median Price\"],[\"Paterson\",\"2 BR Median Price\"],[\"Paterson\",\"3 BR Median Price\"],[\"Union City\",\"2 BR Median Price\"],[\"Union City\",\"3 BR Median Price\"],[\"Weehawken\",\"2 BR Median Price\"],[\"Weehawken\",\"3 BR Median Price\"]],\"tags\":[[[\"index\",\"index\",null],[\"Variable\",\"Variable\",null]]]},\"id\":\"1246\",\"type\":\"FactorRange\"},{\"attributes\":{\"bottom\":{\"value\":0},\"fill_alpha\":{\"value\":1.0},\"fill_color\":{\"field\":\"Variable\",\"transform\":{\"id\":\"1278\"}},\"hatch_alpha\":{\"value\":1.0},\"hatch_color\":{\"value\":\"black\"},\"hatch_scale\":{\"value\":12.0},\"hatch_weight\":{\"value\":1.0},\"line_alpha\":{\"value\":1.0},\"line_cap\":{\"value\":\"butt\"},\"line_color\":{\"value\":\"black\"},\"line_dash\":{\"value\":[]},\"line_dash_offset\":{\"value\":0},\"line_join\":{\"value\":\"bevel\"},\"line_width\":{\"value\":1},\"top\":{\"field\":\"value\"},\"width\":{\"value\":0.8},\"x\":{\"field\":\"xoffsets\"}},\"id\":\"1287\",\"type\":\"VBar\"},{\"attributes\":{},\"id\":\"1262\",\"type\":\"BasicTicker\"},{\"attributes\":{\"axis_label\":\"\",\"formatter\":{\"id\":\"1291\"},\"major_label_policy\":{\"id\":\"1293\"},\"ticker\":{\"id\":\"1262\"}},\"id\":\"1261\",\"type\":\"LinearAxis\"},{\"attributes\":{\"margin\":[5,5,5,5],\"name\":\"HSpacer01918\",\"sizing_mode\":\"stretch_width\"},\"id\":\"1314\",\"type\":\"Spacer\"},{\"attributes\":{\"bottom_units\":\"screen\",\"fill_alpha\":0.5,\"fill_color\":\"lightgrey\",\"left_units\":\"screen\",\"level\":\"overlay\",\"line_alpha\":1.0,\"line_color\":\"black\",\"line_dash\":[4,4],\"line_width\":2,\"right_units\":\"screen\",\"syncable\":false,\"top_units\":\"screen\"},\"id\":\"1270\",\"type\":\"BoxAnnotation\"},{\"attributes\":{\"callback\":null,\"renderers\":[{\"id\":\"1285\"}],\"tags\":[\"hv_created\"],\"tooltips\":[[\"index\",\"@{index}\"],[\"Variable\",\"@{Variable}\"],[\"value\",\"@{value}\"]]},\"id\":\"1248\",\"type\":\"HoverTool\"},{\"attributes\":{\"children\":[{\"id\":\"1245\"},{\"id\":\"1249\"},{\"id\":\"1314\"}],\"margin\":[0,0,0,0],\"name\":\"Row01913\",\"tags\":[\"embedded\"]},\"id\":\"1244\",\"type\":\"Row\"},{\"attributes\":{\"active_multi\":null,\"tools\":[{\"id\":\"1248\"},{\"id\":\"1265\"},{\"id\":\"1266\"},{\"id\":\"1267\"},{\"id\":\"1268\"},{\"id\":\"1269\"}]},\"id\":\"1271\",\"type\":\"Toolbar\"},{\"attributes\":{\"fill_alpha\":{\"value\":0.2},\"fill_color\":{\"field\":\"Variable\",\"transform\":{\"id\":\"1278\"}},\"line_alpha\":{\"value\":0.2},\"top\":{\"field\":\"value\"},\"width\":{\"value\":0.8},\"x\":{\"field\":\"xoffsets\"}},\"id\":\"1284\",\"type\":\"VBar\"},{\"attributes\":{\"data\":{\"Variable\":[\"2 BR Median Price\",\"2 BR Median Price\",\"2 BR Median Price\",\"2 BR Median Price\",\"2 BR Median Price\",\"2 BR Median Price\",\"2 BR Median Price\",\"2 BR Median Price\",\"2 BR Median Price\",\"3 BR Median Price\",\"3 BR Median Price\",\"3 BR Median Price\",\"3 BR Median Price\",\"3 BR Median Price\",\"3 BR Median Price\",\"3 BR Median Price\",\"3 BR Median Price\",\"3 BR Median Price\"],\"index\":[\"Bayonne\",\"East Orange\",\"Elizabeth\",\"Hoboken\",\"Irvington\",\"Middletown Township\",\"Paterson\",\"Union City\",\"Weehawken\",\"Bayonne\",\"East Orange\",\"Elizabeth\",\"Hoboken\",\"Irvington\",\"Middletown Township\",\"Paterson\",\"Union City\",\"Weehawken\"],\"value\":{\"__ndarray__\":\"j8L1KFwlgEBxPQrXo6qAQI/C9ShcJYBAAAAAAABokEAAAAAAAFCEQAAAAAAAwIJAH4XrUbgqfUAAAAAAAOCFQAAAAAAAGpNAAAAAAADAgkAAAAAAADCBQHE9CtejsoJAuB6F61HVlEAAAAAAAHCHQI/C9ShchYlAcT0K16OqgECPwvUoXPWHQLgehetRZZZA\",\"dtype\":\"float64\",\"order\":\"little\",\"shape\":[18]},\"xoffsets\":[[\"Bayonne\",\"2 BR Median Price\"],[\"East Orange\",\"2 BR Median Price\"],[\"Elizabeth\",\"2 BR Median Price\"],[\"Hoboken\",\"2 BR Median Price\"],[\"Irvington\",\"2 BR Median Price\"],[\"Middletown Township\",\"2 BR Median Price\"],[\"Paterson\",\"2 BR Median Price\"],[\"Union City\",\"2 BR Median Price\"],[\"Weehawken\",\"2 BR Median Price\"],[\"Bayonne\",\"3 BR Median Price\"],[\"East Orange\",\"3 BR Median Price\"],[\"Elizabeth\",\"3 BR Median Price\"],[\"Hoboken\",\"3 BR Median Price\"],[\"Irvington\",\"3 BR Median Price\"],[\"Middletown Township\",\"3 BR Median Price\"],[\"Paterson\",\"3 BR Median Price\"],[\"Union City\",\"3 BR Median Price\"],[\"Weehawken\",\"3 BR Median Price\"]]},\"selected\":{\"id\":\"1280\"},\"selection_policy\":{\"id\":\"1303\"}},\"id\":\"1279\",\"type\":\"ColumnDataSource\"},{\"attributes\":{\"margin\":[5,5,5,5],\"name\":\"HSpacer01917\",\"sizing_mode\":\"stretch_width\"},\"id\":\"1245\",\"type\":\"Spacer\"}],\"root_ids\":[\"1244\"]},\"title\":\"Bokeh Application\",\"version\":\"2.3.2\"}};\n",
       "    var render_items = [{\"docid\":\"6577f1b1-45c3-4dc8-911b-79590c3bdc9d\",\"root_ids\":[\"1244\"],\"roots\":{\"1244\":\"96d45e2e-8529-4e09-9386-a4760bf4df3c\"}}];\n",
       "    root.Bokeh.embed.embed_items_notebook(docs_json, render_items);\n",
       "  }\n",
       "  if (root.Bokeh !== undefined && root.Bokeh.Panel !== undefined && root['Plotly'] !== undefined ) {\n",
       "    embed_document(root);\n",
       "  } else {\n",
       "    var attempts = 0;\n",
       "    var timer = setInterval(function(root) {\n",
       "      if (root.Bokeh !== undefined && root.Bokeh.Panel !== undefined && root['Plotly'] !== undefined) {\n",
       "        clearInterval(timer);\n",
       "        embed_document(root);\n",
       "      } else if (document.readyState == \"complete\") {\n",
       "        attempts++;\n",
       "        if (attempts > 100) {\n",
       "          clearInterval(timer);\n",
       "          console.log(\"Bokeh: ERROR: Unable to run BokehJS code because BokehJS library is missing\");\n",
       "        }\n",
       "      }\n",
       "    }, 10, root)\n",
       "  }\n",
       "})(window);</script>"
      ]
     },
     "metadata": {
      "application/vnd.holoviews_exec.v0+json": {
       "id": "1244"
      }
     },
     "execution_count": 19
    }
   ],
   "metadata": {}
  },
  {
   "cell_type": "code",
   "execution_count": null,
   "source": [],
   "outputs": [],
   "metadata": {}
  }
 ]
}