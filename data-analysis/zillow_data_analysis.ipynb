{
 "metadata": {
  "language_info": {
   "codemirror_mode": {
    "name": "ipython",
    "version": 3
   },
   "file_extension": ".py",
   "mimetype": "text/x-python",
   "name": "python",
   "nbconvert_exporter": "python",
   "pygments_lexer": "ipython3",
   "version": "3.8.8"
  },
  "orig_nbformat": 4,
  "kernelspec": {
   "name": "python3",
   "display_name": "Python 3.8.8 64-bit ('base': conda)"
  },
  "interpreter": {
   "hash": "52575ae80af061cc64d8b7f38a5cb1b871b63f9c1317091abcb24f04cea2ba60"
  }
 },
 "nbformat": 4,
 "nbformat_minor": 2,
 "cells": [
  {
   "cell_type": "code",
   "execution_count": 7,
   "metadata": {},
   "outputs": [],
   "source": [
    "# If at any point you're receiving the following TypeError message:\n",
    "## TypeError: Cannot interpret '<attribute 'dtype' of 'numpy.generic' objects>' as a data type\n",
    "# Check the compatibility of your versions of numpy and pandas:\n",
    "#print(np.__version__)\n",
    "#print(pd.__version__)\n",
    "\n",
    "##!pip install numpy==1.16.5 --user\n",
    "##!pip install pandas==0.25.3 --user\n",
    "\n",
    "# Import libraries and dependencies\n",
    "#import panel as pn\n",
    "#pn.extension('plotly')\n",
    "#import plotly.express as px\n",
    "import pandas as pd\n",
    "#import hvplot.pandas\n",
    "import matplotlib.pyplot as plt\n",
    "import numpy as np\n",
    "import os\n",
    "from pathlib import Path\n",
    "from dotenv import load_dotenv\n",
    "#import alpaca_trade_api as tradeapi\n",
    "#from MCForecastTools import MCSimulation\n",
    "import json, requests"
   ]
  },
  {
   "cell_type": "code",
   "execution_count": 8,
   "metadata": {},
   "outputs": [
    {
     "output_type": "execute_result",
     "data": {
      "text/plain": [
       "                         CountyName                  Metro  RegionName  \\\n",
       "State                                                                    \n",
       "AK                Anchorage Borough              Anchorage   Anchorage   \n",
       "AK     Fairbanks North Star Borough              Fairbanks   Fairbanks   \n",
       "AK     Fairbanks North Star Borough              Fairbanks  North Pole   \n",
       "AK        Matanuska Susitna Borough              Anchorage     Wasilla   \n",
       "AL                   Baldwin County  Daphne-Fairhope-Foley      Daphne   \n",
       "\n",
       "       1 BR Median Price  2 BR Median Price  3 BR Median Price  \\\n",
       "State                                                            \n",
       "AK                 195.0              240.0              345.0   \n",
       "AK                   0.0             1200.0                0.0   \n",
       "AK                   0.0             1285.0                0.0   \n",
       "AK                   0.0              500.0              697.5   \n",
       "AL                   0.0                0.0             1352.0   \n",
       "\n",
       "       4 BR Median Price  5+ BR Median Price  \n",
       "State                                         \n",
       "AK                 400.0               360.0  \n",
       "AK                   0.0                 0.0  \n",
       "AK                   0.0                 0.0  \n",
       "AK                   0.0                 0.0  \n",
       "AL                   0.0                 0.0  "
      ],
      "text/html": "<div>\n<style scoped>\n    .dataframe tbody tr th:only-of-type {\n        vertical-align: middle;\n    }\n\n    .dataframe tbody tr th {\n        vertical-align: top;\n    }\n\n    .dataframe thead th {\n        text-align: right;\n    }\n</style>\n<table border=\"1\" class=\"dataframe\">\n  <thead>\n    <tr style=\"text-align: right;\">\n      <th></th>\n      <th>CountyName</th>\n      <th>Metro</th>\n      <th>RegionName</th>\n      <th>1 BR Median Price</th>\n      <th>2 BR Median Price</th>\n      <th>3 BR Median Price</th>\n      <th>4 BR Median Price</th>\n      <th>5+ BR Median Price</th>\n    </tr>\n    <tr>\n      <th>State</th>\n      <th></th>\n      <th></th>\n      <th></th>\n      <th></th>\n      <th></th>\n      <th></th>\n      <th></th>\n      <th></th>\n    </tr>\n  </thead>\n  <tbody>\n    <tr>\n      <th>AK</th>\n      <td>Anchorage Borough</td>\n      <td>Anchorage</td>\n      <td>Anchorage</td>\n      <td>195.0</td>\n      <td>240.0</td>\n      <td>345.0</td>\n      <td>400.0</td>\n      <td>360.0</td>\n    </tr>\n    <tr>\n      <th>AK</th>\n      <td>Fairbanks North Star Borough</td>\n      <td>Fairbanks</td>\n      <td>Fairbanks</td>\n      <td>0.0</td>\n      <td>1200.0</td>\n      <td>0.0</td>\n      <td>0.0</td>\n      <td>0.0</td>\n    </tr>\n    <tr>\n      <th>AK</th>\n      <td>Fairbanks North Star Borough</td>\n      <td>Fairbanks</td>\n      <td>North Pole</td>\n      <td>0.0</td>\n      <td>1285.0</td>\n      <td>0.0</td>\n      <td>0.0</td>\n      <td>0.0</td>\n    </tr>\n    <tr>\n      <th>AK</th>\n      <td>Matanuska Susitna Borough</td>\n      <td>Anchorage</td>\n      <td>Wasilla</td>\n      <td>0.0</td>\n      <td>500.0</td>\n      <td>697.5</td>\n      <td>0.0</td>\n      <td>0.0</td>\n    </tr>\n    <tr>\n      <th>AL</th>\n      <td>Baldwin County</td>\n      <td>Daphne-Fairhope-Foley</td>\n      <td>Daphne</td>\n      <td>0.0</td>\n      <td>0.0</td>\n      <td>1352.0</td>\n      <td>0.0</td>\n      <td>0.0</td>\n    </tr>\n  </tbody>\n</table>\n</div>"
     },
     "metadata": {},
     "execution_count": 8
    }
   ],
   "source": [
    "#Read in the Zillow CSV created in the data cleaning file\n",
    "\n",
    "zillow_data = pd.read_csv('C:/Users/Myles/Documents/GitHub/bcs-project1/resources/Zillow_Data.csv',index_col='State')\n",
    "zillow_df = pd.DataFrame(zillow_data)\n",
    "zillow_df.head()"
   ]
  },
  {
   "cell_type": "code",
   "execution_count": 9,
   "metadata": {},
   "outputs": [],
   "source": [
    "### Defining function to loosely simulate live typing\n",
    "import time\n",
    "import sys\n",
    "from random import randrange\n",
    "\n",
    "### Variable created to hold list of NPC text\n",
    "npc_chatter = []\n",
    "\n",
    "### Function is based off an example found in Stack Overflow\n",
    "def chatter(npc_chatter):\n",
    "    print()\n",
    "    for c in npc_chatter:\n",
    "        sys.stdout.write(c)\n",
    "        sys.stdout.flush()\n",
    "        secs = '0.0' + str(randrange(5,20,1))\n",
    "        secs = float(secs)\n",
    "        time.sleep(secs)\n",
    "    print()\n",
    "    time.sleep(1)\n"
   ]
  },
  {
   "cell_type": "code",
   "execution_count": 12,
   "metadata": {},
   "outputs": [
    {
     "output_type": "stream",
     "name": "stdout",
     "text": [
      "\n",
      "The_Good_Knight: \"So you're looking for a new apartment? Let's take a look and see what prices are looking like!\"\n",
      "\n",
      "The_Good_Knight: \"Where are you looking to live?\"\n",
      "\n",
      "\"NJ? Nice! How many bedrooms are you looking for?\"\n",
      "\n",
      "\"Okay great! So you're looking for a 3 bedroom apartment in NJ. Now all we need to know is what your budget is\"\n",
      "\n",
      "\"Perfect! Let's see if there are any 3 bedroom apartments that fit your budget in NJ.\"\n"
     ]
    }
   ],
   "source": [
    "def rent_analysis():\n",
    "    chatter('The_Good_Knight: \"So you\\'re looking for a new apartment? Let\\'s take a look and see what prices are looking like!\"')\n",
    "    chatter('The_Good_Knight: \"Where are you looking to live?\"')\n",
    "    state = input('\"Please enter the state you would like to live in:\" ')\n",
    "    chatter(f'\"{state}? Nice! How many bedrooms are you looking for?\"')\n",
    "    br_num = input('\"Please enter the amount of bedrooms you\\'re looking for\"')\n",
    "    chatter(f'\"Okay great! So you\\'re looking for a {br_num} bedroom apartment in {state}. Now all we need to know is what your budget is\"')\n",
    "    rent_budget = input('\"Please enter your budget for rent\"')\n",
    "    chatter(f'\"Perfect! Let\\'s see if there are any {br_num} bedroom apartments that fit your budget in {state}.\"')\n",
    "\n",
    "rent_analysis()"
   ]
  },
  {
   "cell_type": "code",
   "execution_count": 11,
   "metadata": {},
   "outputs": [
    {
     "output_type": "stream",
     "name": "stdout",
     "text": [
      "\n",
      "The_Good_Knight: \"So you're looking for a new apartment? Let's take a look and see what prices are looking like!\"\n",
      "\n",
      "The_Good_Knight: \"Where are you looking to live?\"\n",
      "\n",
      "\"NJ? Nice! How many bedrooms are you looking for?\"\n",
      "\n",
      "\"Okay great! So you're looking for a 2 bedroom apartment in NJ. Now all we need to know is what your budget is\"\n",
      "\n",
      "\"Perfect! Let's see what a 2 bedroom apartment goes for in NJ.\n"
     ]
    }
   ],
   "source": [
    "def apt_options():"
   ]
  },
  {
   "cell_type": "code",
   "execution_count": null,
   "metadata": {},
   "outputs": [],
   "source": []
  }
 ]
}