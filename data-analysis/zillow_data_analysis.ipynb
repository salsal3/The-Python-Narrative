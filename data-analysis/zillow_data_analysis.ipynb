{
 "metadata": {
  "language_info": {
   "codemirror_mode": {
    "name": "ipython",
    "version": 3
   },
   "file_extension": ".py",
   "mimetype": "text/x-python",
   "name": "python",
   "nbconvert_exporter": "python",
   "pygments_lexer": "ipython3",
   "version": "3.7.10"
  },
  "orig_nbformat": 4,
  "kernelspec": {
   "name": "python3",
   "display_name": "Python 3.7.10 64-bit ('pyvizenv': conda)"
  },
  "interpreter": {
   "hash": "2479012227af0461bb3f4d6dd6ff9e3c69c4820c80c42d6462fb153c64bcc1ad"
  }
 },
 "nbformat": 4,
 "nbformat_minor": 2,
 "cells": [
  {
   "cell_type": "code",
   "execution_count": 3,
   "source": [
    "# If at any point you're receiving the following TypeError message:\r\n",
    "## TypeError: Cannot interpret '<attribute 'dtype' of 'numpy.generic' objects>' as a data type\r\n",
    "# Check the compatibility of your versions of numpy and pandas:\r\n",
    "#print(np.__version__)\r\n",
    "#print(pd.__version__)\r\n",
    "\r\n",
    "##!pip install numpy==1.16.5 --user\r\n",
    "##!pip install pandas==0.25.3 --user\r\n",
    "\r\n",
    "# Import libraries and dependencies\r\n",
    "import panel as pn\r\n",
    "pn.extension('plotly')\r\n",
    "import plotly.express as px\r\n",
    "import pandas as pd\r\n",
    "import hvplot.pandas\r\n",
    "import matplotlib.pyplot as plt\r\n",
    "import numpy as np\r\n",
    "import os\r\n",
    "from pathlib import Path\r\n",
    "from dotenv import load_dotenv\r\n",
    "#import alpaca_trade_api as tradeapi\r\n",
    "#from MCForecastTools import MCSimulation\r\n",
    "import json, requests"
   ],
   "outputs": [],
   "metadata": {}
  },
  {
   "cell_type": "code",
   "execution_count": 4,
   "source": [
    "#Read in the Zillow CSV created in the data cleaning file\r\n",
    "\r\n",
    "zillow_data = pd.read_csv('../resources/Zillow_Data.csv',index_col='State')\r\n",
    "zillow_df = pd.DataFrame(zillow_data)\r\n",
    "\r\n",
    "\r\n",
    "#Create a pivot table to organize the data based on the regions in the selected state and.\r\n",
    "\r\n",
    "#br1_data_table = pd.DataFrame(zillow_df[zillow_df['1 BR Median Price'] > 0]).round(2)\r\n",
    "#br1_data_table = pd.DataFrame(br1_data_table[br1_data_table['1 BR Median Price']< 1400])\r\n",
    "#br1_data_table = pd.pivot_table(\r\n",
    "#    br1_data_table, \r\n",
    "#    index=['State','RegionName'],\r\n",
    "#    values=['1 BR Median Price']\r\n",
    "#)\r\n",
    "\r\n",
    "\r\n",
    "\r\n",
    "\r\n",
    "\r\n",
    "\r\n"
   ],
   "outputs": [],
   "metadata": {}
  },
  {
   "cell_type": "code",
   "execution_count": 5,
   "source": [
    "### Defining function to loosely simulate live typing\r\n",
    "import time\r\n",
    "import sys\r\n",
    "from random import randrange\r\n",
    "\r\n",
    "### Variable created to hold list of NPC text\r\n",
    "npc_chatter = []\r\n",
    "\r\n",
    "### Function is based off an example found in Stack Overflow\r\n",
    "def chatter(npc_chatter):\r\n",
    "    print()\r\n",
    "    for c in npc_chatter:\r\n",
    "        sys.stdout.write(c)\r\n",
    "        sys.stdout.flush()\r\n",
    "        secs = '0.0' + str(randrange(10,20,1))\r\n",
    "        secs = float(secs)\r\n",
    "        time.sleep(secs)\r\n",
    "    print()\r\n",
    "    time.sleep(1)\r\n"
   ],
   "outputs": [],
   "metadata": {}
  },
  {
   "cell_type": "markdown",
   "source": [
    "state = ''\r\n",
    "br_num = 0\r\n",
    "rent_budget = 0\r\n",
    "drop_data = []\r\n",
    "\r\n",
    "if br_num == 1:\r\n",
    "    drop_data = ['CountyName','Metro','2 BR Median Price','3 BR Median Price','4 BR Median Price','5+ BR Median Price']\r\n",
    "elif br_num == 2:\r\n",
    "    drop_data = ['CountyName','Metro','1 BR Median Price','3 BR Median Price','4 BR Median Price','5+ BR Median Price']\r\n",
    "elif br_num == 3:\r\n",
    "    drop_data = ['CountyName','Metro','1 BR Median Price','2 BR Median Price','4 BR Median Price','5+ BR Median Price']\r\n",
    "elif br_num == 4:\r\n",
    "    drop_data = ['CountyName','Metro','1 BR Median Price','2 BR Median Price','4 BR Median Price','5+ BR Median Price']\r\n",
    "elif br_num >= 5:\r\n",
    "    drop_data = ['CountyName','Metro','1 BR Median Price','2 BR Median Price','3 BR Median Price','4 BR Median Price']\r\n",
    "\r\n",
    "print(drop_data)"
   ],
   "metadata": {}
  },
  {
   "cell_type": "code",
   "execution_count": 24,
   "source": [
    "housing_options = []\r\n",
    "\r\n",
    "chatter('The_Good_Knight: \"So you\\'re looking for a new apartment? Let\\'s take a look and see what prices are looking like!\"')\r\n",
    "chatter('The_Good_Knight: \"Where are you looking to live?\"')\r\n",
    "    \r\n",
    "state = input('The_Good_Knight: \"Please enter the abbreviation of the state you would like to live in:\" ')\r\n",
    "\r\n",
    "chatter(f'The_Good_Knight: \"{state}? Nice! How many bedrooms are you looking for?\"')\r\n",
    "\r\n",
    "br_num = input('The_Good_Knight: \"Please enter the amount of bedrooms you\\'re looking for\"')\r\n",
    "     \r\n",
    "#We converted this to a float to be able to compare them in the formula\r\n",
    "br_num = float(br_num)\r\n",
    "\r\n",
    "chatter(f'The_Good_Knight: \"Okay great! So you\\'re looking for a {br_num} bedroom apartment in {state}. Now all we need to know is what your budget is\"')\r\n",
    "\r\n",
    "rent_budget = input('\"Please enter your budget for rent\"')\r\n",
    "  \r\n",
    "#We converted this to a float to be able to compare them in the formula\r\n",
    "\r\n",
    "rent_budget = float(rent_budget)\r\n",
    "\r\n",
    "def rent_analysis(housing_options):\r\n",
    "\r\n",
    "     chatter(f'The_Good_Knight: \"Perfect! Let\\'s see what regions in {state} have {br_num} bedroom apartments that fit your budget in.\"')\r\n",
    "     \r\n",
    "     br1_data_table = pd.DataFrame(zillow_df[zillow_df['1 BR Median Price'] > 0]).round(2)\r\n",
    "     br1_data_table = pd.DataFrame(br1_data_table[br1_data_table['1 BR Median Price']< rent_budget])\r\n",
    "     br1_data_table = pd.pivot_table(\r\n",
    "         br1_data_table, \r\n",
    "         index=['State','RegionName'],\r\n",
    "         values=['1 BR Median Price']\r\n",
    "         )\r\n",
    "     \r\n",
    "     br2_data_table = pd.DataFrame(zillow_df[zillow_df['2 BR Median Price'] > 0]).round(2)\r\n",
    "     br2_data_table = pd.DataFrame(br2_data_table[br2_data_table['2 BR Median Price']< rent_budget])\r\n",
    "     br2_data_table = pd.pivot_table(\r\n",
    "         br2_data_table, \r\n",
    "         index=['State','RegionName'],\r\n",
    "         values=['2 BR Median Price']\r\n",
    "         )\r\n",
    "\r\n",
    "     br3_data_table = pd.DataFrame(zillow_df[zillow_df['3 BR Median Price'] > 0]).round(2)\r\n",
    "     br3_data_table = pd.DataFrame(br3_data_table[br3_data_table['3 BR Median Price']< rent_budget])\r\n",
    "     br3_data_table = pd.pivot_table(\r\n",
    "         br3_data_table, \r\n",
    "         index=['State','RegionName'],\r\n",
    "         values=['3 BR Median Price']\r\n",
    "         )\r\n",
    "     \r\n",
    "     br4_data_table = pd.DataFrame(zillow_df[zillow_df['4 BR Median Price'] > 0]).round(2)\r\n",
    "     br4_data_table = pd.DataFrame(br4_data_table[br4_data_table['4 BR Median Price']< rent_budget])\r\n",
    "     br4_data_table = pd.pivot_table(\r\n",
    "         br4_data_table, \r\n",
    "         index=['State','RegionName'],\r\n",
    "         values=['4 BR Median Price']\r\n",
    "         )\r\n",
    "     \r\n",
    "     br5_data_table = pd.DataFrame(zillow_df[zillow_df['5+ BR Median Price'] > 0]).round(2)\r\n",
    "     br5_data_table = pd.DataFrame(br5_data_table[br5_data_table['5+ BR Median Price']< rent_budget])\r\n",
    "     br5_data_table = pd.pivot_table(\r\n",
    "         br5_data_table, \r\n",
    "         index=['State','RegionName'],\r\n",
    "         values=['5+ BR Median Price']\r\n",
    "         )\r\n",
    "\r\n",
    "     if br_num == 1:\r\n",
    "         return br1_data_table.loc[f'{state}']\r\n",
    "     elif br_num == 2:\r\n",
    "         return br2_data_table.loc[f'{state}']\r\n",
    "     elif br_num == 3:\r\n",
    "         return br3_data_table.loc[f'{state}']\r\n",
    "     elif br_num == 4:\r\n",
    "         return br4_data_table.loc[f'{state}']\r\n",
    "     elif br_num == 5:\r\n",
    "         return br5_data_table.loc[f'{state}']\r\n",
    "     elif br_num >5:\r\n",
    "         return br5_data_table.loc[f'{state}']\r\n",
    "\r\n",
    "\r\n",
    "housing_options = rent_analysis(housing_options)\r\n",
    "print(housing_options)"
   ],
   "outputs": [
    {
     "output_type": "stream",
     "name": "stdout",
     "text": [
      "\n",
      "The_Good_Knight: \"So you're looking for a new apartment? Let's take a look and see what prices are looking like!\"\n",
      "\n",
      "The_Good_Knight: \"Where are you looking to live?\"\n",
      "\n",
      "The_Good_Knight: \"NJ? Nice! How many bedrooms are you looking for?\"\n",
      "\n",
      "The_Good_Knight: \"Okay great! So you're looking for a 2.0 bedroom apartment in NJ. Now all we need to know is what your budget is\"\n",
      "\n",
      "The_Good_Knight: \"Perfect! Let's see what regions in NJ have 2.0 bedroom apartments that fit your budget in.\"\n",
      "                          2 BR Median Price\n",
      "RegionName                                 \n",
      "Atlantic City                       1200.00\n",
      "Bayonne                              516.67\n",
      "Belleville                           855.00\n",
      "Bloomfield                           863.75\n",
      "Cherry Hill Township                 881.25\n",
      "Cliffside Park                      2375.00\n",
      "Clifton                             1700.00\n",
      "Collingswood                        1297.50\n",
      "East Orange                          533.33\n",
      "East Rutherford                     1237.50\n",
      "Edgewater                           1552.50\n",
      "Edison                               898.75\n",
      "Elizabeth                            516.67\n",
      "Englewood                           1387.50\n",
      "Evesham Township                     852.50\n",
      "Fort Lee                            1625.00\n",
      "Franklin Township                   2195.00\n",
      "Freehold                            1015.25\n",
      "Hackensack                          1111.25\n",
      "Harrison                            1370.00\n",
      "Hoboken                             1050.00\n",
      "Howell Township                     1775.00\n",
      "Irvington                            650.00\n",
      "Lawrence Township                   1815.00\n",
      "Lyndhurst                           1161.75\n",
      "Matawan                             1024.50\n",
      "Middletown Township                  600.00\n",
      "Montclair                           1050.00\n",
      "Morristown                          1475.00\n",
      "Neptune Township                     937.50\n",
      "New Brunswick                       1151.50\n",
      "North Brunswick Township             900.00\n",
      "Paterson                             466.67\n",
      "Piscataway                          1008.50\n",
      "Plainsboro Township                  857.50\n",
      "Pleasantville                       1260.00\n",
      "Sayreville                          2110.00\n",
      "Secaucus                            1371.25\n",
      "Toms River                          1620.00\n",
      "Trenton                              525.00\n",
      "Union City                           700.00\n",
      "Weehawken                           1222.50\n"
     ]
    }
   ],
   "metadata": {}
  },
  {
   "cell_type": "code",
   "execution_count": 25,
   "source": [
    "chatter('The_Good_Knight: Now lets utilize a bar graph to take a look at your options')"
   ],
   "outputs": [
    {
     "output_type": "stream",
     "name": "stdout",
     "text": [
      "\n",
      "The_Good_Knight: Now lets utilize a bar graph to take a look at your options\n"
     ]
    }
   ],
   "metadata": {}
  },
  {
   "cell_type": "code",
   "execution_count": 26,
   "source": [
    "    housing_options.hvplot.bar(\r\n",
    "        label='Housing Options', rot=90\r\n",
    "    )"
   ],
   "outputs": [
    {
     "output_type": "display_data",
     "data": {},
     "metadata": {}
    },
    {
     "output_type": "execute_result",
     "data": {
      "application/vnd.holoviews_exec.v0+json": "",
      "text/plain": [
       ":Bars   [RegionName]   (2 BR Median Price)"
      ],
      "text/html": [
       "<div id='1854'>\n",
       "\n",
       "\n",
       "\n",
       "\n",
       "\n",
       "  <div class=\"bk-root\" id=\"868abbb2-9033-4380-8fa1-7adfb3ce35f0\" data-root-id=\"1854\"></div>\n",
       "</div>\n",
       "<script type=\"application/javascript\">(function(root) {\n",
       "  function embed_document(root) {\n",
       "    var docs_json = {\"61067705-61e3-4ada-b69c-976644c798a0\":{\"defs\":[],\"roots\":{\"references\":[{\"attributes\":{\"margin\":[5,5,5,5],\"name\":\"HSpacer03010\",\"sizing_mode\":\"stretch_width\"},\"id\":\"1923\",\"type\":\"Spacer\"},{\"attributes\":{\"fill_color\":{\"value\":\"#30a2da\"},\"top\":{\"field\":\"A_2_BR_Median_Price\"},\"width\":{\"value\":0.8},\"x\":{\"field\":\"RegionName\"}},\"id\":\"1891\",\"type\":\"VBar\"},{\"attributes\":{},\"id\":\"1898\",\"type\":\"AllLabels\"},{\"attributes\":{\"active_multi\":null,\"tools\":[{\"id\":\"1858\"},{\"id\":\"1875\"},{\"id\":\"1876\"},{\"id\":\"1877\"},{\"id\":\"1878\"},{\"id\":\"1879\"}]},\"id\":\"1881\",\"type\":\"Toolbar\"},{\"attributes\":{\"end\":2565.833,\"reset_end\":2565.833,\"reset_start\":0.0,\"tags\":[[[\"2 BR Median Price\",\"2 BR Median Price\",null]]]},\"id\":\"1857\",\"type\":\"Range1d\"},{\"attributes\":{\"axis\":{\"id\":\"1871\"},\"dimension\":1,\"grid_line_color\":null,\"ticker\":null},\"id\":\"1874\",\"type\":\"Grid\"},{\"attributes\":{},\"id\":\"1872\",\"type\":\"BasicTicker\"},{\"attributes\":{\"axis_label\":\"2 BR Median Price\",\"formatter\":{\"id\":\"1900\"},\"major_label_policy\":{\"id\":\"1902\"},\"ticker\":{\"id\":\"1872\"}},\"id\":\"1871\",\"type\":\"LinearAxis\"},{\"attributes\":{\"callback\":null,\"renderers\":[{\"id\":\"1894\"}],\"tags\":[\"hv_created\"],\"tooltips\":[[\"RegionName\",\"@{RegionName}\"],[\"2 BR Median Price\",\"@{A_2_BR_Median_Price}\"]]},\"id\":\"1858\",\"type\":\"HoverTool\"},{\"attributes\":{\"bottom\":{\"value\":0},\"fill_alpha\":{\"value\":1.0},\"fill_color\":{\"value\":\"#30a2da\"},\"hatch_alpha\":{\"value\":1.0},\"hatch_color\":{\"value\":\"black\"},\"hatch_scale\":{\"value\":12.0},\"hatch_weight\":{\"value\":1.0},\"line_alpha\":{\"value\":1.0},\"line_cap\":{\"value\":\"butt\"},\"line_color\":{\"value\":\"black\"},\"line_dash\":{\"value\":[]},\"line_dash_offset\":{\"value\":0},\"line_join\":{\"value\":\"bevel\"},\"line_width\":{\"value\":1},\"top\":{\"field\":\"A_2_BR_Median_Price\"},\"width\":{\"value\":0.8},\"x\":{\"field\":\"RegionName\"}},\"id\":\"1896\",\"type\":\"VBar\"},{\"attributes\":{},\"id\":\"1912\",\"type\":\"UnionRenderers\"},{\"attributes\":{\"bottom_units\":\"screen\",\"fill_alpha\":0.5,\"fill_color\":\"lightgrey\",\"left_units\":\"screen\",\"level\":\"overlay\",\"line_alpha\":1.0,\"line_color\":\"black\",\"line_dash\":[4,4],\"line_width\":2,\"right_units\":\"screen\",\"syncable\":false,\"top_units\":\"screen\"},\"id\":\"1880\",\"type\":\"BoxAnnotation\"},{\"attributes\":{\"data\":{\"A_2_BR_Median_Price\":{\"__ndarray__\":\"AAAAAADAkkCPwvUoXCWAQAAAAAAAuIpAAAAAAAD+ikAAAAAAAIqLQAAAAAAAjqJAAAAAAACQmkAAAAAAAEaUQHE9CtejqoBAAAAAAABWk0AAAAAAAEKYQAAAAAAAFoxAj8L1KFwlgEAAAAAAAK6VQAAAAAAApIpAAAAAAABkmUAAAAAAACahQAAAAAAAuo9AAAAAAABdkUAAAAAAAGiVQAAAAAAAaJBAAAAAAAC8m0AAAAAAAFCEQAAAAAAAXJxAAAAAAAAnkkAAAAAAAAKQQAAAAAAAwIJAAAAAAABokEAAAAAAAAyXQAAAAAAATI1AAAAAAAD+kUAAAAAAACCMQB+F61G4Kn1AAAAAAACEj0AAAAAAAMyKQAAAAAAAsJNAAAAAAAB8oEAAAAAAAG2VQAAAAAAAUJlAAAAAAABogEAAAAAAAOCFQAAAAAAAGpNA\",\"dtype\":\"float64\",\"order\":\"little\",\"shape\":[42]},\"RegionName\":[\"Atlantic City\",\"Bayonne\",\"Belleville\",\"Bloomfield\",\"Cherry Hill Township\",\"Cliffside Park\",\"Clifton\",\"Collingswood\",\"East Orange\",\"East Rutherford\",\"Edgewater\",\"Edison\",\"Elizabeth\",\"Englewood\",\"Evesham Township\",\"Fort Lee\",\"Franklin Township\",\"Freehold\",\"Hackensack\",\"Harrison\",\"Hoboken\",\"Howell Township\",\"Irvington\",\"Lawrence Township\",\"Lyndhurst\",\"Matawan\",\"Middletown Township\",\"Montclair\",\"Morristown\",\"Neptune Township\",\"New Brunswick\",\"North Brunswick Township\",\"Paterson\",\"Piscataway\",\"Plainsboro Township\",\"Pleasantville\",\"Sayreville\",\"Secaucus\",\"Toms River\",\"Trenton\",\"Union City\",\"Weehawken\"]},\"selected\":{\"id\":\"1889\"},\"selection_policy\":{\"id\":\"1912\"}},\"id\":\"1888\",\"type\":\"ColumnDataSource\"},{\"attributes\":{\"data_source\":{\"id\":\"1888\"},\"glyph\":{\"id\":\"1891\"},\"hover_glyph\":null,\"muted_glyph\":{\"id\":\"1893\"},\"nonselection_glyph\":{\"id\":\"1892\"},\"selection_glyph\":{\"id\":\"1896\"},\"view\":{\"id\":\"1895\"}},\"id\":\"1894\",\"type\":\"GlyphRenderer\"},{\"attributes\":{\"fill_alpha\":{\"value\":0.2},\"fill_color\":{\"value\":\"#30a2da\"},\"line_alpha\":{\"value\":0.2},\"top\":{\"field\":\"A_2_BR_Median_Price\"},\"width\":{\"value\":0.8},\"x\":{\"field\":\"RegionName\"}},\"id\":\"1893\",\"type\":\"VBar\"},{\"attributes\":{\"source\":{\"id\":\"1888\"}},\"id\":\"1895\",\"type\":\"CDSView\"},{\"attributes\":{\"fill_alpha\":{\"value\":0.1},\"fill_color\":{\"value\":\"#30a2da\"},\"line_alpha\":{\"value\":0.1},\"top\":{\"field\":\"A_2_BR_Median_Price\"},\"width\":{\"value\":0.8},\"x\":{\"field\":\"RegionName\"}},\"id\":\"1892\",\"type\":\"VBar\"},{\"attributes\":{\"below\":[{\"id\":\"1868\"}],\"center\":[{\"id\":\"1870\"},{\"id\":\"1874\"}],\"height\":300,\"left\":[{\"id\":\"1871\"}],\"margin\":[5,5,5,5],\"min_border_bottom\":10,\"min_border_left\":10,\"min_border_right\":10,\"min_border_top\":10,\"renderers\":[{\"id\":\"1894\"}],\"sizing_mode\":\"fixed\",\"title\":{\"id\":\"1860\"},\"toolbar\":{\"id\":\"1881\"},\"width\":700,\"x_range\":{\"id\":\"1856\"},\"x_scale\":{\"id\":\"1864\"},\"y_range\":{\"id\":\"1857\"},\"y_scale\":{\"id\":\"1866\"}},\"id\":\"1859\",\"subtype\":\"Figure\",\"type\":\"Plot\"},{\"attributes\":{},\"id\":\"1875\",\"type\":\"SaveTool\"},{\"attributes\":{},\"id\":\"1876\",\"type\":\"PanTool\"},{\"attributes\":{},\"id\":\"1869\",\"type\":\"CategoricalTicker\"},{\"attributes\":{\"margin\":[5,5,5,5],\"name\":\"HSpacer03009\",\"sizing_mode\":\"stretch_width\"},\"id\":\"1855\",\"type\":\"Spacer\"},{\"attributes\":{},\"id\":\"1879\",\"type\":\"ResetTool\"},{\"attributes\":{},\"id\":\"1877\",\"type\":\"WheelZoomTool\"},{\"attributes\":{\"overlay\":{\"id\":\"1880\"}},\"id\":\"1878\",\"type\":\"BoxZoomTool\"},{\"attributes\":{\"children\":[{\"id\":\"1855\"},{\"id\":\"1859\"},{\"id\":\"1923\"}],\"margin\":[0,0,0,0],\"name\":\"Row03005\",\"tags\":[\"embedded\"]},\"id\":\"1854\",\"type\":\"Row\"},{\"attributes\":{\"axis_label\":\"RegionName\",\"formatter\":{\"id\":\"1899\"},\"major_label_orientation\":1.5707963267948966,\"major_label_policy\":{\"id\":\"1898\"},\"ticker\":{\"id\":\"1869\"}},\"id\":\"1868\",\"type\":\"CategoricalAxis\"},{\"attributes\":{},\"id\":\"1864\",\"type\":\"CategoricalScale\"},{\"attributes\":{\"text\":\"Housing Options\",\"text_color\":\"black\",\"text_font_size\":\"12pt\"},\"id\":\"1860\",\"type\":\"Title\"},{\"attributes\":{\"factors\":[\"Atlantic City\",\"Bayonne\",\"Belleville\",\"Bloomfield\",\"Cherry Hill Township\",\"Cliffside Park\",\"Clifton\",\"Collingswood\",\"East Orange\",\"East Rutherford\",\"Edgewater\",\"Edison\",\"Elizabeth\",\"Englewood\",\"Evesham Township\",\"Fort Lee\",\"Franklin Township\",\"Freehold\",\"Hackensack\",\"Harrison\",\"Hoboken\",\"Howell Township\",\"Irvington\",\"Lawrence Township\",\"Lyndhurst\",\"Matawan\",\"Middletown Township\",\"Montclair\",\"Morristown\",\"Neptune Township\",\"New Brunswick\",\"North Brunswick Township\",\"Paterson\",\"Piscataway\",\"Plainsboro Township\",\"Pleasantville\",\"Sayreville\",\"Secaucus\",\"Toms River\",\"Trenton\",\"Union City\",\"Weehawken\"],\"tags\":[[[\"RegionName\",\"RegionName\",null]]]},\"id\":\"1856\",\"type\":\"FactorRange\"},{\"attributes\":{},\"id\":\"1902\",\"type\":\"AllLabels\"},{\"attributes\":{},\"id\":\"1900\",\"type\":\"BasicTickFormatter\"},{\"attributes\":{},\"id\":\"1866\",\"type\":\"LinearScale\"},{\"attributes\":{},\"id\":\"1889\",\"type\":\"Selection\"},{\"attributes\":{\"axis\":{\"id\":\"1868\"},\"grid_line_color\":null,\"ticker\":null},\"id\":\"1870\",\"type\":\"Grid\"},{\"attributes\":{},\"id\":\"1899\",\"type\":\"CategoricalTickFormatter\"}],\"root_ids\":[\"1854\"]},\"title\":\"Bokeh Application\",\"version\":\"2.3.2\"}};\n",
       "    var render_items = [{\"docid\":\"61067705-61e3-4ada-b69c-976644c798a0\",\"root_ids\":[\"1854\"],\"roots\":{\"1854\":\"868abbb2-9033-4380-8fa1-7adfb3ce35f0\"}}];\n",
       "    root.Bokeh.embed.embed_items_notebook(docs_json, render_items);\n",
       "  }\n",
       "  if (root.Bokeh !== undefined && root.Bokeh.Panel !== undefined && root['Plotly'] !== undefined ) {\n",
       "    embed_document(root);\n",
       "  } else {\n",
       "    var attempts = 0;\n",
       "    var timer = setInterval(function(root) {\n",
       "      if (root.Bokeh !== undefined && root.Bokeh.Panel !== undefined && root['Plotly'] !== undefined) {\n",
       "        clearInterval(timer);\n",
       "        embed_document(root);\n",
       "      } else if (document.readyState == \"complete\") {\n",
       "        attempts++;\n",
       "        if (attempts > 100) {\n",
       "          clearInterval(timer);\n",
       "          console.log(\"Bokeh: ERROR: Unable to run BokehJS code because BokehJS library is missing\");\n",
       "        }\n",
       "      }\n",
       "    }, 10, root)\n",
       "  }\n",
       "})(window);</script>"
      ]
     },
     "metadata": {
      "application/vnd.holoviews_exec.v0+json": {
       "id": "1854"
      }
     },
     "execution_count": 26
    }
   ],
   "metadata": {}
  },
  {
   "cell_type": "code",
   "execution_count": 9,
   "source": [
    "chatter('The_Good_Knight: Intersting! Let\\'s see how much extra it\\'d cost to add an extra bedroom!')"
   ],
   "outputs": [
    {
     "output_type": "stream",
     "name": "stdout",
     "text": [
      "\n",
      "The_Good_Knight: Intersting! Let's see how much extra it'd cost to add an extra bedroom!\n"
     ]
    }
   ],
   "metadata": {}
  },
  {
   "cell_type": "code",
   "execution_count": 31,
   "source": [
    "housing_options_2 = ''\r\n",
    "\r\n",
    "def rent_comparison(housing_options_2):\r\n",
    "    \r\n",
    "\r\n",
    "\r\n",
    "    br1_data_table = pd.DataFrame(zillow_df[zillow_df['1 BR Median Price'] > 0]).round(2)\r\n",
    "    br1_data_table = pd.DataFrame(br1_data_table[br1_data_table['1 BR Median Price']< rent_budget])\r\n",
    "    br1_data_table = pd.pivot_table(\r\n",
    "        br1_data_table, \r\n",
    "        index=['State','RegionName'],\r\n",
    "        values=['1 BR Median Price']\r\n",
    "        )\r\n",
    "     \r\n",
    "    br2_data_table = pd.DataFrame(zillow_df[zillow_df['2 BR Median Price'] > 0]).round(2)\r\n",
    "    br2_data_table = pd.DataFrame(br2_data_table[br2_data_table['2 BR Median Price']< rent_budget])\r\n",
    "    br2_data_table = pd.pivot_table(\r\n",
    "        br2_data_table, \r\n",
    "        index=['State','RegionName'],\r\n",
    "        values=['2 BR Median Price']\r\n",
    "        )\r\n",
    "\r\n",
    "    br3_data_table = pd.DataFrame(zillow_df[zillow_df['3 BR Median Price'] > 0]).round(2)\r\n",
    "    br3_data_table = pd.DataFrame(br3_data_table[br3_data_table['3 BR Median Price']< rent_budget])\r\n",
    "    br3_data_table = pd.pivot_table(\r\n",
    "        br3_data_table, \r\n",
    "        index=['State','RegionName'],\r\n",
    "        values=['3 BR Median Price']\r\n",
    "        )\r\n",
    "     \r\n",
    "    br4_data_table = pd.DataFrame(zillow_df[zillow_df['4 BR Median Price'] > 0]).round(2)\r\n",
    "    br4_data_table = pd.DataFrame(br4_data_table[br4_data_table['4 BR Median Price']< rent_budget])\r\n",
    "    br4_data_table = pd.pivot_table(\r\n",
    "        br4_data_table, \r\n",
    "        index=['State','RegionName'],\r\n",
    "        values=['4 BR Median Price']\r\n",
    "        )\r\n",
    "     \r\n",
    "    br5_data_table = pd.DataFrame(zillow_df[zillow_df['5+ BR Median Price'] > 0]).round(2)\r\n",
    "    br5_data_table = pd.DataFrame(br5_data_table[br5_data_table['5+ BR Median Price']< rent_budget])\r\n",
    "    br5_data_table = pd.pivot_table(\r\n",
    "        br5_data_table, \r\n",
    "        index=['State','RegionName'],\r\n",
    "        values=['5+ BR Median Price']\r\n",
    "        )\r\n",
    "\r\n",
    "    if br_num+1 == 1:\r\n",
    "        return br1_data_table.loc[f'{state}']\r\n",
    "    elif br_num+1 == 2:\r\n",
    "        return br2_data_table.loc[f'{state}']\r\n",
    "    elif br_num+1 == 3:\r\n",
    "        return br3_data_table.loc[f'{state}']\r\n",
    "    elif br_num+1 == 4:\r\n",
    "        return br4_data_table.loc[f'{state}']\r\n",
    "    elif br_num+1 == 5:\r\n",
    "        return br5_data_table.loc[f'{state}']\r\n",
    "    elif br_num+1 >5:\r\n",
    "        return br5_data_table.loc[f'{state}']\r\n",
    "\r\n",
    "\r\n",
    "housing_options_2 = rent_comparison(housing_options_2)\r\n",
    "print(housing_options_2)"
   ],
   "outputs": [
    {
     "output_type": "stream",
     "name": "stdout",
     "text": [
      "                     3 BR Median Price\n",
      "RegionName                            \n",
      "Bayonne                         600.00\n",
      "East Orange                     550.00\n",
      "Elizabeth                       598.33\n",
      "Hoboken                        1333.33\n",
      "Irvington                       750.00\n",
      "Jersey City                     650.00\n",
      "Middletown Township             816.67\n",
      "Newark                          787.50\n",
      "Paterson                        533.33\n",
      "Union City                      766.67\n",
      "Weehawken                      1433.33\n"
     ]
    }
   ],
   "metadata": {}
  },
  {
   "cell_type": "code",
   "execution_count": 33,
   "source": [
    "chatter('The_Good_Knight: Okay, now lets see what this bar graph looks like')"
   ],
   "outputs": [
    {
     "output_type": "stream",
     "name": "stdout",
     "text": [
      "\n",
      "The_Good_Knight: Okay, now lets see what this bar graph looks like\n"
     ]
    }
   ],
   "metadata": {}
  },
  {
   "cell_type": "code",
   "execution_count": 36,
   "source": [
    "housing_options_2.hvplot.bar(\r\n",
    "    label='Housing Options', rot=90\r\n",
    ")"
   ],
   "outputs": [
    {
     "output_type": "display_data",
     "data": {},
     "metadata": {}
    },
    {
     "output_type": "execute_result",
     "data": {
      "application/vnd.holoviews_exec.v0+json": "",
      "text/plain": [
       ":Bars   [RegionName]   (3 BR Median Price)"
      ],
      "text/html": [
       "<div id='2096'>\n",
       "\n",
       "\n",
       "\n",
       "\n",
       "\n",
       "  <div class=\"bk-root\" id=\"400f54d8-9805-4410-b9c5-35a5799862e2\" data-root-id=\"2096\"></div>\n",
       "</div>\n",
       "<script type=\"application/javascript\">(function(root) {\n",
       "  function embed_document(root) {\n",
       "    var docs_json = {\"7f9e1bd2-b5b6-4e0b-8fec-047010fb9003\":{\"defs\":[],\"roots\":{\"references\":[{\"attributes\":{\"fill_alpha\":{\"value\":0.2},\"fill_color\":{\"value\":\"#30a2da\"},\"line_alpha\":{\"value\":0.2},\"top\":{\"field\":\"A_3_BR_Median_Price\"},\"width\":{\"value\":0.8},\"x\":{\"field\":\"RegionName\"}},\"id\":\"2135\",\"type\":\"VBar\"},{\"attributes\":{\"axis\":{\"id\":\"2110\"},\"grid_line_color\":null,\"ticker\":null},\"id\":\"2112\",\"type\":\"Grid\"},{\"attributes\":{\"below\":[{\"id\":\"2110\"}],\"center\":[{\"id\":\"2112\"},{\"id\":\"2116\"}],\"height\":300,\"left\":[{\"id\":\"2113\"}],\"margin\":[5,5,5,5],\"min_border_bottom\":10,\"min_border_left\":10,\"min_border_right\":10,\"min_border_top\":10,\"renderers\":[{\"id\":\"2136\"}],\"sizing_mode\":\"fixed\",\"title\":{\"id\":\"2102\"},\"toolbar\":{\"id\":\"2123\"},\"width\":700,\"x_range\":{\"id\":\"2098\"},\"x_scale\":{\"id\":\"2106\"},\"y_range\":{\"id\":\"2099\"},\"y_scale\":{\"id\":\"2108\"}},\"id\":\"2101\",\"subtype\":\"Figure\",\"type\":\"Plot\"},{\"attributes\":{\"bottom\":{\"value\":0},\"fill_alpha\":{\"value\":1.0},\"fill_color\":{\"value\":\"#30a2da\"},\"hatch_alpha\":{\"value\":1.0},\"hatch_color\":{\"value\":\"black\"},\"hatch_scale\":{\"value\":12.0},\"hatch_weight\":{\"value\":1.0},\"line_alpha\":{\"value\":1.0},\"line_cap\":{\"value\":\"butt\"},\"line_color\":{\"value\":\"black\"},\"line_dash\":{\"value\":[]},\"line_dash_offset\":{\"value\":0},\"line_join\":{\"value\":\"bevel\"},\"line_width\":{\"value\":1},\"top\":{\"field\":\"A_3_BR_Median_Price\"},\"width\":{\"value\":0.8},\"x\":{\"field\":\"RegionName\"}},\"id\":\"2138\",\"type\":\"VBar\"},{\"attributes\":{},\"id\":\"2117\",\"type\":\"SaveTool\"},{\"attributes\":{},\"id\":\"2118\",\"type\":\"PanTool\"},{\"attributes\":{\"fill_alpha\":{\"value\":0.1},\"fill_color\":{\"value\":\"#30a2da\"},\"line_alpha\":{\"value\":0.1},\"top\":{\"field\":\"A_3_BR_Median_Price\"},\"width\":{\"value\":0.8},\"x\":{\"field\":\"RegionName\"}},\"id\":\"2134\",\"type\":\"VBar\"},{\"attributes\":{},\"id\":\"2121\",\"type\":\"ResetTool\"},{\"attributes\":{},\"id\":\"2119\",\"type\":\"WheelZoomTool\"},{\"attributes\":{\"active_multi\":null,\"tools\":[{\"id\":\"2100\"},{\"id\":\"2117\"},{\"id\":\"2118\"},{\"id\":\"2119\"},{\"id\":\"2120\"},{\"id\":\"2121\"}]},\"id\":\"2123\",\"type\":\"Toolbar\"},{\"attributes\":{\"overlay\":{\"id\":\"2122\"}},\"id\":\"2120\",\"type\":\"BoxZoomTool\"},{\"attributes\":{\"source\":{\"id\":\"2130\"}},\"id\":\"2137\",\"type\":\"CDSView\"},{\"attributes\":{\"axis_label\":\"RegionName\",\"formatter\":{\"id\":\"2141\"},\"major_label_orientation\":1.5707963267948966,\"major_label_policy\":{\"id\":\"2140\"},\"ticker\":{\"id\":\"2111\"}},\"id\":\"2110\",\"type\":\"CategoricalAxis\"},{\"attributes\":{\"fill_color\":{\"value\":\"#30a2da\"},\"top\":{\"field\":\"A_3_BR_Median_Price\"},\"width\":{\"value\":0.8},\"x\":{\"field\":\"RegionName\"}},\"id\":\"2133\",\"type\":\"VBar\"},{\"attributes\":{},\"id\":\"2106\",\"type\":\"CategoricalScale\"},{\"attributes\":{\"children\":[{\"id\":\"2097\"},{\"id\":\"2101\"},{\"id\":\"2165\"}],\"margin\":[0,0,0,0],\"name\":\"Row03303\",\"tags\":[\"embedded\"]},\"id\":\"2096\",\"type\":\"Row\"},{\"attributes\":{},\"id\":\"2144\",\"type\":\"AllLabels\"},{\"attributes\":{},\"id\":\"2108\",\"type\":\"LinearScale\"},{\"attributes\":{},\"id\":\"2141\",\"type\":\"CategoricalTickFormatter\"},{\"attributes\":{\"margin\":[5,5,5,5],\"name\":\"HSpacer03307\",\"sizing_mode\":\"stretch_width\"},\"id\":\"2097\",\"type\":\"Spacer\"},{\"attributes\":{},\"id\":\"2140\",\"type\":\"AllLabels\"},{\"attributes\":{\"text\":\"Housing Options\",\"text_color\":\"black\",\"text_font_size\":\"12pt\"},\"id\":\"2102\",\"type\":\"Title\"},{\"attributes\":{},\"id\":\"2111\",\"type\":\"CategoricalTicker\"},{\"attributes\":{},\"id\":\"2142\",\"type\":\"BasicTickFormatter\"},{\"attributes\":{\"data\":{\"A_3_BR_Median_Price\":{\"__ndarray__\":\"AAAAAADAgkAAAAAAADCBQHE9CtejsoJAuB6F61HVlEAAAAAAAHCHQAAAAAAAUIRAj8L1KFyFiUAAAAAAAJyIQHE9CtejqoBAj8L1KFz1h0C4HoXrUWWWQA==\",\"dtype\":\"float64\",\"order\":\"little\",\"shape\":[11]},\"RegionName\":[\"Bayonne\",\"East Orange\",\"Elizabeth\",\"Hoboken\",\"Irvington\",\"Jersey City\",\"Middletown Township\",\"Newark\",\"Paterson\",\"Union City\",\"Weehawken\"]},\"selected\":{\"id\":\"2131\"},\"selection_policy\":{\"id\":\"2154\"}},\"id\":\"2130\",\"type\":\"ColumnDataSource\"},{\"attributes\":{\"factors\":[\"Bayonne\",\"East Orange\",\"Elizabeth\",\"Hoboken\",\"Irvington\",\"Jersey City\",\"Middletown Township\",\"Newark\",\"Paterson\",\"Union City\",\"Weehawken\"],\"tags\":[[[\"RegionName\",\"RegionName\",null]]]},\"id\":\"2098\",\"type\":\"FactorRange\"},{\"attributes\":{\"axis\":{\"id\":\"2113\"},\"dimension\":1,\"grid_line_color\":null,\"ticker\":null},\"id\":\"2116\",\"type\":\"Grid\"},{\"attributes\":{\"end\":1523.33,\"reset_end\":1523.33,\"reset_start\":0.0,\"tags\":[[[\"3 BR Median Price\",\"3 BR Median Price\",null]]]},\"id\":\"2099\",\"type\":\"Range1d\"},{\"attributes\":{},\"id\":\"2154\",\"type\":\"UnionRenderers\"},{\"attributes\":{\"margin\":[5,5,5,5],\"name\":\"HSpacer03308\",\"sizing_mode\":\"stretch_width\"},\"id\":\"2165\",\"type\":\"Spacer\"},{\"attributes\":{},\"id\":\"2114\",\"type\":\"BasicTicker\"},{\"attributes\":{\"axis_label\":\"3 BR Median Price\",\"formatter\":{\"id\":\"2142\"},\"major_label_policy\":{\"id\":\"2144\"},\"ticker\":{\"id\":\"2114\"}},\"id\":\"2113\",\"type\":\"LinearAxis\"},{\"attributes\":{\"callback\":null,\"renderers\":[{\"id\":\"2136\"}],\"tags\":[\"hv_created\"],\"tooltips\":[[\"RegionName\",\"@{RegionName}\"],[\"3 BR Median Price\",\"@{A_3_BR_Median_Price}\"]]},\"id\":\"2100\",\"type\":\"HoverTool\"},{\"attributes\":{\"bottom_units\":\"screen\",\"fill_alpha\":0.5,\"fill_color\":\"lightgrey\",\"left_units\":\"screen\",\"level\":\"overlay\",\"line_alpha\":1.0,\"line_color\":\"black\",\"line_dash\":[4,4],\"line_width\":2,\"right_units\":\"screen\",\"syncable\":false,\"top_units\":\"screen\"},\"id\":\"2122\",\"type\":\"BoxAnnotation\"},{\"attributes\":{},\"id\":\"2131\",\"type\":\"Selection\"},{\"attributes\":{\"data_source\":{\"id\":\"2130\"},\"glyph\":{\"id\":\"2133\"},\"hover_glyph\":null,\"muted_glyph\":{\"id\":\"2135\"},\"nonselection_glyph\":{\"id\":\"2134\"},\"selection_glyph\":{\"id\":\"2138\"},\"view\":{\"id\":\"2137\"}},\"id\":\"2136\",\"type\":\"GlyphRenderer\"}],\"root_ids\":[\"2096\"]},\"title\":\"Bokeh Application\",\"version\":\"2.3.2\"}};\n",
       "    var render_items = [{\"docid\":\"7f9e1bd2-b5b6-4e0b-8fec-047010fb9003\",\"root_ids\":[\"2096\"],\"roots\":{\"2096\":\"400f54d8-9805-4410-b9c5-35a5799862e2\"}}];\n",
       "    root.Bokeh.embed.embed_items_notebook(docs_json, render_items);\n",
       "  }\n",
       "  if (root.Bokeh !== undefined && root.Bokeh.Panel !== undefined && root['Plotly'] !== undefined ) {\n",
       "    embed_document(root);\n",
       "  } else {\n",
       "    var attempts = 0;\n",
       "    var timer = setInterval(function(root) {\n",
       "      if (root.Bokeh !== undefined && root.Bokeh.Panel !== undefined && root['Plotly'] !== undefined) {\n",
       "        clearInterval(timer);\n",
       "        embed_document(root);\n",
       "      } else if (document.readyState == \"complete\") {\n",
       "        attempts++;\n",
       "        if (attempts > 100) {\n",
       "          clearInterval(timer);\n",
       "          console.log(\"Bokeh: ERROR: Unable to run BokehJS code because BokehJS library is missing\");\n",
       "        }\n",
       "      }\n",
       "    }, 10, root)\n",
       "  }\n",
       "})(window);</script>"
      ]
     },
     "metadata": {
      "application/vnd.holoviews_exec.v0+json": {
       "id": "2096"
      }
     },
     "execution_count": 36
    }
   ],
   "metadata": {}
  },
  {
   "cell_type": "code",
   "execution_count": 41,
   "source": [
    "chatter('The_Good_Knight: Hmm.. Maybe it would make more sense to put the data side by side. Let\\'s give that a shot!')\r\n",
    "\r\n",
    "#Concat and join mutual matching options\r\n",
    "housing_analysis = pd.concat([housing_options,housing_options_2], axis=1, join='outer', sort=False).dropna()\r\n",
    "\r\n",
    "housing_analysis.hvplot.bar(\r\n",
    "    label='Housing Options', rot=90\r\n",
    ")\r\n"
   ],
   "outputs": [
    {
     "output_type": "stream",
     "name": "stdout",
     "text": [
      "\n",
      "The_Good_Knight: Hmm.. Maybe it would make more sense to put the data side by side. Let's give that a shot!\n"
     ]
    },
    {
     "output_type": "display_data",
     "data": {},
     "metadata": {}
    },
    {
     "output_type": "execute_result",
     "data": {
      "application/vnd.holoviews_exec.v0+json": "",
      "text/plain": [
       ":Bars   [index,Variable]   (value)"
      ],
      "text/html": [
       "<div id='2618'>\n",
       "\n",
       "\n",
       "\n",
       "\n",
       "\n",
       "  <div class=\"bk-root\" id=\"640db259-0356-4d5a-962c-6d8a0e32a3b8\" data-root-id=\"2618\"></div>\n",
       "</div>\n",
       "<script type=\"application/javascript\">(function(root) {\n",
       "  function embed_document(root) {\n",
       "    var docs_json = {\"1eabf329-b57c-493a-a33f-b589a990e24e\":{\"defs\":[],\"roots\":{\"references\":[{\"attributes\":{},\"id\":\"2665\",\"type\":\"BasicTickFormatter\"},{\"attributes\":{},\"id\":\"2636\",\"type\":\"BasicTicker\"},{\"attributes\":{\"axis_label\":\"\",\"formatter\":{\"id\":\"2665\"},\"major_label_policy\":{\"id\":\"2667\"},\"ticker\":{\"id\":\"2636\"}},\"id\":\"2635\",\"type\":\"LinearAxis\"},{\"attributes\":{\"data_source\":{\"id\":\"2653\"},\"glyph\":{\"id\":\"2656\"},\"hover_glyph\":null,\"muted_glyph\":{\"id\":\"2658\"},\"nonselection_glyph\":{\"id\":\"2657\"},\"selection_glyph\":{\"id\":\"2661\"},\"view\":{\"id\":\"2660\"}},\"id\":\"2659\",\"type\":\"GlyphRenderer\"},{\"attributes\":{\"bottom_units\":\"screen\",\"fill_alpha\":0.5,\"fill_color\":\"lightgrey\",\"left_units\":\"screen\",\"level\":\"overlay\",\"line_alpha\":1.0,\"line_color\":\"black\",\"line_dash\":[4,4],\"line_width\":2,\"right_units\":\"screen\",\"syncable\":false,\"top_units\":\"screen\"},\"id\":\"2644\",\"type\":\"BoxAnnotation\"},{\"attributes\":{\"callback\":null,\"renderers\":[{\"id\":\"2659\"}],\"tags\":[\"hv_created\"],\"tooltips\":[[\"index\",\"@{index}\"],[\"Variable\",\"@{Variable}\"],[\"value\",\"@{value}\"]]},\"id\":\"2622\",\"type\":\"HoverTool\"},{\"attributes\":{},\"id\":\"2667\",\"type\":\"AllLabels\"},{\"attributes\":{},\"id\":\"2663\",\"type\":\"AllLabels\"},{\"attributes\":{\"active_multi\":null,\"tools\":[{\"id\":\"2622\"},{\"id\":\"2639\"},{\"id\":\"2640\"},{\"id\":\"2641\"},{\"id\":\"2642\"},{\"id\":\"2643\"}]},\"id\":\"2645\",\"type\":\"Toolbar\"},{\"attributes\":{\"children\":[{\"id\":\"2619\"},{\"id\":\"2623\"},{\"id\":\"2688\"}],\"margin\":[0,0,0,0],\"name\":\"Row04227\",\"tags\":[\"embedded\"]},\"id\":\"2618\",\"type\":\"Row\"},{\"attributes\":{},\"id\":\"2654\",\"type\":\"Selection\"},{\"attributes\":{\"axis\":{\"id\":\"2632\"},\"grid_line_color\":null,\"ticker\":null},\"id\":\"2634\",\"type\":\"Grid\"},{\"attributes\":{},\"id\":\"2639\",\"type\":\"SaveTool\"},{\"attributes\":{},\"id\":\"2640\",\"type\":\"PanTool\"},{\"attributes\":{\"fill_alpha\":{\"value\":0.2},\"fill_color\":{\"field\":\"Variable\",\"transform\":{\"id\":\"2652\"}},\"line_alpha\":{\"value\":0.2},\"top\":{\"field\":\"value\"},\"width\":{\"value\":0.8},\"x\":{\"field\":\"xoffsets\"}},\"id\":\"2658\",\"type\":\"VBar\"},{\"attributes\":{\"below\":[{\"id\":\"2632\"}],\"center\":[{\"id\":\"2634\"},{\"id\":\"2638\"}],\"height\":300,\"left\":[{\"id\":\"2635\"}],\"margin\":[5,5,5,5],\"min_border_bottom\":10,\"min_border_left\":10,\"min_border_right\":10,\"min_border_top\":10,\"renderers\":[{\"id\":\"2659\"}],\"sizing_mode\":\"fixed\",\"title\":{\"id\":\"2624\"},\"toolbar\":{\"id\":\"2645\"},\"width\":700,\"x_range\":{\"id\":\"2620\"},\"x_scale\":{\"id\":\"2628\"},\"y_range\":{\"id\":\"2621\"},\"y_scale\":{\"id\":\"2630\"}},\"id\":\"2623\",\"subtype\":\"Figure\",\"type\":\"Plot\"},{\"attributes\":{\"margin\":[5,5,5,5],\"name\":\"HSpacer04231\",\"sizing_mode\":\"stretch_width\"},\"id\":\"2619\",\"type\":\"Spacer\"},{\"attributes\":{},\"id\":\"2643\",\"type\":\"ResetTool\"},{\"attributes\":{\"fill_color\":{\"field\":\"Variable\",\"transform\":{\"id\":\"2652\"}},\"top\":{\"field\":\"value\"},\"width\":{\"value\":0.8},\"x\":{\"field\":\"xoffsets\"}},\"id\":\"2656\",\"type\":\"VBar\"},{\"attributes\":{},\"id\":\"2641\",\"type\":\"WheelZoomTool\"},{\"attributes\":{\"source\":{\"id\":\"2653\"}},\"id\":\"2660\",\"type\":\"CDSView\"},{\"attributes\":{\"fill_alpha\":{\"value\":0.1},\"fill_color\":{\"field\":\"Variable\",\"transform\":{\"id\":\"2652\"}},\"line_alpha\":{\"value\":0.1},\"top\":{\"field\":\"value\"},\"width\":{\"value\":0.8},\"x\":{\"field\":\"xoffsets\"}},\"id\":\"2657\",\"type\":\"VBar\"},{\"attributes\":{\"overlay\":{\"id\":\"2644\"}},\"id\":\"2642\",\"type\":\"BoxZoomTool\"},{\"attributes\":{\"margin\":[5,5,5,5],\"name\":\"HSpacer04232\",\"sizing_mode\":\"stretch_width\"},\"id\":\"2688\",\"type\":\"Spacer\"},{\"attributes\":{},\"id\":\"2664\",\"type\":\"CategoricalTickFormatter\"},{\"attributes\":{},\"id\":\"2677\",\"type\":\"UnionRenderers\"},{\"attributes\":{\"text\":\"Housing Options\",\"text_color\":\"black\",\"text_font_size\":\"12pt\"},\"id\":\"2624\",\"type\":\"Title\"},{\"attributes\":{\"bottom\":{\"value\":0},\"fill_alpha\":{\"value\":1.0},\"fill_color\":{\"field\":\"Variable\",\"transform\":{\"id\":\"2652\"}},\"hatch_alpha\":{\"value\":1.0},\"hatch_color\":{\"value\":\"black\"},\"hatch_scale\":{\"value\":12.0},\"hatch_weight\":{\"value\":1.0},\"line_alpha\":{\"value\":1.0},\"line_cap\":{\"value\":\"butt\"},\"line_color\":{\"value\":\"black\"},\"line_dash\":{\"value\":[]},\"line_dash_offset\":{\"value\":0},\"line_join\":{\"value\":\"bevel\"},\"line_width\":{\"value\":1},\"top\":{\"field\":\"value\"},\"width\":{\"value\":0.8},\"x\":{\"field\":\"xoffsets\"}},\"id\":\"2661\",\"type\":\"VBar\"},{\"attributes\":{\"data\":{\"Variable\":[\"2 BR Median Price\",\"2 BR Median Price\",\"2 BR Median Price\",\"2 BR Median Price\",\"2 BR Median Price\",\"2 BR Median Price\",\"2 BR Median Price\",\"2 BR Median Price\",\"2 BR Median Price\",\"3 BR Median Price\",\"3 BR Median Price\",\"3 BR Median Price\",\"3 BR Median Price\",\"3 BR Median Price\",\"3 BR Median Price\",\"3 BR Median Price\",\"3 BR Median Price\",\"3 BR Median Price\"],\"index\":[\"Bayonne\",\"East Orange\",\"Elizabeth\",\"Hoboken\",\"Irvington\",\"Middletown Township\",\"Paterson\",\"Union City\",\"Weehawken\",\"Bayonne\",\"East Orange\",\"Elizabeth\",\"Hoboken\",\"Irvington\",\"Middletown Township\",\"Paterson\",\"Union City\",\"Weehawken\"],\"value\":{\"__ndarray__\":\"j8L1KFwlgEBxPQrXo6qAQI/C9ShcJYBAAAAAAABokEAAAAAAAFCEQAAAAAAAwIJAH4XrUbgqfUAAAAAAAOCFQAAAAAAAGpNAAAAAAADAgkAAAAAAADCBQHE9CtejsoJAuB6F61HVlEAAAAAAAHCHQI/C9ShchYlAcT0K16OqgECPwvUoXPWHQLgehetRZZZA\",\"dtype\":\"float64\",\"order\":\"little\",\"shape\":[18]},\"xoffsets\":[[\"Bayonne\",\"2 BR Median Price\"],[\"East Orange\",\"2 BR Median Price\"],[\"Elizabeth\",\"2 BR Median Price\"],[\"Hoboken\",\"2 BR Median Price\"],[\"Irvington\",\"2 BR Median Price\"],[\"Middletown Township\",\"2 BR Median Price\"],[\"Paterson\",\"2 BR Median Price\"],[\"Union City\",\"2 BR Median Price\"],[\"Weehawken\",\"2 BR Median Price\"],[\"Bayonne\",\"3 BR Median Price\"],[\"East Orange\",\"3 BR Median Price\"],[\"Elizabeth\",\"3 BR Median Price\"],[\"Hoboken\",\"3 BR Median Price\"],[\"Irvington\",\"3 BR Median Price\"],[\"Middletown Township\",\"3 BR Median Price\"],[\"Paterson\",\"3 BR Median Price\"],[\"Union City\",\"3 BR Median Price\"],[\"Weehawken\",\"3 BR Median Price\"]]},\"selected\":{\"id\":\"2654\"},\"selection_policy\":{\"id\":\"2677\"}},\"id\":\"2653\",\"type\":\"ColumnDataSource\"},{\"attributes\":{\"axis_label\":\"\",\"formatter\":{\"id\":\"2664\"},\"major_label_orientation\":1.5707963267948966,\"major_label_policy\":{\"id\":\"2663\"},\"ticker\":{\"id\":\"2633\"}},\"id\":\"2632\",\"type\":\"CategoricalAxis\"},{\"attributes\":{\"factors\":[\"2 BR Median Price\",\"3 BR Median Price\"],\"palette\":[\"#30a2da\",\"#fc4f30\"]},\"id\":\"2652\",\"type\":\"CategoricalColorMapper\"},{\"attributes\":{},\"id\":\"2628\",\"type\":\"CategoricalScale\"},{\"attributes\":{},\"id\":\"2630\",\"type\":\"LinearScale\"},{\"attributes\":{\"factors\":[[\"Bayonne\",\"2 BR Median Price\"],[\"Bayonne\",\"3 BR Median Price\"],[\"East Orange\",\"2 BR Median Price\"],[\"East Orange\",\"3 BR Median Price\"],[\"Elizabeth\",\"2 BR Median Price\"],[\"Elizabeth\",\"3 BR Median Price\"],[\"Hoboken\",\"2 BR Median Price\"],[\"Hoboken\",\"3 BR Median Price\"],[\"Irvington\",\"2 BR Median Price\"],[\"Irvington\",\"3 BR Median Price\"],[\"Middletown Township\",\"2 BR Median Price\"],[\"Middletown Township\",\"3 BR Median Price\"],[\"Paterson\",\"2 BR Median Price\"],[\"Paterson\",\"3 BR Median Price\"],[\"Union City\",\"2 BR Median Price\"],[\"Union City\",\"3 BR Median Price\"],[\"Weehawken\",\"2 BR Median Price\"],[\"Weehawken\",\"3 BR Median Price\"]],\"tags\":[[[\"index\",\"index\",null],[\"Variable\",\"Variable\",null]]]},\"id\":\"2620\",\"type\":\"FactorRange\"},{\"attributes\":{},\"id\":\"2633\",\"type\":\"CategoricalTicker\"},{\"attributes\":{\"end\":1529.9959999999999,\"reset_end\":1529.9959999999999,\"reset_start\":0.0,\"tags\":[[[\"value\",\"value\",null]]]},\"id\":\"2621\",\"type\":\"Range1d\"},{\"attributes\":{\"axis\":{\"id\":\"2635\"},\"dimension\":1,\"grid_line_color\":null,\"ticker\":null},\"id\":\"2638\",\"type\":\"Grid\"}],\"root_ids\":[\"2618\"]},\"title\":\"Bokeh Application\",\"version\":\"2.3.2\"}};\n",
       "    var render_items = [{\"docid\":\"1eabf329-b57c-493a-a33f-b589a990e24e\",\"root_ids\":[\"2618\"],\"roots\":{\"2618\":\"640db259-0356-4d5a-962c-6d8a0e32a3b8\"}}];\n",
       "    root.Bokeh.embed.embed_items_notebook(docs_json, render_items);\n",
       "  }\n",
       "  if (root.Bokeh !== undefined && root.Bokeh.Panel !== undefined && root['Plotly'] !== undefined ) {\n",
       "    embed_document(root);\n",
       "  } else {\n",
       "    var attempts = 0;\n",
       "    var timer = setInterval(function(root) {\n",
       "      if (root.Bokeh !== undefined && root.Bokeh.Panel !== undefined && root['Plotly'] !== undefined) {\n",
       "        clearInterval(timer);\n",
       "        embed_document(root);\n",
       "      } else if (document.readyState == \"complete\") {\n",
       "        attempts++;\n",
       "        if (attempts > 100) {\n",
       "          clearInterval(timer);\n",
       "          console.log(\"Bokeh: ERROR: Unable to run BokehJS code because BokehJS library is missing\");\n",
       "        }\n",
       "      }\n",
       "    }, 10, root)\n",
       "  }\n",
       "})(window);</script>"
      ]
     },
     "metadata": {
      "application/vnd.holoviews_exec.v0+json": {
       "id": "2618"
      }
     },
     "execution_count": 41
    }
   ],
   "metadata": {}
  }
 ]
}