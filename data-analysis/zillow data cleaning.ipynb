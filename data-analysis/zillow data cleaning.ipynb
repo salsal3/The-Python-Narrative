{
 "metadata": {
  "language_info": {
   "codemirror_mode": {
    "name": "ipython",
    "version": 3
   },
   "file_extension": ".py",
   "mimetype": "text/x-python",
   "name": "python",
   "nbconvert_exporter": "python",
   "pygments_lexer": "ipython3",
   "version": "3.8.8"
  },
  "orig_nbformat": 4,
  "kernelspec": {
   "name": "python3",
   "display_name": "Python 3.8.8 64-bit ('base': conda)"
  },
  "interpreter": {
   "hash": "52575ae80af061cc64d8b7f38a5cb1b871b63f9c1317091abcb24f04cea2ba60"
  }
 },
 "nbformat": 4,
 "nbformat_minor": 2,
 "cells": [
  {
   "cell_type": "code",
   "execution_count": 14,
   "metadata": {},
   "outputs": [],
   "source": [
    "# If at any point you're receiving the following TypeError message:\n",
    "## TypeError: Cannot interpret '<attribute 'dtype' of 'numpy.generic' objects>' as a data type\n",
    "# Check the compatibility of your versions of numpy and pandas:\n",
    "#print(np.__version__)\n",
    "#print(pd.__version__)\n",
    "\n",
    "##!pip install numpy==1.16.5 --user\n",
    "##!pip install pandas==0.25.3 --user\n",
    "\n",
    "# Import libraries and dependencies\n",
    "#import panel as pn\n",
    "#pn.extension('plotly')\n",
    "#import plotly.express as px\n",
    "import pandas as pd\n",
    "#import hvplot.pandas\n",
    "import matplotlib.pyplot as plt\n",
    "import numpy as np\n",
    "import os\n",
    "from pathlib import Path\n",
    "from dotenv import load_dotenv\n",
    "#import alpaca_trade_api as tradeapi\n",
    "#from MCForecastTools import MCSimulation\n",
    "import json, requests"
   ]
  },
  {
   "cell_type": "code",
   "execution_count": 15,
   "metadata": {},
   "outputs": [
    {
     "output_type": "execute_result",
     "data": {
      "text/plain": [
       "              State                           Metro            CountyName  \\\n",
       "RegionName                                                                  \n",
       "Malibu           CA  Los Angeles-Long Beach-Anaheim    Los Angeles County   \n",
       "San Francisco    CA   San Francisco-Oakland-Hayward  San Francisco County   \n",
       "Mountain View    CA  San Jose-Sunnyvale-Santa Clara    Santa Clara County   \n",
       "Redwood City     CA   San Francisco-Oakland-Hayward      San Mateo County   \n",
       "Foster City      CA   San Francisco-Oakland-Hayward      San Mateo County   \n",
       "\n",
       "               SizeRank  1 BR Median Price  \n",
       "RegionName                                  \n",
       "Malibu              768             5000.0  \n",
       "San Francisco        15             3500.0  \n",
       "Mountain View       408             3350.0  \n",
       "Redwood City        356             3212.5  \n",
       "Foster City         678             3085.0  "
      ],
      "text/html": "<div>\n<style scoped>\n    .dataframe tbody tr th:only-of-type {\n        vertical-align: middle;\n    }\n\n    .dataframe tbody tr th {\n        vertical-align: top;\n    }\n\n    .dataframe thead th {\n        text-align: right;\n    }\n</style>\n<table border=\"1\" class=\"dataframe\">\n  <thead>\n    <tr style=\"text-align: right;\">\n      <th></th>\n      <th>State</th>\n      <th>Metro</th>\n      <th>CountyName</th>\n      <th>SizeRank</th>\n      <th>1 BR Median Price</th>\n    </tr>\n    <tr>\n      <th>RegionName</th>\n      <th></th>\n      <th></th>\n      <th></th>\n      <th></th>\n      <th></th>\n    </tr>\n  </thead>\n  <tbody>\n    <tr>\n      <th>Malibu</th>\n      <td>CA</td>\n      <td>Los Angeles-Long Beach-Anaheim</td>\n      <td>Los Angeles County</td>\n      <td>768</td>\n      <td>5000.0</td>\n    </tr>\n    <tr>\n      <th>San Francisco</th>\n      <td>CA</td>\n      <td>San Francisco-Oakland-Hayward</td>\n      <td>San Francisco County</td>\n      <td>15</td>\n      <td>3500.0</td>\n    </tr>\n    <tr>\n      <th>Mountain View</th>\n      <td>CA</td>\n      <td>San Jose-Sunnyvale-Santa Clara</td>\n      <td>Santa Clara County</td>\n      <td>408</td>\n      <td>3350.0</td>\n    </tr>\n    <tr>\n      <th>Redwood City</th>\n      <td>CA</td>\n      <td>San Francisco-Oakland-Hayward</td>\n      <td>San Mateo County</td>\n      <td>356</td>\n      <td>3212.5</td>\n    </tr>\n    <tr>\n      <th>Foster City</th>\n      <td>CA</td>\n      <td>San Francisco-Oakland-Hayward</td>\n      <td>San Mateo County</td>\n      <td>678</td>\n      <td>3085.0</td>\n    </tr>\n  </tbody>\n</table>\n</div>"
     },
     "metadata": {},
     "execution_count": 15
    }
   ],
   "source": [
    "#Read in the data and create a Data Frame. Drop NA as we will only be using the most recent median prices available - 2019-12. Drop unused columns, sort values, and rename '2019-12 column to 'Median Price'\n",
    "br1_data = pd.read_csv('C:/Users/Myles/Documents/GitHub/Project/bcs-project1/resources/City_MedianRentalPrice_1Bedroom.csv',index_col='RegionName')\n",
    "br1_df = pd.DataFrame(br1_data).dropna(axis=1).drop(['Unnamed: 0','2019-01','2019-02','2019-03','2019-04','2019-05','2019-06','2019-07','2019-08','2019-09','2019-10','2019-11'],axis=1).sort_values('2019-12',ascending=False).rename(columns={'2019-12':'1 BR Median Price'})\n",
    "\n",
    "\n",
    "\n",
    "br1_df.head()"
   ]
  },
  {
   "cell_type": "code",
   "execution_count": 16,
   "metadata": {},
   "outputs": [
    {
     "output_type": "execute_result",
     "data": {
      "text/plain": [
       "              State                                  Metro  \\\n",
       "RegionName                                                   \n",
       "Longboat Key     FL          North Port-Sarasota-Bradenton   \n",
       "Siesta Key       FL          North Port-Sarasota-Bradenton   \n",
       "San Francisco    CA          San Francisco-Oakland-Hayward   \n",
       "Palo Alto        CA         San Jose-Sunnyvale-Santa Clara   \n",
       "Key Biscayne     FL  Miami-Fort Lauderdale-West Palm Beach   \n",
       "\n",
       "                         CountyName  SizeRank  2 BR Median Price  \n",
       "RegionName                                                        \n",
       "Longboat Key        Sarasota County      1265             5000.0  \n",
       "Siesta Key          Sarasota County      1261             4600.0  \n",
       "San Francisco  San Francisco County        15             4599.5  \n",
       "Palo Alto        Santa Clara County       594             4400.0  \n",
       "Key Biscayne      Miami-Dade County      1220             4400.0  "
      ],
      "text/html": "<div>\n<style scoped>\n    .dataframe tbody tr th:only-of-type {\n        vertical-align: middle;\n    }\n\n    .dataframe tbody tr th {\n        vertical-align: top;\n    }\n\n    .dataframe thead th {\n        text-align: right;\n    }\n</style>\n<table border=\"1\" class=\"dataframe\">\n  <thead>\n    <tr style=\"text-align: right;\">\n      <th></th>\n      <th>State</th>\n      <th>Metro</th>\n      <th>CountyName</th>\n      <th>SizeRank</th>\n      <th>2 BR Median Price</th>\n    </tr>\n    <tr>\n      <th>RegionName</th>\n      <th></th>\n      <th></th>\n      <th></th>\n      <th></th>\n      <th></th>\n    </tr>\n  </thead>\n  <tbody>\n    <tr>\n      <th>Longboat Key</th>\n      <td>FL</td>\n      <td>North Port-Sarasota-Bradenton</td>\n      <td>Sarasota County</td>\n      <td>1265</td>\n      <td>5000.0</td>\n    </tr>\n    <tr>\n      <th>Siesta Key</th>\n      <td>FL</td>\n      <td>North Port-Sarasota-Bradenton</td>\n      <td>Sarasota County</td>\n      <td>1261</td>\n      <td>4600.0</td>\n    </tr>\n    <tr>\n      <th>San Francisco</th>\n      <td>CA</td>\n      <td>San Francisco-Oakland-Hayward</td>\n      <td>San Francisco County</td>\n      <td>15</td>\n      <td>4599.5</td>\n    </tr>\n    <tr>\n      <th>Palo Alto</th>\n      <td>CA</td>\n      <td>San Jose-Sunnyvale-Santa Clara</td>\n      <td>Santa Clara County</td>\n      <td>594</td>\n      <td>4400.0</td>\n    </tr>\n    <tr>\n      <th>Key Biscayne</th>\n      <td>FL</td>\n      <td>Miami-Fort Lauderdale-West Palm Beach</td>\n      <td>Miami-Dade County</td>\n      <td>1220</td>\n      <td>4400.0</td>\n    </tr>\n  </tbody>\n</table>\n</div>"
     },
     "metadata": {},
     "execution_count": 16
    }
   ],
   "source": [
    "br2_data = pd.read_csv('C:/Users/Myles/Documents/GitHub/Project/bcs-project1/resources/City_MedianRentalPrice_2Bedroom.csv',index_col='RegionName')\n",
    "br2_df = pd.DataFrame(br2_data).dropna(axis=1).drop(['Unnamed: 0','2019-01','2019-02','2019-03','2019-04','2019-05','2019-06','2019-07','2019-08','2019-09','2019-10','2019-11'],axis=1).sort_values('2019-12',ascending=False).rename(columns={'2019-12':'2 BR Median Price'})\n",
    "\n",
    "br2_df.head()"
   ]
  },
  {
   "cell_type": "code",
   "execution_count": 17,
   "metadata": {},
   "outputs": [
    {
     "output_type": "execute_result",
     "data": {
      "text/plain": [
       "                  State                                  Metro  \\\n",
       "RegionName                                                       \n",
       "Bridgehampton        NY            New York-Newark-Jersey City   \n",
       "Montauk              NY            New York-Newark-Jersey City   \n",
       "Westhampton Beach    NY            New York-Newark-Jersey City   \n",
       "Malibu               CA         Los Angeles-Long Beach-Anaheim   \n",
       "Key Biscayne         FL  Miami-Fort Lauderdale-West Palm Beach   \n",
       "\n",
       "                           CountyName  SizeRank  3 BR Median Price  \n",
       "RegionName                                                          \n",
       "Bridgehampton          Suffolk County       988            30000.0  \n",
       "Montauk                Suffolk County       989            21333.0  \n",
       "Westhampton Beach      Suffolk County       990            20250.0  \n",
       "Malibu             Los Angeles County       954            17000.0  \n",
       "Key Biscayne        Miami-Dade County       980             7500.0  "
      ],
      "text/html": "<div>\n<style scoped>\n    .dataframe tbody tr th:only-of-type {\n        vertical-align: middle;\n    }\n\n    .dataframe tbody tr th {\n        vertical-align: top;\n    }\n\n    .dataframe thead th {\n        text-align: right;\n    }\n</style>\n<table border=\"1\" class=\"dataframe\">\n  <thead>\n    <tr style=\"text-align: right;\">\n      <th></th>\n      <th>State</th>\n      <th>Metro</th>\n      <th>CountyName</th>\n      <th>SizeRank</th>\n      <th>3 BR Median Price</th>\n    </tr>\n    <tr>\n      <th>RegionName</th>\n      <th></th>\n      <th></th>\n      <th></th>\n      <th></th>\n      <th></th>\n    </tr>\n  </thead>\n  <tbody>\n    <tr>\n      <th>Bridgehampton</th>\n      <td>NY</td>\n      <td>New York-Newark-Jersey City</td>\n      <td>Suffolk County</td>\n      <td>988</td>\n      <td>30000.0</td>\n    </tr>\n    <tr>\n      <th>Montauk</th>\n      <td>NY</td>\n      <td>New York-Newark-Jersey City</td>\n      <td>Suffolk County</td>\n      <td>989</td>\n      <td>21333.0</td>\n    </tr>\n    <tr>\n      <th>Westhampton Beach</th>\n      <td>NY</td>\n      <td>New York-Newark-Jersey City</td>\n      <td>Suffolk County</td>\n      <td>990</td>\n      <td>20250.0</td>\n    </tr>\n    <tr>\n      <th>Malibu</th>\n      <td>CA</td>\n      <td>Los Angeles-Long Beach-Anaheim</td>\n      <td>Los Angeles County</td>\n      <td>954</td>\n      <td>17000.0</td>\n    </tr>\n    <tr>\n      <th>Key Biscayne</th>\n      <td>FL</td>\n      <td>Miami-Fort Lauderdale-West Palm Beach</td>\n      <td>Miami-Dade County</td>\n      <td>980</td>\n      <td>7500.0</td>\n    </tr>\n  </tbody>\n</table>\n</div>"
     },
     "metadata": {},
     "execution_count": 17
    }
   ],
   "source": [
    "br3_data = pd.read_csv('C:/Users/Myles/Documents/GitHub/Project/bcs-project1/resources/City_MedianRentalPrice_3bedroom.csv',index_col='RegionName')\n",
    "br3_df = pd.DataFrame(br3_data).dropna(axis=1).drop(['Unnamed: 0','2019-01','2019-02','2019-03','2019-04','2019-05','2019-06','2019-07','2019-08','2019-09','2019-10','2019-11'],axis=1).sort_values('2019-12',ascending=False).rename(columns={'2019-12':'3 BR Median Price'})\n",
    "br3_df.head()"
   ]
  },
  {
   "cell_type": "code",
   "execution_count": 18,
   "metadata": {},
   "outputs": [
    {
     "output_type": "execute_result",
     "data": {
      "text/plain": [
       "                  State                        Metro      CountyName  \\\n",
       "RegionName                                                             \n",
       "Aspen                CO             Glenwood Springs   Pitkin County   \n",
       "Water Mill           NY  New York-Newark-Jersey City  Suffolk County   \n",
       "Bridgehampton        NY  New York-Newark-Jersey City  Suffolk County   \n",
       "Sag Harbor           NY  New York-Newark-Jersey City  Suffolk County   \n",
       "Westhampton Beach    NY  New York-Newark-Jersey City  Suffolk County   \n",
       "\n",
       "                   SizeRank  4 BR Median Price  \n",
       "RegionName                                      \n",
       "Aspen                   311            50000.0  \n",
       "Water Mill              315            40000.0  \n",
       "Bridgehampton           313            36333.0  \n",
       "Sag Harbor              312            30000.0  \n",
       "Westhampton Beach       314            28166.5  "
      ],
      "text/html": "<div>\n<style scoped>\n    .dataframe tbody tr th:only-of-type {\n        vertical-align: middle;\n    }\n\n    .dataframe tbody tr th {\n        vertical-align: top;\n    }\n\n    .dataframe thead th {\n        text-align: right;\n    }\n</style>\n<table border=\"1\" class=\"dataframe\">\n  <thead>\n    <tr style=\"text-align: right;\">\n      <th></th>\n      <th>State</th>\n      <th>Metro</th>\n      <th>CountyName</th>\n      <th>SizeRank</th>\n      <th>4 BR Median Price</th>\n    </tr>\n    <tr>\n      <th>RegionName</th>\n      <th></th>\n      <th></th>\n      <th></th>\n      <th></th>\n      <th></th>\n    </tr>\n  </thead>\n  <tbody>\n    <tr>\n      <th>Aspen</th>\n      <td>CO</td>\n      <td>Glenwood Springs</td>\n      <td>Pitkin County</td>\n      <td>311</td>\n      <td>50000.0</td>\n    </tr>\n    <tr>\n      <th>Water Mill</th>\n      <td>NY</td>\n      <td>New York-Newark-Jersey City</td>\n      <td>Suffolk County</td>\n      <td>315</td>\n      <td>40000.0</td>\n    </tr>\n    <tr>\n      <th>Bridgehampton</th>\n      <td>NY</td>\n      <td>New York-Newark-Jersey City</td>\n      <td>Suffolk County</td>\n      <td>313</td>\n      <td>36333.0</td>\n    </tr>\n    <tr>\n      <th>Sag Harbor</th>\n      <td>NY</td>\n      <td>New York-Newark-Jersey City</td>\n      <td>Suffolk County</td>\n      <td>312</td>\n      <td>30000.0</td>\n    </tr>\n    <tr>\n      <th>Westhampton Beach</th>\n      <td>NY</td>\n      <td>New York-Newark-Jersey City</td>\n      <td>Suffolk County</td>\n      <td>314</td>\n      <td>28166.5</td>\n    </tr>\n  </tbody>\n</table>\n</div>"
     },
     "metadata": {},
     "execution_count": 18
    }
   ],
   "source": [
    "br4_data = pd.read_csv('C:/Users/Myles/Documents/GitHub/Project/bcs-project1/resources/City_MedianRentalPrice_4Bedroom.csv',index_col='RegionName')\n",
    "br4_df = pd.DataFrame(br4_data).dropna(axis=1).drop(['Unnamed: 0','2019-01','2019-02','2019-03','2019-04','2019-05','2019-06','2019-07','2019-08','2019-09','2019-10','2019-11'],axis=1).sort_values('2019-12',ascending=False).rename(columns={'2019-12':'4 BR Median Price'})\n",
    "\n",
    "br4_df.head()"
   ]
  },
  {
   "cell_type": "code",
   "execution_count": 21,
   "metadata": {},
   "outputs": [
    {
     "output_type": "execute_result",
     "data": {
      "text/plain": [
       "              State                           Metro          CountyName  \\\n",
       "RegionName                                                                \n",
       "Beverly Hills    CA  Los Angeles-Long Beach-Anaheim  Los Angeles County   \n",
       "Newport Beach    CA  Los Angeles-Long Beach-Anaheim       Orange County   \n",
       "Irvine           CA  Los Angeles-Long Beach-Anaheim       Orange County   \n",
       "San Diego        CA              San Diego-Carlsbad    San Diego County   \n",
       "Boston           MA         Boston-Cambridge-Newton      Suffolk County   \n",
       "\n",
       "               SizeRank  2018-12  5+ BR Median Price  \n",
       "RegionName                                            \n",
       "Beverly Hills        48  27500.0             26800.0  \n",
       "Newport Beach        43  12900.0             12500.0  \n",
       "Irvine               30   5700.0              6850.0  \n",
       "San Diego             6   5000.0              5500.0  \n",
       "Boston               13   4800.0              5000.0  "
      ],
      "text/html": "<div>\n<style scoped>\n    .dataframe tbody tr th:only-of-type {\n        vertical-align: middle;\n    }\n\n    .dataframe tbody tr th {\n        vertical-align: top;\n    }\n\n    .dataframe thead th {\n        text-align: right;\n    }\n</style>\n<table border=\"1\" class=\"dataframe\">\n  <thead>\n    <tr style=\"text-align: right;\">\n      <th></th>\n      <th>State</th>\n      <th>Metro</th>\n      <th>CountyName</th>\n      <th>SizeRank</th>\n      <th>2018-12</th>\n      <th>5+ BR Median Price</th>\n    </tr>\n    <tr>\n      <th>RegionName</th>\n      <th></th>\n      <th></th>\n      <th></th>\n      <th></th>\n      <th></th>\n      <th></th>\n    </tr>\n  </thead>\n  <tbody>\n    <tr>\n      <th>Beverly Hills</th>\n      <td>CA</td>\n      <td>Los Angeles-Long Beach-Anaheim</td>\n      <td>Los Angeles County</td>\n      <td>48</td>\n      <td>27500.0</td>\n      <td>26800.0</td>\n    </tr>\n    <tr>\n      <th>Newport Beach</th>\n      <td>CA</td>\n      <td>Los Angeles-Long Beach-Anaheim</td>\n      <td>Orange County</td>\n      <td>43</td>\n      <td>12900.0</td>\n      <td>12500.0</td>\n    </tr>\n    <tr>\n      <th>Irvine</th>\n      <td>CA</td>\n      <td>Los Angeles-Long Beach-Anaheim</td>\n      <td>Orange County</td>\n      <td>30</td>\n      <td>5700.0</td>\n      <td>6850.0</td>\n    </tr>\n    <tr>\n      <th>San Diego</th>\n      <td>CA</td>\n      <td>San Diego-Carlsbad</td>\n      <td>San Diego County</td>\n      <td>6</td>\n      <td>5000.0</td>\n      <td>5500.0</td>\n    </tr>\n    <tr>\n      <th>Boston</th>\n      <td>MA</td>\n      <td>Boston-Cambridge-Newton</td>\n      <td>Suffolk County</td>\n      <td>13</td>\n      <td>4800.0</td>\n      <td>5000.0</td>\n    </tr>\n  </tbody>\n</table>\n</div>"
     },
     "metadata": {},
     "execution_count": 21
    }
   ],
   "source": [
    "br5_data = pd.read_csv('C:/Users/Myles/Documents/GitHub/Project/bcs-project1/resources/City_MedianRentalPrice_5BedroomOrMore.csv',index_col='RegionName')\n",
    "\n",
    "br5_df = pd.DataFrame(br5_data).dropna(axis=1).drop(['Unnamed: 0','2019-01','2019-02','2019-03','2019-04','2019-05','2019-06','2019-07','2019-08','2019-09','2019-10','2019-11'],axis=1).sort_values('2019-12',ascending=False).rename(columns={'2019-12':'5+ BR Median Price'})\n",
    "\n",
    "br5_df.head()"
   ]
  },
  {
   "cell_type": "code",
   "execution_count": 37,
   "metadata": {},
   "outputs": [
    {
     "output_type": "execute_result",
     "data": {
      "text/plain": [
       "           State                    Metro        CountyName  SizeRank  \\\n",
       "RegionName                                                              \n",
       "Abilene       TX                  Abilene     Taylor County       211   \n",
       "Abilene       TX                  Abilene     Taylor County       244   \n",
       "Abilene       TX                  Abilene     Taylor County       234   \n",
       "Abington      MA  Boston-Cambridge-Newton   Plymouth County      1190   \n",
       "Acton         MA  Boston-Cambridge-Newton  Middlesex County      1117   \n",
       "\n",
       "            1 BR Median Price  2 BR Median Price  3 BR Median Price  \\\n",
       "RegionName                                                            \n",
       "Abilene                 565.0                0.0                0.0   \n",
       "Abilene                   0.0                0.0             1295.0   \n",
       "Abilene                   0.0              650.0                0.0   \n",
       "Abington                  0.0             2035.0                0.0   \n",
       "Acton                     0.0             1795.0                0.0   \n",
       "\n",
       "            4 BR Median Price  2018-12  5+ BR Median Price  \n",
       "RegionName                                                  \n",
       "Abilene                   0.0      0.0                 0.0  \n",
       "Abilene                   0.0      0.0                 0.0  \n",
       "Abilene                   0.0      0.0                 0.0  \n",
       "Abington                  0.0      0.0                 0.0  \n",
       "Acton                     0.0      0.0                 0.0  "
      ],
      "text/html": "<div>\n<style scoped>\n    .dataframe tbody tr th:only-of-type {\n        vertical-align: middle;\n    }\n\n    .dataframe tbody tr th {\n        vertical-align: top;\n    }\n\n    .dataframe thead th {\n        text-align: right;\n    }\n</style>\n<table border=\"1\" class=\"dataframe\">\n  <thead>\n    <tr style=\"text-align: right;\">\n      <th></th>\n      <th>State</th>\n      <th>Metro</th>\n      <th>CountyName</th>\n      <th>SizeRank</th>\n      <th>1 BR Median Price</th>\n      <th>2 BR Median Price</th>\n      <th>3 BR Median Price</th>\n      <th>4 BR Median Price</th>\n      <th>2018-12</th>\n      <th>5+ BR Median Price</th>\n    </tr>\n    <tr>\n      <th>RegionName</th>\n      <th></th>\n      <th></th>\n      <th></th>\n      <th></th>\n      <th></th>\n      <th></th>\n      <th></th>\n      <th></th>\n      <th></th>\n      <th></th>\n    </tr>\n  </thead>\n  <tbody>\n    <tr>\n      <th>Abilene</th>\n      <td>TX</td>\n      <td>Abilene</td>\n      <td>Taylor County</td>\n      <td>211</td>\n      <td>565.0</td>\n      <td>0.0</td>\n      <td>0.0</td>\n      <td>0.0</td>\n      <td>0.0</td>\n      <td>0.0</td>\n    </tr>\n    <tr>\n      <th>Abilene</th>\n      <td>TX</td>\n      <td>Abilene</td>\n      <td>Taylor County</td>\n      <td>244</td>\n      <td>0.0</td>\n      <td>0.0</td>\n      <td>1295.0</td>\n      <td>0.0</td>\n      <td>0.0</td>\n      <td>0.0</td>\n    </tr>\n    <tr>\n      <th>Abilene</th>\n      <td>TX</td>\n      <td>Abilene</td>\n      <td>Taylor County</td>\n      <td>234</td>\n      <td>0.0</td>\n      <td>650.0</td>\n      <td>0.0</td>\n      <td>0.0</td>\n      <td>0.0</td>\n      <td>0.0</td>\n    </tr>\n    <tr>\n      <th>Abington</th>\n      <td>MA</td>\n      <td>Boston-Cambridge-Newton</td>\n      <td>Plymouth County</td>\n      <td>1190</td>\n      <td>0.0</td>\n      <td>2035.0</td>\n      <td>0.0</td>\n      <td>0.0</td>\n      <td>0.0</td>\n      <td>0.0</td>\n    </tr>\n    <tr>\n      <th>Acton</th>\n      <td>MA</td>\n      <td>Boston-Cambridge-Newton</td>\n      <td>Middlesex County</td>\n      <td>1117</td>\n      <td>0.0</td>\n      <td>1795.0</td>\n      <td>0.0</td>\n      <td>0.0</td>\n      <td>0.0</td>\n      <td>0.0</td>\n    </tr>\n  </tbody>\n</table>\n</div>"
     },
     "metadata": {},
     "execution_count": 37
    }
   ],
   "source": [
    "brcombined_df = pd.concat(\n",
    "    [br1_df,br2_df,br3_df,br4_df,br5_df],\n",
    "    axis=0,\n",
    "    join=\"outer\"\n",
    ")\n",
    "brcombined_df = brcombined_df.sort_index(axis=0).fillna(0)\n",
    "brcombined_df.head()"
   ]
  },
  {
   "cell_type": "code",
   "execution_count": 9,
   "metadata": {},
   "outputs": [],
   "source": []
  }
 ]
}