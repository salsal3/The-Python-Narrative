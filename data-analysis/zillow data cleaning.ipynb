{
 "metadata": {
  "language_info": {
   "codemirror_mode": {
    "name": "ipython",
    "version": 3
   },
   "file_extension": ".py",
   "mimetype": "text/x-python",
   "name": "python",
   "nbconvert_exporter": "python",
   "pygments_lexer": "ipython3",
   "version": "3.8.8"
  },
  "orig_nbformat": 4,
  "kernelspec": {
   "name": "python3",
   "display_name": "Python 3.8.8 64-bit ('base': conda)"
  },
  "interpreter": {
   "hash": "52575ae80af061cc64d8b7f38a5cb1b871b63f9c1317091abcb24f04cea2ba60"
  }
 },
 "nbformat": 4,
 "nbformat_minor": 2,
 "cells": [
  {
   "cell_type": "code",
   "execution_count": 1,
   "metadata": {},
   "outputs": [],
   "source": [
    "# If at any point you're receiving the following TypeError message:\n",
    "## TypeError: Cannot interpret '<attribute 'dtype' of 'numpy.generic' objects>' as a data type\n",
    "# Check the compatibility of your versions of numpy and pandas:\n",
    "#print(np.__version__)\n",
    "#print(pd.__version__)\n",
    "\n",
    "##!pip install numpy==1.16.5 --user\n",
    "##!pip install pandas==0.25.3 --user\n",
    "\n",
    "# Import libraries and dependencies\n",
    "#import panel as pn\n",
    "#pn.extension('plotly')\n",
    "#import plotly.express as px\n",
    "import pandas as pd\n",
    "#import hvplot.pandas\n",
    "import matplotlib.pyplot as plt\n",
    "import numpy as np\n",
    "import os\n",
    "from pathlib import Path\n",
    "from dotenv import load_dotenv\n",
    "#import alpaca_trade_api as tradeapi\n",
    "#from MCForecastTools import MCSimulation\n",
    "import json, requests"
   ]
  },
  {
   "cell_type": "code",
   "execution_count": 2,
   "metadata": {},
   "outputs": [],
   "source": [
    "#Read in the data and create a Data Frame. Drop NA as we will only be using the most recent median prices available - 2019-12. Drop unused columns, sort values, and rename '2019-12 column to 'Median Price'\n",
    "br1_data = pd.read_csv('C:/Users/Myles/Documents/GitHub/bcs-project1/resources/City_MedianRentalPrice_1Bedroom.csv',index_col='RegionName')\n",
    "br1_df = pd.DataFrame(br1_data).dropna(axis=1).drop(['Unnamed: 0','2019-01','2019-02','2019-03','2019-04','2019-05','2019-06','2019-07','2019-08','2019-09','2019-10','2019-11'],axis=1).sort_values('2019-12',ascending=False).rename(columns={'2019-12':'1 BR Median Price'})\n",
    "\n",
    "br2_data = pd.read_csv('C:/Users/Myles/Documents/GitHub/bcs-project1/resources/City_MedianRentalPrice_2Bedroom.csv',index_col='RegionName')\n",
    "br2_df = pd.DataFrame(br2_data).dropna(axis=1).drop(['Unnamed: 0','2019-01','2019-02','2019-03','2019-04','2019-05','2019-06','2019-07','2019-08','2019-09','2019-10','2019-11'],axis=1).sort_values('2019-12',ascending=False).rename(columns={'2019-12':'2 BR Median Price'})\n",
    "\n",
    "br3_data = pd.read_csv('C:/Users/Myles/Documents/GitHub/bcs-project1/resources/City_MedianRentalPrice_3bedroom.csv',index_col='RegionName')\n",
    "br3_df = pd.DataFrame(br3_data).dropna(axis=1).drop(['Unnamed: 0','2019-01','2019-02','2019-03','2019-04','2019-05','2019-06','2019-07','2019-08','2019-09','2019-10','2019-11'],axis=1).sort_values('2019-12',ascending=False).rename(columns={'2019-12':'3 BR Median Price'})\n",
    "\n",
    "br4_data = pd.read_csv('C:/Users/Myles/Documents/GitHub/bcs-project1/resources/City_MedianRentalPrice_4Bedroom.csv',index_col='RegionName')\n",
    "br4_df = pd.DataFrame(br4_data).dropna(axis=1).drop(['Unnamed: 0','2019-01','2019-02','2019-03','2019-04','2019-05','2019-06','2019-07','2019-08','2019-09','2019-10','2019-11'],axis=1).sort_values('2019-12',ascending=False).rename(columns={'2019-12':'4 BR Median Price'})\n",
    "\n",
    "br5_data = pd.read_csv('C:/Users/Myles/Documents/GitHub/bcs-project1/resources/City_MedianRentalPrice_5BedroomOrMore.csv',index_col='RegionName')\n",
    "br5_df = pd.DataFrame(br5_data).dropna(axis=1).drop(['Unnamed: 0','2019-01','2019-02','2019-03','2019-04','2019-05','2019-06','2019-07','2019-08','2019-09','2019-10','2019-11'],axis=1).sort_values('2019-12',ascending=False).rename(columns={'2019-12':'5+ BR Median Price'})\n",
    "\n"
   ]
  },
  {
   "cell_type": "code",
   "execution_count": 3,
   "metadata": {},
   "outputs": [
    {
     "output_type": "execute_result",
     "data": {
      "text/plain": [
       "           State                    Metro        CountyName  SizeRank  \\\n",
       "RegionName                                                              \n",
       "Abilene       TX                  Abilene     Taylor County       211   \n",
       "Abilene       TX                  Abilene     Taylor County       244   \n",
       "Abilene       TX                  Abilene     Taylor County       234   \n",
       "Abington      MA  Boston-Cambridge-Newton   Plymouth County      1190   \n",
       "Acton         MA  Boston-Cambridge-Newton  Middlesex County      1117   \n",
       "\n",
       "            1 BR Median Price  2 BR Median Price  3 BR Median Price  \\\n",
       "RegionName                                                            \n",
       "Abilene                 565.0                0.0                0.0   \n",
       "Abilene                   0.0                0.0             1295.0   \n",
       "Abilene                   0.0              650.0                0.0   \n",
       "Abington                  0.0             2035.0                0.0   \n",
       "Acton                     0.0             1795.0                0.0   \n",
       "\n",
       "            4 BR Median Price  2018-12  5+ BR Median Price  \n",
       "RegionName                                                  \n",
       "Abilene                   0.0      0.0                 0.0  \n",
       "Abilene                   0.0      0.0                 0.0  \n",
       "Abilene                   0.0      0.0                 0.0  \n",
       "Abington                  0.0      0.0                 0.0  \n",
       "Acton                     0.0      0.0                 0.0  "
      ],
      "text/html": "<div>\n<style scoped>\n    .dataframe tbody tr th:only-of-type {\n        vertical-align: middle;\n    }\n\n    .dataframe tbody tr th {\n        vertical-align: top;\n    }\n\n    .dataframe thead th {\n        text-align: right;\n    }\n</style>\n<table border=\"1\" class=\"dataframe\">\n  <thead>\n    <tr style=\"text-align: right;\">\n      <th></th>\n      <th>State</th>\n      <th>Metro</th>\n      <th>CountyName</th>\n      <th>SizeRank</th>\n      <th>1 BR Median Price</th>\n      <th>2 BR Median Price</th>\n      <th>3 BR Median Price</th>\n      <th>4 BR Median Price</th>\n      <th>2018-12</th>\n      <th>5+ BR Median Price</th>\n    </tr>\n    <tr>\n      <th>RegionName</th>\n      <th></th>\n      <th></th>\n      <th></th>\n      <th></th>\n      <th></th>\n      <th></th>\n      <th></th>\n      <th></th>\n      <th></th>\n      <th></th>\n    </tr>\n  </thead>\n  <tbody>\n    <tr>\n      <th>Abilene</th>\n      <td>TX</td>\n      <td>Abilene</td>\n      <td>Taylor County</td>\n      <td>211</td>\n      <td>565.0</td>\n      <td>0.0</td>\n      <td>0.0</td>\n      <td>0.0</td>\n      <td>0.0</td>\n      <td>0.0</td>\n    </tr>\n    <tr>\n      <th>Abilene</th>\n      <td>TX</td>\n      <td>Abilene</td>\n      <td>Taylor County</td>\n      <td>244</td>\n      <td>0.0</td>\n      <td>0.0</td>\n      <td>1295.0</td>\n      <td>0.0</td>\n      <td>0.0</td>\n      <td>0.0</td>\n    </tr>\n    <tr>\n      <th>Abilene</th>\n      <td>TX</td>\n      <td>Abilene</td>\n      <td>Taylor County</td>\n      <td>234</td>\n      <td>0.0</td>\n      <td>650.0</td>\n      <td>0.0</td>\n      <td>0.0</td>\n      <td>0.0</td>\n      <td>0.0</td>\n    </tr>\n    <tr>\n      <th>Abington</th>\n      <td>MA</td>\n      <td>Boston-Cambridge-Newton</td>\n      <td>Plymouth County</td>\n      <td>1190</td>\n      <td>0.0</td>\n      <td>2035.0</td>\n      <td>0.0</td>\n      <td>0.0</td>\n      <td>0.0</td>\n      <td>0.0</td>\n    </tr>\n    <tr>\n      <th>Acton</th>\n      <td>MA</td>\n      <td>Boston-Cambridge-Newton</td>\n      <td>Middlesex County</td>\n      <td>1117</td>\n      <td>0.0</td>\n      <td>1795.0</td>\n      <td>0.0</td>\n      <td>0.0</td>\n      <td>0.0</td>\n      <td>0.0</td>\n    </tr>\n  </tbody>\n</table>\n</div>"
     },
     "metadata": {},
     "execution_count": 3
    }
   ],
   "source": [
    "#Combine the dataframes to include the Median Price for each\n",
    "\n",
    "brcombined_df = pd.concat(\n",
    "    [br1_df,br2_df,br3_df,br4_df,br5_df],\n",
    "    axis=0,\n",
    "    join=\"outer\"\n",
    ")\n",
    "brcombined_df = brcombined_df.sort_index(axis=0).fillna(0)\n",
    "brcombined_df.head()"
   ]
  },
  {
   "cell_type": "code",
   "execution_count": 4,
   "metadata": {},
   "outputs": [
    {
     "output_type": "execute_result",
     "data": {
      "text/plain": [
       "                                                                     1 BR Median Price  \\\n",
       "State CountyName                   Metro                 RegionName                      \n",
       "AK    Anchorage Borough            Anchorage             Anchorage               195.0   \n",
       "      Fairbanks North Star Borough Fairbanks             Fairbanks                 0.0   \n",
       "                                                         North Pole                0.0   \n",
       "      Matanuska Susitna Borough    Anchorage             Wasilla                   0.0   \n",
       "AL    Baldwin County               Daphne-Fairhope-Foley Daphne                    0.0   \n",
       "\n",
       "                                                                     2 BR Median Price  \\\n",
       "State CountyName                   Metro                 RegionName                      \n",
       "AK    Anchorage Borough            Anchorage             Anchorage               240.0   \n",
       "      Fairbanks North Star Borough Fairbanks             Fairbanks              1200.0   \n",
       "                                                         North Pole             1285.0   \n",
       "      Matanuska Susitna Borough    Anchorage             Wasilla                 500.0   \n",
       "AL    Baldwin County               Daphne-Fairhope-Foley Daphne                    0.0   \n",
       "\n",
       "                                                                     3 BR Median Price  \\\n",
       "State CountyName                   Metro                 RegionName                      \n",
       "AK    Anchorage Borough            Anchorage             Anchorage               345.0   \n",
       "      Fairbanks North Star Borough Fairbanks             Fairbanks                 0.0   \n",
       "                                                         North Pole                0.0   \n",
       "      Matanuska Susitna Borough    Anchorage             Wasilla                 697.5   \n",
       "AL    Baldwin County               Daphne-Fairhope-Foley Daphne                 1352.0   \n",
       "\n",
       "                                                                     4 BR Median Price  \\\n",
       "State CountyName                   Metro                 RegionName                      \n",
       "AK    Anchorage Borough            Anchorage             Anchorage               400.0   \n",
       "      Fairbanks North Star Borough Fairbanks             Fairbanks                 0.0   \n",
       "                                                         North Pole                0.0   \n",
       "      Matanuska Susitna Borough    Anchorage             Wasilla                   0.0   \n",
       "AL    Baldwin County               Daphne-Fairhope-Foley Daphne                    0.0   \n",
       "\n",
       "                                                                     5+ BR Median Price  \n",
       "State CountyName                   Metro                 RegionName                      \n",
       "AK    Anchorage Borough            Anchorage             Anchorage                360.0  \n",
       "      Fairbanks North Star Borough Fairbanks             Fairbanks                  0.0  \n",
       "                                                         North Pole                 0.0  \n",
       "      Matanuska Susitna Borough    Anchorage             Wasilla                    0.0  \n",
       "AL    Baldwin County               Daphne-Fairhope-Foley Daphne                     0.0  "
      ],
      "text/html": "<div>\n<style scoped>\n    .dataframe tbody tr th:only-of-type {\n        vertical-align: middle;\n    }\n\n    .dataframe tbody tr th {\n        vertical-align: top;\n    }\n\n    .dataframe thead th {\n        text-align: right;\n    }\n</style>\n<table border=\"1\" class=\"dataframe\">\n  <thead>\n    <tr style=\"text-align: right;\">\n      <th></th>\n      <th></th>\n      <th></th>\n      <th></th>\n      <th>1 BR Median Price</th>\n      <th>2 BR Median Price</th>\n      <th>3 BR Median Price</th>\n      <th>4 BR Median Price</th>\n      <th>5+ BR Median Price</th>\n    </tr>\n    <tr>\n      <th>State</th>\n      <th>CountyName</th>\n      <th>Metro</th>\n      <th>RegionName</th>\n      <th></th>\n      <th></th>\n      <th></th>\n      <th></th>\n      <th></th>\n    </tr>\n  </thead>\n  <tbody>\n    <tr>\n      <th rowspan=\"4\" valign=\"top\">AK</th>\n      <th>Anchorage Borough</th>\n      <th>Anchorage</th>\n      <th>Anchorage</th>\n      <td>195.0</td>\n      <td>240.0</td>\n      <td>345.0</td>\n      <td>400.0</td>\n      <td>360.0</td>\n    </tr>\n    <tr>\n      <th rowspan=\"2\" valign=\"top\">Fairbanks North Star Borough</th>\n      <th rowspan=\"2\" valign=\"top\">Fairbanks</th>\n      <th>Fairbanks</th>\n      <td>0.0</td>\n      <td>1200.0</td>\n      <td>0.0</td>\n      <td>0.0</td>\n      <td>0.0</td>\n    </tr>\n    <tr>\n      <th>North Pole</th>\n      <td>0.0</td>\n      <td>1285.0</td>\n      <td>0.0</td>\n      <td>0.0</td>\n      <td>0.0</td>\n    </tr>\n    <tr>\n      <th>Matanuska Susitna Borough</th>\n      <th>Anchorage</th>\n      <th>Wasilla</th>\n      <td>0.0</td>\n      <td>500.0</td>\n      <td>697.5</td>\n      <td>0.0</td>\n      <td>0.0</td>\n    </tr>\n    <tr>\n      <th>AL</th>\n      <th>Baldwin County</th>\n      <th>Daphne-Fairhope-Foley</th>\n      <th>Daphne</th>\n      <td>0.0</td>\n      <td>0.0</td>\n      <td>1352.0</td>\n      <td>0.0</td>\n      <td>0.0</td>\n    </tr>\n  </tbody>\n</table>\n</div>"
     },
     "metadata": {},
     "execution_count": 4
    }
   ],
   "source": [
    "#Create a pivot table to consolidate the information by Region. We also added states, metro, and CountyName as indices for future analysis options.\n",
    "\n",
    "br_data_table = pd.pivot_table(\n",
    "    brcombined_df, \n",
    "    index=['State','CountyName','Metro','RegionName'],\n",
    "    values=['1 BR Median Price','2 BR Median Price','3 BR Median Price','4 BR Median Price','5+ BR Median Price']\n",
    ")\n",
    "br_data_table.head()"
   ]
  },
  {
   "cell_type": "code",
   "execution_count": 5,
   "metadata": {},
   "outputs": [
    {
     "output_type": "stream",
     "name": "stdout",
     "text": [
      "c:\\Users\\Myles\\Documents\\GitHub\\bcs-project1\\resources\n"
     ]
    }
   ],
   "source": [
    "#Set the drive location to the 'resources' folder\n",
    "\n",
    "cd \\Users\\Myles\\Documents\\GitHub\\bcs-project1\\resources"
   ]
  },
  {
   "cell_type": "code",
   "execution_count": 6,
   "metadata": {},
   "outputs": [],
   "source": [
    "#Save the information to a CSV for purposes of reading it into the program\n",
    "br_data_table.to_csv('Zillow_Data.csv')"
   ]
  }
 ]
}